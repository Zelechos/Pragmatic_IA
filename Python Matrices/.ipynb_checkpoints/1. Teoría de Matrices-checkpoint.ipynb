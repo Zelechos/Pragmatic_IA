{
 "cells": [
  {
   "cell_type": "markdown",
   "metadata": {},
   "source": [
    "# Teoría de Matrices"
   ]
  },
  {
   "cell_type": "markdown",
   "metadata": {},
   "source": [
    "### Una Matriz es una tabla de Escalares $a_{ij}$ de la forma"
   ]
  },
  {
   "cell_type": "markdown",
   "metadata": {},
   "source": [
    "![](http://hyperphysics.phy-astr.gsu.edu/hbasees/Math/immath/mat1.gif)"
   ]
  },
  {
   "cell_type": "markdown",
   "metadata": {},
   "source": [
    "- La matriz anterior se denota tambien por ($a_{ij}$) , donde  i = 1 ,....,m ; j = 1 ,....,n\n",
    "- Los terminos horizontales son la Filas de la Matriz y los terminos verticales son sus Columnas.\n",
    "- Una matriz con m Filas y n Columnas se denomina matriz m por n o, matriz n x m.\n",
    "- Las matrices se denotarán usualmente por letras mayúsculas, A, B, ..., y los elementos de las mismas por minúsculas, a, b,"
   ]
  },
  {
   "cell_type": "markdown",
   "metadata": {},
   "source": [
    "### Ejemplo:"
   ]
  },
  {
   "cell_type": "markdown",
   "metadata": {},
   "source": [
    "###  La siguiente matriz es una matriz 2 X 3"
   ]
  },
  {
   "cell_type": "markdown",
   "metadata": {},
   "source": [
    "![](https://sabermatematica.com.br/wp-content/uploads/2014/04/exemplo-de-matriz-2x3-300x129.png)"
   ]
  },
  {
   "cell_type": "markdown",
   "metadata": {},
   "source": [
    "- Donde sus Filas son: $(1, -2, 3)$ y $(0, 4, 2)$\n",
    "- Y sus Columnas son:  $ {1 \\choose 0} $,$ {-2 \\choose 4}$ y ${3 \\choose 2} $"
   ]
  },
  {
   "cell_type": "markdown",
   "metadata": {},
   "source": [
    "# continuar en el proximo subtitulo (TIPOS DE MATRICES)"
   ]
  }
 ],
 "metadata": {
  "kernelspec": {
   "display_name": "Python 3",
   "language": "python",
   "name": "python3"
  },
  "language_info": {
   "codemirror_mode": {
    "name": "ipython",
    "version": 3
   },
   "file_extension": ".py",
   "mimetype": "text/x-python",
   "name": "python",
   "nbconvert_exporter": "python",
   "pygments_lexer": "ipython3",
   "version": "3.7.6"
  }
 },
 "nbformat": 4,
 "nbformat_minor": 4
}
