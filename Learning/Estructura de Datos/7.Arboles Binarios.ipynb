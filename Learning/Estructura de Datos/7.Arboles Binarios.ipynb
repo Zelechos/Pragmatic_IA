{
 "cells": [
  {
   "cell_type": "markdown",
   "metadata": {},
   "source": [
    "# Arboles Binarios"
   ]
  },
  {
   "cell_type": "markdown",
   "metadata": {},
   "source": [
    "## Ejemplo 0 "
   ]
  },
  {
   "cell_type": "code",
   "execution_count": 4,
   "metadata": {},
   "outputs": [],
   "source": [
    "# Implementacion de Nodo\n",
    "class Nodo:\n",
    "    \n",
    "    def __init__(self, Data = None, Parent = None, Is_Root = False, Is_Left = False, Is_Right = False):\n",
    "        self.Data = Data\n",
    "        self.Left = None\n",
    "        self.Right = None\n",
    "        self.Parent = Parent\n",
    "        self.Is_Left = Is_Left\n",
    "        self.Is_Right = Is_Right\n",
    "        self.Is_Root = Is_Root"
   ]
  },
  {
   "cell_type": "code",
   "execution_count": 9,
   "metadata": {},
   "outputs": [],
   "source": [
    "class ArbolDeBusquedaBinario:\n",
    "    \n",
    "    def __init__(self):\n",
    "        self.Root = None\n",
    "        \n",
    "    def Empty(self):\n",
    "        if self.Root == None:\n",
    "            return True\n",
    "        else:\n",
    "            return False\n",
    "        \n",
    "    def Add(self,Data):\n",
    "        if self.Empty:\n",
    "            self.Root = Nodo(Data = Data, Is_Root = True)\n",
    "        else:\n",
    "            nodo = self.__get_place(Data)\n",
    "            if Data <= nodo.Data:\n",
    "                nodo.Left = Nodo(Data = Data, Parent = nodo, Is_Left = True)\n",
    "            else:\n",
    "                nodo.Right = Nodo(Data = Data, Parent = nodo, Is_Right = True)\n",
    "                \n",
    "    def __get_place(self,Data):\n",
    "        Aux = self.Root\n",
    "        while Aux:\n",
    "            Temp = Aux\n",
    "            if Data <= Aux.Data:\n",
    "                Aux = Aux.Left\n",
    "            else:\n",
    "                Aux = Aux.Right\n",
    "        return Temp\n",
    "    \n",
    "    def ShowInOrder(self,nodo):\n",
    "        #Izquierda - Raiz - Derecha\n",
    "        if nodo:\n",
    "            self.ShowInOrder(nodo.Left)\n",
    "            print(nodo.Data)\n",
    "            self.ShowInOrder(nodo.Right)\n",
    "            \n",
    "    def ShowPreOrder(self,nodo):\n",
    "        #Raiz - Izquierda - Derecha\n",
    "        if nodo:\n",
    "            print(nodo.Data)\n",
    "            self.ShowPreOrder(nodo.Left)\n",
    "            self.ShowPreOrder(nodo.Right)\n",
    "\n",
    "    def ShowPosOrder(self,nodo):\n",
    "        #Izquierda - Derecha - Raiz\n",
    "        if nodo:\n",
    "            self.ShowPosOrder(nodo.Left)\n",
    "            self.ShowPosOrder(nodo.Right)\n",
    "            print(nodo.Data)\n",
    "        "
   ]
  },
  {
   "cell_type": "code",
   "execution_count": 10,
   "metadata": {},
   "outputs": [
    {
     "name": "stdout",
     "output_type": "stream",
     "text": [
      "7\n"
     ]
    }
   ],
   "source": [
    "Arbol = ArbolDeBusquedaBinario()\n",
    "\n",
    "Arbol.Add(8)\n",
    "Arbol.Add(10)\n",
    "Arbol.Add(3)\n",
    "Arbol.Add(14)\n",
    "Arbol.Add(13)\n",
    "Arbol.Add(1)\n",
    "Arbol.Add(6)\n",
    "Arbol.Add(4)\n",
    "Arbol.Add(7)\n",
    "\n",
    "\n",
    "Arbol.ShowInOrder(Arbol.Root)\n",
    "#Arbol.ShowPreOrder(Arbol.Root)\n",
    "#Arbol.ShowPosOrder(Arbol.Root)"
   ]
  },
  {
   "cell_type": "code",
   "execution_count": 11,
   "metadata": {},
   "outputs": [
    {
     "name": "stdout",
     "output_type": "stream",
     "text": [
      "9\n",
      "13\n",
      "15\n",
      "20\n",
      "21\n",
      "33\n",
      "53\n"
     ]
    }
   ],
   "source": [
    "class Nodo:\n",
    "    def __init__(self,Dato):\n",
    "        self.Izquierda = None\n",
    "        self.Derecha = None\n",
    "        self.Dato = Dato\n",
    "        \n",
    "def Insert(raiz,nodo):\n",
    "    if raiz is None:\n",
    "        raiz = nodo\n",
    "    else:\n",
    "        if raiz.Dato < nodo.Dato:\n",
    "            if raiz.Derecha is None:\n",
    "                raiz.Derecha = nodo\n",
    "            else:\n",
    "                Insert(raiz.Derecha,nodo)\n",
    "        else:\n",
    "            if raiz.Izquierda is None:\n",
    "                raiz.Izquierda = nodo\n",
    "            else:\n",
    "                Insert(raiz.Izquierda,nodo)\n",
    "            \n",
    "def InOrder(raiz):\n",
    "    if raiz is not None:\n",
    "        InOrder(raiz.Izquierda)\n",
    "        print(raiz.Dato)\n",
    "        InOrder(raiz.Derecha)\n",
    "        \n",
    "        \n",
    "raiz = Nodo(21)            \n",
    "\n",
    "Insert(raiz,Nodo(13))\n",
    "Insert(raiz,Nodo(15))\n",
    "Insert(raiz,Nodo(9))\n",
    "Insert(raiz,Nodo(53))\n",
    "Insert(raiz,Nodo(33))\n",
    "Insert(raiz,Nodo(20))\n",
    "\n",
    "InOrder(raiz)"
   ]
  }
 ],
 "metadata": {
  "kernelspec": {
   "display_name": "Python 3",
   "language": "python",
   "name": "python3"
  },
  "language_info": {
   "codemirror_mode": {
    "name": "ipython",
    "version": 3
   },
   "file_extension": ".py",
   "mimetype": "text/x-python",
   "name": "python",
   "nbconvert_exporter": "python",
   "pygments_lexer": "ipython3",
   "version": "3.7.6"
  }
 },
 "nbformat": 4,
 "nbformat_minor": 4
}
