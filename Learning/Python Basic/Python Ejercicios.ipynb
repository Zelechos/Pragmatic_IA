{
 "cells": [
  {
   "cell_type": "markdown",
   "metadata": {},
   "source": [
    "### Ejercicio 0"
   ]
  },
  {
   "cell_type": "markdown",
   "metadata": {},
   "source": [
    "El ácido desoxirribonucleico (ADN) es una sustancia química que se encuentra en el núcleo de las células y lleva las \"instrucciones\" para el desarrollo y funcionamiento de los organismos vivos.\n",
    "\n",
    "Si quieres saber más http://en.wikipedia.org/wiki/DNA\n",
    "\n",
    "En las cadenas de ADN, los símbolos \"A\" y \"T\" son complementarios entre sí, como \"C\" y \"G\". Tienes función con un lado del ADN (cadena, excepto Haskell); necesitas obtener el otro lado complementario. La hebra de ADN nunca está vacía o no hay ADN en absoluto (nuevamente, a excepción de Haskell).\n",
    "\n",
    "Más ejercicios similares se encuentran aquí http://rosalind.info/problems/list-view/ (fuente)\n",
    "\n",
    "Ejemplo:\n",
    "La funcion debe llevar el nombre (DNA_strand)\n",
    "\n",
    "```Python\n",
    "  DNA_strand (\"ATTGC\") # return \"TAACG\"\n",
    "  DNA_strand (\"GTAT\")  # return \"CATA\"\n",
    "```"
   ]
  },
  {
   "cell_type": "code",
   "execution_count": 4,
   "metadata": {},
   "outputs": [
    {
     "name": "stdout",
     "output_type": "stream",
     "text": [
      "Prueba 1 :\n",
      "TAACG\n",
      "Prueba 2 :\n",
      "CATA\n"
     ]
    }
   ],
   "source": [
    "def DNA_strand(dna):\n",
    "    word = { \"A\":\"T\",\"T\":\"A\",\"G\":\"C\",\"C\":\"G\"}\n",
    "    return \"\".join([word[X] for X in dna])\n",
    "\n",
    "print('Prueba 1 :')\n",
    "print(DNA_strand(\"ATTGC\"))\n",
    "print('Prueba 2 :')\n",
    "print(DNA_strand(\"GTAT\"))"
   ]
  },
  {
   "cell_type": "markdown",
   "metadata": {},
   "source": [
    "### Ejercicio 1"
   ]
  },
  {
   "cell_type": "markdown",
   "metadata": {},
   "source": [
    "John quiere dar una bonificación total de $ 851 a sus tres empleados, teniendo en cuenta de manera justa su número de días de ausencia durante el año pasado. El empleado A estuvo ausente 18 días, B 15 días y C 12 días.\n",
    "\n",
    "Cuantas más ausencias, menor bonificación ...\n",
    "\n",
    "¿Cuánto debe recibir cada empleado? John piensa que A recibe $ 230, B $ 276, C $ 345.\n",
    "\n",
    "Tarea:\n",
    "Dada una matriz arr (número de días de ausencia para cada empleado) y un número s (bonificación total), la función de bonificación (arr, s) devuelve una matriz de las bonificaciones justas de todos los empleados en el mismo orden que su número de días de ausencias.\n",
    "\n",
    "sy todos los elementos de las matrices son números enteros positivos.\n",
    "\n",
    "Ejemplos:\n",
    "```Python\n",
    "    bonus([18, 15, 12], 851) -> [230, 276, 345]\n",
    "\n",
    "    bonus([30, 27, 8, 14, 7], 34067) -> [2772, 3080, 10395, 5940, 11880]\n",
    "```\n",
    "Notas\n",
    "Solo hay números enteros en el kata, así que trate de no usar flotantes si es posible con su idioma.\n",
    "Consulte Casos de prueba de ejemplo para obtener más ejemplos.\n",
    "Pregunte antes de traducir: algunas traducciones ya están escritas y publicadas cuando / si se aprueba el kata.\n",
    "En las pruebas aleatorias, la cantidad de elementos de arr puede ser grande"
   ]
  },
  {
   "cell_type": "code",
   "execution_count": 155,
   "metadata": {},
   "outputs": [
    {
     "data": {
      "text/plain": [
       "11582.78"
      ]
     },
     "execution_count": 155,
     "metadata": {},
     "output_type": "execute_result"
    }
   ],
   "source": [
    "34067 * 0.34"
   ]
  },
  {
   "cell_type": "code",
   "execution_count": 11,
   "metadata": {},
   "outputs": [
    {
     "data": {
      "text/plain": [
       "45"
      ]
     },
     "execution_count": 11,
     "metadata": {},
     "output_type": "execute_result"
    }
   ],
   "source": [
    "12+18+15"
   ]
  },
  {
   "cell_type": "code",
   "execution_count": 12,
   "metadata": {},
   "outputs": [
    {
     "data": {
      "text/plain": [
       "15.0"
      ]
     },
     "execution_count": 12,
     "metadata": {},
     "output_type": "execute_result"
    }
   ],
   "source": [
    "_/3"
   ]
  },
  {
   "cell_type": "code",
   "execution_count": 18,
   "metadata": {},
   "outputs": [
    {
     "data": {
      "text/plain": [
       "18.91111111111111"
      ]
     },
     "execution_count": 18,
     "metadata": {},
     "output_type": "execute_result"
    }
   ],
   "source": [
    "851/45"
   ]
  },
  {
   "cell_type": "code",
   "execution_count": 30,
   "metadata": {},
   "outputs": [
    {
     "data": {
      "text/plain": [
       "47.27777777777778"
      ]
     },
     "execution_count": 30,
     "metadata": {},
     "output_type": "execute_result"
    }
   ],
   "source": [
    "851/18"
   ]
  },
  {
   "cell_type": "code",
   "execution_count": 32,
   "metadata": {},
   "outputs": [
    {
     "data": {
      "text/plain": [
       "-56.539999999999964"
      ]
     },
     "execution_count": 32,
     "metadata": {},
     "output_type": "execute_result"
    }
   ],
   "source": [
    "283.66 - 18 * 18.9"
   ]
  },
  {
   "cell_type": "code",
   "execution_count": 46,
   "metadata": {},
   "outputs": [
    {
     "data": {
      "text/plain": [
       "8.51"
      ]
     },
     "execution_count": 46,
     "metadata": {},
     "output_type": "execute_result"
    }
   ],
   "source": [
    "851/100"
   ]
  },
  {
   "cell_type": "code",
   "execution_count": 80,
   "metadata": {},
   "outputs": [
    {
     "data": {
      "text/plain": [
       "153.18"
      ]
     },
     "execution_count": 80,
     "metadata": {},
     "output_type": "execute_result"
    }
   ],
   "source": [
    "18 * 8.51"
   ]
  },
  {
   "cell_type": "code",
   "execution_count": 151,
   "metadata": {},
   "outputs": [
    {
     "data": {
      "text/plain": [
       "340.40000000000003"
      ]
     },
     "execution_count": 151,
     "metadata": {},
     "output_type": "execute_result"
    }
   ],
   "source": [
    "851 * 0.40"
   ]
  },
  {
   "cell_type": "code",
   "execution_count": 87,
   "metadata": {},
   "outputs": [
    {
     "data": {
      "text/plain": [
       "283.6666666666667"
      ]
     },
     "execution_count": 87,
     "metadata": {},
     "output_type": "execute_result"
    }
   ],
   "source": [
    "851/3"
   ]
  },
  {
   "cell_type": "code",
   "execution_count": 111,
   "metadata": {},
   "outputs": [
    {
     "data": {
      "text/plain": [
       "229.77"
      ]
     },
     "execution_count": 111,
     "metadata": {},
     "output_type": "execute_result"
    }
   ],
   "source": [
    "851 * 0.27"
   ]
  },
  {
   "cell_type": "code",
   "execution_count": 144,
   "metadata": {},
   "outputs": [
    {
     "data": {
      "text/plain": [
       "345.7896666666667"
      ]
     },
     "execution_count": 144,
     "metadata": {},
     "output_type": "execute_result"
    }
   ],
   "source": [
    "#18  15\n",
    "283.6666666666667 + 8.51 * 7.3"
   ]
  },
  {
   "cell_type": "code",
   "execution_count": 181,
   "metadata": {},
   "outputs": [
    {
     "data": {
      "text/plain": [
       "2.3315068493150686"
      ]
     },
     "execution_count": 181,
     "metadata": {},
     "output_type": "execute_result"
    }
   ],
   "source": [
    "851/365"
   ]
  },
  {
   "cell_type": "code",
   "execution_count": 183,
   "metadata": {},
   "outputs": [
    {
     "data": {
      "text/plain": [
       "823.0219178082192"
      ]
     },
     "execution_count": 183,
     "metadata": {},
     "output_type": "execute_result"
    }
   ],
   "source": [
    "_ * 353"
   ]
  },
  {
   "cell_type": "markdown",
   "metadata": {},
   "source": [
    "# respuestas"
   ]
  },
  {
   "cell_type": "code",
   "execution_count": 62,
   "metadata": {},
   "outputs": [
    {
     "data": {
      "text/plain": [
       "229.76999999999998"
      ]
     },
     "execution_count": 62,
     "metadata": {},
     "output_type": "execute_result"
    }
   ],
   "source": [
    "27 * 8.51"
   ]
  },
  {
   "cell_type": "code",
   "execution_count": 166,
   "metadata": {},
   "outputs": [
    {
     "data": {
      "text/plain": [
       "276.575"
      ]
     },
     "execution_count": 166,
     "metadata": {},
     "output_type": "execute_result"
    }
   ],
   "source": [
    "32.5*8.51"
   ]
  },
  {
   "cell_type": "code",
   "execution_count": 167,
   "metadata": {},
   "outputs": [
    {
     "data": {
      "text/plain": [
       "851.0"
      ]
     },
     "execution_count": 167,
     "metadata": {},
     "output_type": "execute_result"
    }
   ],
   "source": [
    "40.5 * 8.51 + 276.575 + 229.76999999999998"
   ]
  }
 ],
 "metadata": {
  "kernelspec": {
   "display_name": "Python 3",
   "language": "python",
   "name": "python3"
  },
  "language_info": {
   "codemirror_mode": {
    "name": "ipython",
    "version": 3
   },
   "file_extension": ".py",
   "mimetype": "text/x-python",
   "name": "python",
   "nbconvert_exporter": "python",
   "pygments_lexer": "ipython3",
   "version": "3.7.6"
  }
 },
 "nbformat": 4,
 "nbformat_minor": 4
}
