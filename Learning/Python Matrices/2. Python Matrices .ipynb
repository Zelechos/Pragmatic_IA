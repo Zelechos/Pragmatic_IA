{
 "cells": [
  {
   "cell_type": "markdown",
   "metadata": {},
   "source": [
    "# Matrices"
   ]
  },
  {
   "cell_type": "code",
   "execution_count": 1,
   "metadata": {},
   "outputs": [
    {
     "name": "stdout",
     "output_type": "stream",
     "text": [
      "Forma Sencilla para Imprimir una Matriz: \n",
      " [[0, 1, 1, 1, 1], [1, 0, 1, 1, 1], [1, 1, 0, 1, 1], [1, 1, 1, 0, 1], [1, 1, 1, 1, 0]]\n",
      "Forma mas Compleja de Imprimir una Matriz pero mas estetica:\n",
      "[0, 1, 1, 1, 1]\n",
      "[1, 0, 1, 1, 1]\n",
      "[1, 1, 0, 1, 1]\n",
      "[1, 1, 1, 0, 1]\n",
      "[1, 1, 1, 1, 0]\n",
      "Accediendo a un elemento en particular:\n",
      " 0\n",
      "Matriz 10x10:\n",
      "[3, 5, 9, 1, 0, 0, 3, 4, 6, 7]\n",
      "[7, 7, 7, 9, 9, 3, 3, 1, 0, 1]\n",
      "[0, 2, 0, 4, 3, 6, 7, 5, 8, 9]\n",
      "[1, 3, 2, 4, 3, 5, 4, 6, 4, 9]\n",
      "[0, 0, 0, 1, 1, 1, 4, 5, 6, 7]\n",
      "[2, 3, 4, 5, 7, 8, 9, 0, 1, 2]\n",
      "[2, 3, 4, 1, 8, 7, 6, 0, 9, 1]\n",
      "[1, 6, 0, 3, 7, 9, 3, 4, 1, 6]\n",
      "[0, 0, 0, 2, 8, 9, 9, 1, 5, 0]\n",
      "[3, 0, 6, 1, 9, 3, 8, 2, 4, 0]\n"
     ]
    }
   ],
   "source": [
    "Matriz = [[0,1,1,1,1],[1,0,1,1,1],[1,1,0,1,1],[1,1,1,0,1],[1,1,1,1,0]]\n",
    "\n",
    "\n",
    "print('Forma Sencilla para Imprimir una Matriz: \\n',Matriz)\n",
    "\n",
    "print('Forma mas Compleja de Imprimir una Matriz pero mas estetica:')\n",
    "for i in Matriz:#ajaa que compleja haha\n",
    "    print(i)\n",
    "\n",
    "print('Accediendo a un elemento en particular:\\n',Matriz[2][2])\n",
    "\n",
    "\n",
    "\n",
    "#        Construyendo una Matriz 10 x 10\n",
    "         \n",
    "  #         0 1 2 3 4 5 6 7 8 9 \n",
    "  #        ---------------------\n",
    "  #      0|3 5 9 1 0 0 3 4 6 7 |\n",
    "  #      1|7 7 7 9 9 3 3 1 0 1 |\n",
    "  #      2|0 2 0 4 3 6 7 5 8 9 |\n",
    "  #      3|1 3 2 4 3 5 4 6 4 9 |\n",
    "  #      4|0 0 0 1 1 1 4 5 6 7 |\n",
    "  #      5|2 3 4 5 7 8 9 0 1 2 |\n",
    "  #      6|2 3 4 1 8 7 6 0 9 1 | \n",
    "  #      7|1 6 0 3 7 9 3 4 1 6 |\n",
    "  #      8|0 0 0 2 8 9 9 1 5 0 |\n",
    "  #      9|3 0 6 1 9 3 8 2 4 0 |\n",
    "\n",
    "    \n",
    "Matriz_Actual = [[3,5,9,1,0,0,3,4,6,7],[7,7,7,9,9,3,3,1,0,1],[0,2,0,4,3,6,7,5,8,9]\n",
    "                 ,[1,3,2,4,3,5,4,6,4,9],[0,0,0,1,1,1,4,5,6,7],[2,3,4,5,7,8,9,0,1,2]\n",
    "                 ,[2,3,4,1,8,7,6,0,9,1],[1,6,0,3,7,9,3,4,1,6],[0,0,0,2,8,9,9,1,5,0]\n",
    "                ,[3,0,6,1,9,3,8,2,4,0]]    \n",
    "\n",
    "print('Matriz 10x10:')\n",
    "for x in Matriz_Actual:\n",
    "    print(x)"
   ]
  },
  {
   "cell_type": "markdown",
   "metadata": {},
   "source": [
    "## Creando un a Matriz"
   ]
  },
  {
   "cell_type": "code",
   "execution_count": 2,
   "metadata": {},
   "outputs": [
    {
     "name": "stdout",
     "output_type": "stream",
     "text": [
      "\n",
      "Matriz creada con tres bucles for de Codigo:\n",
      "\n",
      "[0, 0, 0, 0, 0]\n",
      "[0, 0, 0, 0, 0]\n",
      "[0, 0, 0, 0, 0]\n",
      "[0, 0, 0, 0, 0]\n",
      "[0, 0, 0, 0, 0]\n",
      "\n",
      "Matriz creada con una sola linea de Codigo:\n",
      "\n",
      "[0, 1, 2, 3, 4, 5, 6, 7, 8, 9]\n",
      "[0, 1, 2, 3, 4, 5, 6, 7, 8, 9]\n",
      "[0, 1, 2, 3, 4, 5, 6, 7, 8, 9]\n",
      "[0, 1, 2, 3, 4, 5, 6, 7, 8, 9]\n",
      "[0, 1, 2, 3, 4, 5, 6, 7, 8, 9]\n",
      "[0, 1, 2, 3, 4, 5, 6, 7, 8, 9]\n",
      "[0, 1, 2, 3, 4, 5, 6, 7, 8, 9]\n",
      "[0, 1, 2, 3, 4, 5, 6, 7, 8, 9]\n",
      "[0, 1, 2, 3, 4, 5, 6, 7, 8, 9]\n",
      "[0, 1, 2, 3, 4, 5, 6, 7, 8, 9]\n"
     ]
    }
   ],
   "source": [
    "# Creando Matrices\n",
    "\n",
    "Matriz = []\n",
    "\n",
    "filas = 5\n",
    "columnas = 5\n",
    "\n",
    "print('\\nMatriz creada con tres bucles for de Codigo:\\n')\n",
    "for x in range(filas):\n",
    "    Matriz.append([])\n",
    "    for y in range(columnas):\n",
    "        #Matriz[x].push(input('digite un elemento:'))\n",
    "        Matriz[x].append(0)\n",
    "        \n",
    "for m in Matriz:\n",
    "    print(m)\n",
    "    \n",
    "print('\\nMatriz creada con una sola linea de Codigo:\\n')\n",
    "matrix = [list(range(10)) for x in range(10)]    \n",
    "\n",
    "for z in matrix:\n",
    "    print(z)"
   ]
  },
  {
   "cell_type": "markdown",
   "metadata": {},
   "source": [
    "### Ejercicios de Matrices\n",
    "1. Crear un matriz de 3X9(con un for dentro de un array)\n",
    "2. Crear un matriz de 7X2\n",
    "3. Crear un matriz de 9X1(con un for dentro de un array)\n",
    "4. Crear un matriz de 5X10"
   ]
  },
  {
   "cell_type": "markdown",
   "metadata": {},
   "source": [
    "### 1. Crear un matriz de 3X9(con un for dentro de un array)"
   ]
  },
  {
   "cell_type": "code",
   "execution_count": 5,
   "metadata": {},
   "outputs": [
    {
     "name": "stdout",
     "output_type": "stream",
     "text": [
      "Matriz 3 X 9 :\n",
      "[0, 1, 2, 3, 4, 5, 6, 7, 8]\n",
      "[0, 1, 2, 3, 4, 5, 6, 7, 8]\n",
      "[0, 1, 2, 3, 4, 5, 6, 7, 8]\n"
     ]
    }
   ],
   "source": [
    "Matriz = [list(range(9)) for x in range(3)]\n",
    "print(\"Matriz 3 X 9 :\")\n",
    "for Fila in Matriz:\n",
    "    print(Fila)"
   ]
  }
 ],
 "metadata": {
  "kernelspec": {
   "display_name": "Python 3",
   "language": "python",
   "name": "python3"
  },
  "language_info": {
   "codemirror_mode": {
    "name": "ipython",
    "version": 3
   },
   "file_extension": ".py",
   "mimetype": "text/x-python",
   "name": "python",
   "nbconvert_exporter": "python",
   "pygments_lexer": "ipython3",
   "version": "3.7.6"
  }
 },
 "nbformat": 4,
 "nbformat_minor": 4
}
