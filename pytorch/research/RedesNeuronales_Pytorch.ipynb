{
  "nbformat": 4,
  "nbformat_minor": 0,
  "metadata": {
    "colab": {
      "name": "RedesNeuronales_Pytorch.ipynb",
      "provenance": [],
      "collapsed_sections": [],
      "authorship_tag": "ABX9TyPjmeu6yXTDFa4Fnek5oEUr",
      "include_colab_link": true
    },
    "kernelspec": {
      "name": "python3",
      "display_name": "Python 3"
    },
    "language_info": {
      "name": "python"
    },
    "accelerator": "GPU"
  },
  "cells": [
    {
      "cell_type": "markdown",
      "metadata": {
        "id": "view-in-github",
        "colab_type": "text"
      },
      "source": [
        "<a href=\"https://colab.research.google.com/github/Zelechos/Pragmatic_IA/blob/master/Pytorch/RedesNeuronales_Pytorch.ipynb\" target=\"_parent\"><img src=\"https://colab.research.google.com/assets/colab-badge.svg\" alt=\"Open In Colab\"/></a>"
      ]
    },
    {
      "cell_type": "code",
      "metadata": {
        "id": "ssKG6GDx9tyR"
      },
      "source": [
        "import torch"
      ],
      "execution_count": 35,
      "outputs": []
    },
    {
      "cell_type": "markdown",
      "metadata": {
        "id": "qWrMS8gU_6e5"
      },
      "source": [
        "# Modelos Secuenciales\n",
        "La forma más sencilla de definir una red neuronal en Pytorch es utilizando la clase Sequentail. Esta clase nos permite definir una secuencia de capas, que se aplicarán de manera secuencial (las salidas de una capa serán la entrada de la siguiente). Ésto ya lo conocemos de posts anteriores, ya que es la forma ideal de definir un Perceptrón Multicapa."
      ]
    },
    {
      "cell_type": "code",
      "metadata": {
        "colab": {
          "base_uri": "https://localhost:8080/"
        },
        "id": "8UUOVJdb_5jw",
        "outputId": "647a6343-e80e-4f60-a57c-4148843e0d46"
      },
      "source": [
        "Capa_Entrada , Capa_Oculta , Capa_Salida = 784 , 100 , 10\n",
        "print(\"Capa Entrada : \",Capa_Entrada)\n",
        "print(\"Capa Oculta : \",Capa_Oculta)\n",
        "print(\"Capa Salida : \",Capa_Salida)\n",
        "# Creamos un Perceptron multicapa\n",
        "model = torch.nn.Sequential(\n",
        "    torch.nn.Linear(Capa_Entrada , Capa_Oculta),# Conectamos la Capa de entrada con la Capa Oculta\n",
        "    torch.nn.ReLU(),# usamos la funcion relu para evitar lo valores negartivos ya que no son importantes\n",
        "    torch.nn.Linear(Capa_Oculta, Capa_Salida)# Conectamos la Capa Oculta con la Capa de Salida\n",
        ")\n",
        "# El Perceptron Multicapa(MLP) que acabamos de crear tiene 784 entradas , 100 neuronas en la capa oculta y 10 salidas"
      ],
      "execution_count": 36,
      "outputs": [
        {
          "output_type": "stream",
          "text": [
            "Capa Entrada :  784\n",
            "Capa Oculta :  100\n",
            "Capa Salida :  10\n"
          ],
          "name": "stdout"
        }
      ]
    },
    {
      "cell_type": "markdown",
      "metadata": {
        "id": "sZ3fBkfrERKM"
      },
      "source": [
        "### A continuacion podemos apreciar un perceptron multicapa mas conocida como una Red Neuronal Artificial RNA\n",
        "![](https://upload.wikimedia.org/wikipedia/commons/6/64/RedNeuronalArtificial.png)"
      ]
    },
    {
      "cell_type": "code",
      "metadata": {
        "colab": {
          "base_uri": "https://localhost:8080/"
        },
        "id": "Nbk5EdM7E7bK",
        "outputId": "474ce2d7-e80e-43e1-e05d-15cd5a5732aa"
      },
      "source": [
        "outputs = model(torch.randn(64, 784))# 64 vectores con 784 valores cada uno es similar a pasarle 64 imagenes de el dataset MNIST\n",
        "\n",
        "# NOTA IMPORTANTE : casi todos los modeles torch.nn esperan como primera parametro el batch que en este caso le pusimos 64\n",
        "\n",
        "print(outputs.shape) # Mostramos las longitudes de nuestro tensor\n",
        "\n",
        "# el tensor que devuelve el model tiene 64 vectores cada uno con 10 valores\n",
        "#print(\"Mostramos el Tensor que devuelve el modelo : \\n\",outputs)\n",
        "\n",
        "print(\"notar que cada vector del tensor tiene 10 valores como hemos establecido en la salida del Perceptron Multicapa : \\n\",\n",
        "      outputs[0],\n",
        "      \" \\n longitud : \" ,len(outputs[0]))"
      ],
      "execution_count": 37,
      "outputs": [
        {
          "output_type": "stream",
          "text": [
            "torch.Size([64, 10])\n",
            "notar que cada vector del tensor tiene 10 valores como hemos establecido en la salida del Perceptron Multicapa : \n",
            " tensor([-0.1759, -0.1092, -0.0879, -0.3150, -0.1319, -0.0724,  0.3294, -0.7903,\n",
            "        -0.1796, -0.1642], grad_fn=<SelectBackward>)  \n",
            " longitud :  10\n"
          ],
          "name": "stdout"
        }
      ]
    },
    {
      "cell_type": "code",
      "metadata": {
        "colab": {
          "base_uri": "https://localhost:8080/"
        },
        "id": "I9VlVvvyH21a",
        "outputId": "cb67cda5-3907-4b41-af59-15f95cf66eb0"
      },
      "source": [
        "# para entrenar esta Red Neuronal Artificial utilizamos GPU\n",
        "model.to(\"cuda\")"
      ],
      "execution_count": 38,
      "outputs": [
        {
          "output_type": "execute_result",
          "data": {
            "text/plain": [
              "Sequential(\n",
              "  (0): Linear(in_features=784, out_features=100, bias=True)\n",
              "  (1): ReLU()\n",
              "  (2): Linear(in_features=100, out_features=10, bias=True)\n",
              ")"
            ]
          },
          "metadata": {
            "tags": []
          },
          "execution_count": 38
        }
      ]
    },
    {
      "cell_type": "code",
      "metadata": {
        "colab": {
          "base_uri": "https://localhost:8080/"
        },
        "id": "5D2KVzShLh_i",
        "outputId": "c0ac87b8-7f60-4492-b62d-69cdb62b66d2"
      },
      "source": [
        "from sklearn.datasets import fetch_openml\n",
        "\n",
        "# descarga datos\n",
        "\n",
        "mnist = fetch_openml('mnist_784', version=1)\n",
        "X, Y = mnist[\"data\"], mnist[\"target\"]\n",
        "\n",
        "X.shape, Y.shape"
      ],
      "execution_count": 39,
      "outputs": [
        {
          "output_type": "execute_result",
          "data": {
            "text/plain": [
              "((70000, 784), (70000,))"
            ]
          },
          "metadata": {
            "tags": []
          },
          "execution_count": 39
        }
      ]
    },
    {
      "cell_type": "code",
      "metadata": {
        "colab": {
          "base_uri": "https://localhost:8080/"
        },
        "id": "INw3qlstLh9H",
        "outputId": "122bc337-31a0-44ef-e1b0-35a90f200f29"
      },
      "source": [
        "import numpy as np\n",
        "\n",
        "# normalización y split\n",
        "\n",
        "X_train, X_test, y_train, y_test = X[:60000] / 255., X[60000:] / 255., Y[:60000].astype(np.int), Y[60000:].astype(np.int)\n",
        "\n",
        "print(\"Mostrando data train  & el data test\")\n",
        "print(\"Data train : \",X_train , y_train)\n",
        "print(\"Data train longitudes : \",len(X_train[0]) , len(y_train))"
      ],
      "execution_count": 40,
      "outputs": [
        {
          "output_type": "stream",
          "text": [
            "Mostrando data train  & el data test\n",
            "Data train :  [[0. 0. 0. ... 0. 0. 0.]\n",
            " [0. 0. 0. ... 0. 0. 0.]\n",
            " [0. 0. 0. ... 0. 0. 0.]\n",
            " ...\n",
            " [0. 0. 0. ... 0. 0. 0.]\n",
            " [0. 0. 0. ... 0. 0. 0.]\n",
            " [0. 0. 0. ... 0. 0. 0.]] [5 0 4 ... 5 6 8]\n",
            "Data train longitudes :  784 60000\n"
          ],
          "name": "stdout"
        }
      ]
    },
    {
      "cell_type": "code",
      "metadata": {
        "id": "GTytSR2XLhL3"
      },
      "source": [
        "# función de pérdida y derivada\n",
        "\n",
        "def softmax(x):\n",
        "    return torch.exp(x) / torch.exp(x).sum(axis=-1,keepdims=True)\n",
        "\n",
        "def cross_entropy(output, target):\n",
        "    logits = output[torch.arange(len(output)), target]\n",
        "    loss = - logits + torch.log(torch.sum(torch.exp(output), axis=-1))\n",
        "    loss = loss.mean()\n",
        "    return loss"
      ],
      "execution_count": 41,
      "outputs": []
    },
    {
      "cell_type": "code",
      "metadata": {
        "colab": {
          "base_uri": "https://localhost:8080/"
        },
        "id": "eLr7EVCkLhBX",
        "outputId": "135baf51-5ac4-4297-b2ad-789a747089a6"
      },
      "source": [
        "# convertimos datos a tensores y copiamos en gpu\n",
        "X_t = torch.from_numpy(X_train).float().cuda()\n",
        "Y_t = torch.from_numpy(y_train).long().cuda()\n",
        "\n",
        "# bucle entrenamiento\n",
        "epochs = 100\n",
        "lr = 0.8\n",
        "log_each = 10\n",
        "l = []\n",
        "for e in range(1, epochs+1): \n",
        "    \n",
        "    # forward\n",
        "    y_pred = model(X_t)\n",
        "\n",
        "    # loss\n",
        "    loss = cross_entropy(y_pred, Y_t)\n",
        "    l.append(loss.item())\n",
        "    \n",
        "    # ponemos a cero los gradientes\n",
        "    model.zero_grad()\n",
        "\n",
        "    # Backprop (calculamos todos los gradientes automáticamente)\n",
        "    loss.backward()\n",
        "\n",
        "    # update de los pesos\n",
        "    with torch.no_grad():\n",
        "        for param in model.parameters():\n",
        "            param -= lr * param.grad\n",
        "    \n",
        "    if not e % log_each:\n",
        "        print(f\"Epoch {e}/{epochs} Loss {np.mean(l):.5f}\")"
      ],
      "execution_count": 42,
      "outputs": [
        {
          "output_type": "stream",
          "text": [
            "Epoch 10/100 Loss 1.78028\n",
            "Epoch 20/100 Loss 1.49424\n",
            "Epoch 30/100 Loss 1.21947\n",
            "Epoch 40/100 Loss 1.03661\n",
            "Epoch 50/100 Loss 0.90101\n",
            "Epoch 60/100 Loss 0.80729\n",
            "Epoch 70/100 Loss 0.74094\n",
            "Epoch 80/100 Loss 0.68945\n",
            "Epoch 90/100 Loss 0.64276\n",
            "Epoch 100/100 Loss 0.60408\n"
          ],
          "name": "stdout"
        }
      ]
    },
    {
      "cell_type": "code",
      "metadata": {
        "colab": {
          "base_uri": "https://localhost:8080/"
        },
        "id": "BlRFVH1MLg1n",
        "outputId": "93801bc6-0e08-460d-f543-23e61dc0e46b"
      },
      "source": [
        "from sklearn.metrics import accuracy_score\n",
        "# funcion para evaluar el modelo\n",
        "def evaluate(x):\n",
        "    model.eval()\n",
        "    y_pred = model(x)\n",
        "    y_probas = softmax(y_pred)\n",
        "    return torch.argmax(y_probas, axis=1)\n",
        "\n",
        "y_pred = evaluate(torch.from_numpy(X_test).float().cuda())\n",
        "accuracy_score(y_test, y_pred.cpu().numpy())"
      ],
      "execution_count": 43,
      "outputs": [
        {
          "output_type": "execute_result",
          "data": {
            "text/plain": [
              "0.93"
            ]
          },
          "metadata": {
            "tags": []
          },
          "execution_count": 43
        }
      ]
    },
    {
      "cell_type": "code",
      "metadata": {
        "id": "89POGdDNLgW5"
      },
      "source": [
        "# Es una funcion de perdida que viene inplementada en pytorch (funcion de Pérdida de entropía cruzada)\n",
        "criterion = torch.nn.CrossEntropyLoss()"
      ],
      "execution_count": null,
      "outputs": []
    },
    {
      "cell_type": "code",
      "metadata": {
        "id": "c-Csx3i8LgV-"
      },
      "source": [
        "# torch.optim.SGD Implementa descenso de gradiente estocástico (opcionalmente con impulso).\n",
        "optimizer = torch.optim.SGD(model.parameters(), lr=0.8)"
      ],
      "execution_count": null,
      "outputs": []
    },
    {
      "cell_type": "code",
      "metadata": {
        "colab": {
          "base_uri": "https://localhost:8080/"
        },
        "id": "OyhBov3wT4Z_",
        "outputId": "e850f9a9-06a8-4be5-a7e9-363061864271"
      },
      "source": [
        "model = torch.nn.Sequential(\n",
        "    torch.nn.Linear(Capa_Entrada , Capa_Oculta),# Conectamos la Capa de entrada con la Capa Oculta\n",
        "    torch.nn.ReLU(),# usamos la funcion relu para evitar lo valores negartivos ya que no son importantes\n",
        "    torch.nn.Linear(Capa_Oculta, Capa_Salida)# Conectamos la Capa Oculta con la Capa de Salida\n",
        ").to(\"cuda\") # para que se cree nuestro Perceptron Multicapa con el GPU\n",
        "\n",
        "# Creamos la Funcion de Perdida y el Optimizador del descenso del gradiente\n",
        "criterion = torch.nn.CrossEntropyLoss()\n",
        "optimizer = torch.optim.SGD(model.parameters(), lr=0.8)\n",
        "\n",
        "epochs = 100\n",
        "log_each = 10\n",
        "l = []\n",
        "model.train()\n",
        "for e in range(1, epochs+1): \n",
        "    \n",
        "    # forward\n",
        "    y_pred = model(X_t)\n",
        "\n",
        "    # loss\n",
        "    loss = criterion(y_pred, Y_t)\n",
        "    l.append(loss.item())\n",
        "    \n",
        "    # ponemos a cero los gradientes\n",
        "    optimizer.zero_grad()\n",
        "\n",
        "    # Backprop (calculamos todos los gradientes automáticamente)\n",
        "    loss.backward()\n",
        "\n",
        "    # update de los pesos\n",
        "    optimizer.step()\n",
        "    \n",
        "    if not e % log_each:\n",
        "        print(f\"Epoch {e}/{epochs} Loss {np.mean(l):.5f}\")\n",
        "        \n",
        "y_pred = evaluate(torch.from_numpy(X_test).float().cuda())\n",
        "accuracy_score(y_test, y_pred.cpu().numpy())\n",
        "\n"
      ],
      "execution_count": 44,
      "outputs": [
        {
          "output_type": "stream",
          "text": [
            "Epoch 10/100 Loss 1.74094\n",
            "Epoch 20/100 Loss 1.38762\n",
            "Epoch 30/100 Loss 1.12319\n",
            "Epoch 40/100 Loss 0.96900\n",
            "Epoch 50/100 Loss 0.85548\n",
            "Epoch 60/100 Loss 0.76768\n",
            "Epoch 70/100 Loss 0.70430\n",
            "Epoch 80/100 Loss 0.65290\n",
            "Epoch 90/100 Loss 0.61005\n",
            "Epoch 100/100 Loss 0.57447\n"
          ],
          "name": "stdout"
        },
        {
          "output_type": "execute_result",
          "data": {
            "text/plain": [
              "0.9315"
            ]
          },
          "metadata": {
            "tags": []
          },
          "execution_count": 44
        }
      ]
    },
    {
      "cell_type": "code",
      "metadata": {
        "id": "6u5AyzAgT4Um"
      },
      "source": [
        "# creamos una clase que hereda de `torch.nn.Module`\n",
        "\n",
        "class Model(torch.nn.Module):\n",
        "    \n",
        "    # constructor\n",
        "    def __init__(self, Capa_Entrada, Capa_Oculta, Capa_Salida):\n",
        "        \n",
        "        # llamamos al constructor de la clase madre\n",
        "        super(Model, self).__init__()\n",
        "        \n",
        "        # definimos nuestras capas\n",
        "        self.fc1 = torch.nn.Linear(Capa_Entrada, Capa_Oculta)\n",
        "        self.relu = torch.nn.ReLU()\n",
        "        self.fc2 = torch.nn.Linear(Capa_Oculta, Capa_Salida)\n",
        "        \n",
        "    # lógica para calcular las salidas de la red\n",
        "    def forward(self, Data): #Runtina para ejecutar las funciones que crean cada capa de nuestro Perceptron Multicapa\n",
        "        Data = self.fc1(Data)\n",
        "        Data = self.relu(Data)\n",
        "        Data = self.fc2(Data)\n",
        "        return Data"
      ],
      "execution_count": 46,
      "outputs": []
    },
    {
      "cell_type": "code",
      "metadata": {
        "colab": {
          "base_uri": "https://localhost:8080/"
        },
        "id": "VABP-Q6RT4IP",
        "outputId": "9a3a99f5-2203-4bfc-e64e-b43d566160b5"
      },
      "source": [
        "# Cramos un modelo utilizando nuestra clase custumizable Model()\n",
        "model = Model(784, 100, 10)# 784 entradas , 100 neuronas ocultas, 10 salidas \n",
        "outputs = model(torch.randn(64, 784))# de batch le ponemos 64 datos que serian 64 imagenes del MNIST tambien de cualquier otro tipo de datset\n",
        "print(outputs.shape) # retorna un tensor de 64 vectores con 10 elmentos cada uno que corresponden a la salida de mi perceptron multicapa"
      ],
      "execution_count": 48,
      "outputs": [
        {
          "output_type": "execute_result",
          "data": {
            "text/plain": [
              "torch.Size([64, 10])"
            ]
          },
          "metadata": {
            "tags": []
          },
          "execution_count": 48
        }
      ]
    },
    {
      "cell_type": "code",
      "metadata": {
        "colab": {
          "base_uri": "https://localhost:8080/"
        },
        "id": "tWuY7fKnXH6E",
        "outputId": "d4468b86-2fdb-4177-9d28-786e50efcfac"
      },
      "source": [
        "# cargamos el modelo a la GPU \n",
        "model.to(\"cuda\")\n",
        "\n",
        "# funciones de Perdida & de Optimizacion\n",
        "criterion = torch.nn.CrossEntropyLoss()\n",
        "optimizer = torch.optim.SGD(model.parameters(), lr=0.8)\n",
        "\n",
        "epochs = 100\n",
        "log_each = 10\n",
        "l = []\n",
        "# funcion para entrenar\n",
        "model.train()\n",
        "\n",
        "for e in range(1, epochs+1): \n",
        "    \n",
        "    # forward\n",
        "    y_pred = model(X_t)\n",
        "\n",
        "    # loss\n",
        "    loss = criterion(y_pred, Y_t)\n",
        "    l.append(loss.item())\n",
        "    \n",
        "    # ponemos a cero los gradientes\n",
        "    optimizer.zero_grad()\n",
        "\n",
        "    # Backprop (calculamos todos los gradientes automáticamente)\n",
        "    loss.backward()\n",
        "\n",
        "    # update de los pesos\n",
        "    optimizer.step()\n",
        "    \n",
        "    if not e % log_each:\n",
        "        print(f\"Epoch {e}/{epochs} Loss {np.mean(l):.5f}\")\n",
        "        \n",
        "y_pred = evaluate(torch.from_numpy(X_test).float().cuda())\n",
        "accuracy_score(y_test, y_pred.cpu().numpy())"
      ],
      "execution_count": 49,
      "outputs": [
        {
          "output_type": "stream",
          "text": [
            "Epoch 10/100 Loss 1.78164\n",
            "Epoch 20/100 Loss 1.52910\n",
            "Epoch 30/100 Loss 1.25986\n",
            "Epoch 40/100 Loss 1.06017\n",
            "Epoch 50/100 Loss 0.92408\n",
            "Epoch 60/100 Loss 0.83111\n",
            "Epoch 70/100 Loss 0.75902\n",
            "Epoch 80/100 Loss 0.70582\n",
            "Epoch 90/100 Loss 0.65758\n",
            "Epoch 100/100 Loss 0.61766\n"
          ],
          "name": "stdout"
        },
        {
          "output_type": "execute_result",
          "data": {
            "text/plain": [
              "0.9307"
            ]
          },
          "metadata": {
            "tags": []
          },
          "execution_count": 49
        }
      ]
    },
    {
      "cell_type": "code",
      "metadata": {
        "id": "fOy6-N0uXH1O"
      },
      "source": [
        "class Model(torch.nn.Module):\n",
        "    \n",
        "    def __init__(self, Capa_Entrada, Capa_Oculta, Capa_Salida):        \n",
        "        super(Model, self).__init__()\n",
        "        self.fc1 = torch.nn.Linear(Capa_Entrada, Capa_Oculta)\n",
        "        self.relu = torch.nn.ReLU()\n",
        "        self.fc2 = torch.nn.Linear(Capa_Oculta, Capa_Salida)\n",
        "        \n",
        "        #aqui aplicamos una capa residual \n",
        "    def forward(self, x):\n",
        "        x1 = self.fc1(x)\n",
        "        x = self.relu(x1)\n",
        "        x = self.fc2(x + x1)\n",
        "        return x"
      ],
      "execution_count": null,
      "outputs": []
    },
    {
      "cell_type": "code",
      "metadata": {
        "colab": {
          "base_uri": "https://localhost:8080/"
        },
        "id": "ji1ANNTjXHy0",
        "outputId": "7d4ce460-cd57-424b-cc95-903c756d271b"
      },
      "source": [
        "# aplica el perceptron multicapa que tiene una capa residual\n",
        "\n",
        "model = Model(784, 100, 10).to(\"cuda\")\n",
        "\n",
        "criterion = torch.nn.CrossEntropyLoss()\n",
        "optimizer = torch.optim.SGD(model.parameters(), lr=0.2)\n",
        "\n",
        "epochs = 100\n",
        "log_each = 10\n",
        "l = []\n",
        "model.train()\n",
        "for e in range(1, epochs+1): \n",
        "    \n",
        "    # forward\n",
        "    y_pred = model(X_t)\n",
        "\n",
        "    # loss\n",
        "    loss = criterion(y_pred, Y_t)\n",
        "    l.append(loss.item())\n",
        "    \n",
        "    # ponemos a cero los gradientes\n",
        "    optimizer.zero_grad()\n",
        "\n",
        "    # Backprop (calculamos todos los gradientes automáticamente)\n",
        "    loss.backward()\n",
        "\n",
        "    # update de los pesos\n",
        "    optimizer.step()\n",
        "    \n",
        "    if not e % log_each:\n",
        "        print(f\"Epoch {e}/{epochs} Loss {np.mean(l):.5f}\")\n",
        "        \n",
        "y_pred = evaluate(torch.from_numpy(X_test).float().cuda())\n",
        "accuracy_score(y_test, y_pred.cpu().numpy())"
      ],
      "execution_count": 50,
      "outputs": [
        {
          "output_type": "stream",
          "text": [
            "Epoch 10/100 Loss 2.14113\n",
            "Epoch 20/100 Loss 1.86142\n",
            "Epoch 30/100 Loss 1.59404\n",
            "Epoch 40/100 Loss 1.39273\n",
            "Epoch 50/100 Loss 1.24426\n",
            "Epoch 60/100 Loss 1.13169\n",
            "Epoch 70/100 Loss 1.04365\n",
            "Epoch 80/100 Loss 0.97293\n",
            "Epoch 90/100 Loss 0.91484\n",
            "Epoch 100/100 Loss 0.86623\n"
          ],
          "name": "stdout"
        },
        {
          "output_type": "execute_result",
          "data": {
            "text/plain": [
              "0.8969"
            ]
          },
          "metadata": {
            "tags": []
          },
          "execution_count": 50
        }
      ]
    },
    {
      "cell_type": "code",
      "metadata": {
        "colab": {
          "base_uri": "https://localhost:8080/"
        },
        "id": "OQQMiTAJXHwV",
        "outputId": "19f997ac-778d-4ac8-9640-edad45125571"
      },
      "source": [
        "# accediendo a las capas del modelo\n",
        "print(model.fc1)\n",
        "print(model.relu)\n",
        "print(model.fc2)\n"
      ],
      "execution_count": 52,
      "outputs": [
        {
          "output_type": "stream",
          "text": [
            "Linear(in_features=784, out_features=100, bias=True)\n",
            "ReLU()\n",
            "Linear(in_features=100, out_features=10, bias=True)\n"
          ],
          "name": "stdout"
        }
      ]
    },
    {
      "cell_type": "code",
      "metadata": {
        "colab": {
          "base_uri": "https://localhost:8080/"
        },
        "id": "YIgR1sBZXHmd",
        "outputId": "a4ae4e7a-515d-49f5-a8fc-dbf5c688d92c"
      },
      "source": [
        "# podemos acceder a los pesos \n",
        "print(model.fc1.weight)"
      ],
      "execution_count": 53,
      "outputs": [
        {
          "output_type": "stream",
          "text": [
            "Parameter containing:\n",
            "tensor([[-0.0107,  0.0017, -0.0173,  ...,  0.0159, -0.0067, -0.0343],\n",
            "        [ 0.0179,  0.0131,  0.0221,  ..., -0.0077, -0.0187, -0.0046],\n",
            "        [-0.0128,  0.0302,  0.0347,  ...,  0.0293, -0.0025,  0.0105],\n",
            "        ...,\n",
            "        [ 0.0291, -0.0096,  0.0001,  ..., -0.0259,  0.0149, -0.0143],\n",
            "        [-0.0096,  0.0013,  0.0156,  ...,  0.0333, -0.0043,  0.0287],\n",
            "        [ 0.0066, -0.0242, -0.0046,  ...,  0.0029,  0.0051,  0.0195]],\n",
            "       device='cuda:0', requires_grad=True)\n"
          ],
          "name": "stdout"
        }
      ]
    },
    {
      "cell_type": "code",
      "metadata": {
        "colab": {
          "base_uri": "https://localhost:8080/"
        },
        "id": "m3qnpLNFaH5L",
        "outputId": "a10450b1-662e-4872-f285-a2055e4c47ea"
      },
      "source": [
        "# podemos acceder a los bias\n",
        "print(model.fc1.bias)"
      ],
      "execution_count": 54,
      "outputs": [
        {
          "output_type": "stream",
          "text": [
            "Parameter containing:\n",
            "tensor([-0.0165,  0.0341, -0.0111,  0.0281, -0.0220,  0.0692,  0.0293, -0.0197,\n",
            "        -0.0393,  0.0361,  0.0390,  0.0141,  0.0382,  0.0398,  0.0502,  0.0202,\n",
            "         0.0564,  0.0674,  0.0655, -0.0160,  0.0345, -0.0141,  0.0243,  0.0299,\n",
            "        -0.0238,  0.0489,  0.0002,  0.0161, -0.0075,  0.0183, -0.0010,  0.0141,\n",
            "         0.0294,  0.0086,  0.0752,  0.0549, -0.0035,  0.0494,  0.0172, -0.0134,\n",
            "         0.0210,  0.0549, -0.0488,  0.0236, -0.0253,  0.0144,  0.0057, -0.0122,\n",
            "         0.0757,  0.0186, -0.0180,  0.0456, -0.0279,  0.0139, -0.0554,  0.0318,\n",
            "         0.0716,  0.0223,  0.0642,  0.0373, -0.0066,  0.0412,  0.0143, -0.0069,\n",
            "        -0.0028,  0.0210, -0.0063, -0.0210,  0.0591,  0.0334,  0.0300, -0.0132,\n",
            "         0.0389,  0.0232,  0.0317,  0.0727, -0.0319,  0.0246,  0.0457,  0.0128,\n",
            "        -0.0104, -0.0213,  0.0113,  0.0391,  0.0457,  0.0626,  0.0064,  0.0840,\n",
            "         0.0004,  0.0145,  0.0611, -0.0132,  0.0033,  0.0192,  0.0122,  0.0194,\n",
            "         0.0421,  0.0618,  0.0554,  0.0182], device='cuda:0',\n",
            "       requires_grad=True)\n"
          ],
          "name": "stdout"
        }
      ]
    },
    {
      "cell_type": "code",
      "metadata": {
        "colab": {
          "base_uri": "https://localhost:8080/"
        },
        "id": "50pa3QRqadua",
        "outputId": "42cf5ace-c231-4900-992c-dcb593b46c01"
      },
      "source": [
        "# tambien podemos cambiar el numero de neronas que tiene la capa\n",
        "\n",
        "model.fc2 = torch.nn.Linear(100,1)\n",
        "print(model)"
      ],
      "execution_count": 59,
      "outputs": [
        {
          "output_type": "stream",
          "text": [
            "Model(\n",
            "  (fc1): Linear(in_features=1000, out_features=100, bias=True)\n",
            "  (relu): ReLU()\n",
            "  (fc2): Linear(in_features=100, out_features=1, bias=True)\n",
            ")\n"
          ],
          "name": "stdout"
        }
      ]
    },
    {
      "cell_type": "code",
      "metadata": {
        "colab": {
          "base_uri": "https://localhost:8080/"
        },
        "id": "GEagyn9abaWn",
        "outputId": "648c8036-38d1-4965-f78a-a320e18a8deb"
      },
      "source": [
        "# obtener una lista con las capas de una red\n",
        "list(model.children())"
      ],
      "execution_count": 60,
      "outputs": [
        {
          "output_type": "execute_result",
          "data": {
            "text/plain": [
              "[Linear(in_features=1000, out_features=100, bias=True),\n",
              " ReLU(),\n",
              " Linear(in_features=100, out_features=1, bias=True)]"
            ]
          },
          "metadata": {
            "tags": []
          },
          "execution_count": 60
        }
      ]
    },
    {
      "cell_type": "code",
      "metadata": {
        "colab": {
          "base_uri": "https://localhost:8080/"
        },
        "id": "gpiINeJcbfp-",
        "outputId": "22e125de-f3bc-4417-8993-209a2bcf82bc"
      },
      "source": [
        "# crear nueva red a partir de la lista (excluyendo las útlimas dos capa)\n",
        "new_model = torch.nn.Sequential(*list(model.children())[:-2])\n",
        "new_model"
      ],
      "execution_count": 61,
      "outputs": [
        {
          "output_type": "execute_result",
          "data": {
            "text/plain": [
              "Sequential(\n",
              "  (0): Linear(in_features=1000, out_features=100, bias=True)\n",
              ")"
            ]
          },
          "metadata": {
            "tags": []
          },
          "execution_count": 61
        }
      ]
    },
    {
      "cell_type": "code",
      "metadata": {
        "colab": {
          "base_uri": "https://localhost:8080/"
        },
        "id": "9Xa9eMD0bf6W",
        "outputId": "6d653bb2-d3a9-46a1-b4c7-38d98b951b4f"
      },
      "source": [
        "# crear nueva red a partir de la lista (excluyendo las útlima capa)\n",
        "new_model = torch.nn.ModuleList(list(model.children())[:-1])\n",
        "new_model"
      ],
      "execution_count": 62,
      "outputs": [
        {
          "output_type": "execute_result",
          "data": {
            "text/plain": [
              "ModuleList(\n",
              "  (0): Linear(in_features=1000, out_features=100, bias=True)\n",
              "  (1): ReLU()\n",
              ")"
            ]
          },
          "metadata": {
            "tags": []
          },
          "execution_count": 62
        }
      ]
    }
  ]
}