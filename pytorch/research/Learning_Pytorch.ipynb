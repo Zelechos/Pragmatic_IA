{
 "cells": [
  {
   "cell_type": "markdown",
   "metadata": {
    "colab_type": "text",
    "id": "view-in-github"
   },
   "source": [
    "<a href=\"https://colab.research.google.com/github/Zelechos/Pragmatic_IA/blob/master/Pytorch/Learning_Pytorch.ipynb\" target=\"_parent\"><img src=\"https://colab.research.google.com/assets/colab-badge.svg\" alt=\"Open In Colab\"/></a>"
   ]
  },
  {
   "cell_type": "code",
   "execution_count": 1,
   "metadata": {
    "id": "mCzOgmwxPXLA"
   },
   "outputs": [],
   "source": [
    "# Primero Importamos Pytorch para empezar a Trabajar con el\n",
    "import torch"
   ]
  },
  {
   "cell_type": "code",
   "execution_count": 2,
   "metadata": {
    "colab": {
     "base_uri": "https://localhost:8080/"
    },
    "id": "OqIwa4tqQQjX",
    "outputId": "e21ba700-90c8-4130-8710-b0bc5d1a9c0d"
   },
   "outputs": [
    {
     "name": "stdout",
     "output_type": "stream",
     "text": [
      "\n",
      "Tensor con valor de ceros : \n",
      "\n",
      " tensor([[0., 0., 0.],\n",
      "        [0., 0., 0.],\n",
      "        [0., 0., 0.],\n",
      "        [0., 0., 0.],\n",
      "        [0., 0., 0.]])\n"
     ]
    }
   ],
   "source": [
    "# En Pytorch el se tabaja con tensores\n",
    "\n",
    "# Tensor con valores de 0\n",
    "tensor = torch.zeros(5,3)\n",
    "print(\"\\nTensor con valor de ceros : \\n\\n\",tensor)"
   ]
  },
  {
   "cell_type": "code",
   "execution_count": 20,
   "metadata": {
    "colab": {
     "base_uri": "https://localhost:8080/"
    },
    "id": "_VR2PIb8Sv1L",
    "outputId": "017ae403-48e7-47d6-b336-ef6f29c8026a"
   },
   "outputs": [
    {
     "name": "stdout",
     "output_type": "stream",
     "text": [
      "\n",
      "Tensor con valor de unos : \n",
      "\n",
      " tensor([[1., 1., 1.],\n",
      "        [1., 1., 1.],\n",
      "        [1., 1., 1.],\n",
      "        [1., 1., 1.],\n",
      "        [1., 1., 1.]])\n"
     ]
    }
   ],
   "source": [
    "# Tensor con valores de 1 \n",
    "tensor1 = torch.ones_like(tensor)\n",
    "print(\"\\nTensor con valor de unos : \\n\\n\",tensor1)"
   ]
  },
  {
   "cell_type": "code",
   "execution_count": 21,
   "metadata": {
    "colab": {
     "base_uri": "https://localhost:8080/"
    },
    "id": "gLtKCDMSS7vq",
    "outputId": "bca3983e-5152-4fab-ba91-6d722a822d5a"
   },
   "outputs": [
    {
     "name": "stdout",
     "output_type": "stream",
     "text": [
      "\n",
      "Tensor con valores aleatorios : \n",
      "\n",
      " tensor([[[-0.0348,  1.5246, -0.4102,  0.8673],\n",
      "         [-1.2490, -0.1053,  0.0417, -0.9842],\n",
      "         [ 0.1285, -0.3749,  0.2187,  0.0983],\n",
      "         [ 1.0359, -1.0599,  1.3608, -1.0976]],\n",
      "\n",
      "        [[ 0.7127, -0.3522,  2.0391,  0.7773],\n",
      "         [ 0.1148,  0.7325,  1.4102,  1.0929],\n",
      "         [-1.6546,  0.3007, -0.5853, -0.7110],\n",
      "         [-1.0381, -1.9084,  0.6178, -0.8374]]])\n"
     ]
    }
   ],
   "source": [
    "# Tensor con valores aleatorios\n",
    "tensor_Aleatorio = torch.randn(2,4,4) # 2 matrices con 4 filas y 4 columnas\n",
    "print(\"\\nTensor con valores aleatorios : \\n\\n\",tensor_Aleatorio)\n"
   ]
  },
  {
   "cell_type": "code",
   "execution_count": 22,
   "metadata": {
    "colab": {
     "base_uri": "https://localhost:8080/"
    },
    "id": "1ocChHjSTR2x",
    "outputId": "d9c3b2ee-c94b-49f9-bc30-78d2f1561ef7"
   },
   "outputs": [
    {
     "name": "stdout",
     "output_type": "stream",
     "text": [
      "tensor([[1, 2, 3],\n",
      "        [4, 5, 6]])\n"
     ]
    }
   ],
   "source": [
    "# Tensor a partir de una Lista de Python\n",
    "tensor = torch.tensor([[1,2,3],[4,5,6]])\n",
    "print(tensor)"
   ]
  },
  {
   "cell_type": "markdown",
   "metadata": {
    "id": "Jiac3Fmbawba"
   },
   "source": [
    "# Numpy en Pytorch"
   ]
  },
  {
   "cell_type": "code",
   "execution_count": 23,
   "metadata": {
    "colab": {
     "base_uri": "https://localhost:8080/"
    },
    "id": "KJ3QeUVZTk-P",
    "outputId": "867925ec-34d4-4b61-cb4b-8cbab0a5a71d"
   },
   "outputs": [
    {
     "name": "stdout",
     "output_type": "stream",
     "text": [
      "tensor([[ 5,  6,  7],\n",
      "        [ 8,  9, 10]])\n"
     ]
    }
   ],
   "source": [
    "#Tensor a partir de array de Numpy\n",
    "import numpy as np\n",
    "\n",
    "# Creamos array de numpy\n",
    "array = np.array([[5,6,7],[8,9,10]])\n",
    "\n",
    "# Luego Creamos un Tensor \n",
    "tensor = torch.from_numpy(array)\n",
    "\n",
    "print(tensor)"
   ]
  },
  {
   "cell_type": "code",
   "execution_count": 25,
   "metadata": {
    "colab": {
     "base_uri": "https://localhost:8080/"
    },
    "id": "XjEJs07EUioe",
    "outputId": "eed180b3-8151-4420-bc0d-1906c1c0503d"
   },
   "outputs": [
    {
     "name": "stdout",
     "output_type": "stream",
     "text": [
      "Tensores de Pytorch en los que realizaremos la operaciones\n",
      "tensor([[-0.0443, -1.2908, -0.3640],\n",
      "        [-0.5032, -0.7926, -0.9077],\n",
      "        [ 1.1521,  0.0071, -0.4485]])\n",
      "tensor([[ 0.2654, -0.8417, -0.0852],\n",
      "        [ 1.3192,  1.4004,  1.0042],\n",
      "        [-0.4163, -0.3338, -2.0204]])\n"
     ]
    }
   ],
   "source": [
    "# Operaciones con Tensores\n",
    "tensor1 = torch.randn(3,3)\n",
    "tensor2 = torch.randn(3,3)\n",
    "print(\"Tensores de Pytorch en los que realizaremos la operaciones\")\n",
    "print(tensor1)\n",
    "print(tensor2)"
   ]
  },
  {
   "cell_type": "code",
   "execution_count": 26,
   "metadata": {
    "colab": {
     "base_uri": "https://localhost:8080/"
    },
    "id": "ruMRZJ-iU6hA",
    "outputId": "16f22531-968b-4502-c7ee-e4009e28fa64"
   },
   "outputs": [
    {
     "name": "stdout",
     "output_type": "stream",
     "text": [
      "Suma Tensores de Pytorch\n",
      "tensor([[ 0.2211, -2.1325, -0.4492],\n",
      "        [ 0.8160,  0.6078,  0.0965],\n",
      "        [ 0.7358, -0.3268, -2.4689]])\n"
     ]
    }
   ],
   "source": [
    "# Suma de Tensores\n",
    "print(\"Suma Tensores de Pytorch\")\n",
    "print(tensor1 + tensor2)"
   ]
  },
  {
   "cell_type": "code",
   "execution_count": 27,
   "metadata": {
    "colab": {
     "base_uri": "https://localhost:8080/"
    },
    "id": "FkHjLp2dVKs0",
    "outputId": "7ec442ee-818b-4453-ec95-de4b26dd7eed"
   },
   "outputs": [
    {
     "name": "stdout",
     "output_type": "stream",
     "text": [
      "Resta Tensores de Pytorch\n",
      "tensor([[-0.3098, -0.4491, -0.2788],\n",
      "        [-1.8223, -2.1930, -1.9119],\n",
      "        [ 1.5684,  0.3409,  1.5719]])\n"
     ]
    }
   ],
   "source": [
    "# Resta de Tensores\n",
    "print(\"Resta Tensores de Pytorch\")\n",
    "print(tensor1 - tensor2)"
   ]
  },
  {
   "cell_type": "code",
   "execution_count": 28,
   "metadata": {
    "colab": {
     "base_uri": "https://localhost:8080/"
    },
    "id": "oqBV0dPhVaWG",
    "outputId": "1a6e8849-06be-4085-fcf8-d30e432fd08c"
   },
   "outputs": [
    {
     "name": "stdout",
     "output_type": "stream",
     "text": [
      "Multiplicacion Tensores de Pytorch\n",
      "tensor([[-0.0118,  1.0865,  0.0310],\n",
      "        [-0.6637, -1.1100, -0.9115],\n",
      "        [-0.4797, -0.0024,  0.9062]])\n"
     ]
    }
   ],
   "source": [
    "# Multiplicacion de Tensores\n",
    "print(\"Multiplicacion Tensores de Pytorch\")\n",
    "print(tensor1 * tensor2)"
   ]
  },
  {
   "cell_type": "code",
   "execution_count": 29,
   "metadata": {
    "colab": {
     "base_uri": "https://localhost:8080/"
    },
    "id": "IsWxJJWrVa5W",
    "outputId": "817382bc-05cc-48c5-f0bd-a6a5a877005f"
   },
   "outputs": [
    {
     "name": "stdout",
     "output_type": "stream",
     "text": [
      "Division Tensores de Pytorch\n",
      "tensor([[-0.1670,  1.5335,  4.2731],\n",
      "        [-0.3814, -0.5660, -0.9039],\n",
      "        [-2.7672, -0.0211,  0.2220]])\n"
     ]
    }
   ],
   "source": [
    "# Division de Tensores\n",
    "print(\"Division Tensores de Pytorch\")\n",
    "print(tensor1 / tensor2)"
   ]
  },
  {
   "cell_type": "code",
   "execution_count": 38,
   "metadata": {
    "colab": {
     "base_uri": "https://localhost:8080/"
    },
    "id": "q-FVD5AKVXgk",
    "outputId": "a51da245-f9bc-4134-998e-e98e9e3c35f5"
   },
   "outputs": [
    {
     "name": "stdout",
     "output_type": "stream",
     "text": [
      "Tensor 1 Completo : \n",
      " tensor([[-0.0443, -1.2908, -0.3640],\n",
      "        [-0.5032, -0.7926, -0.9077],\n",
      "        [ 1.1521,  0.0071, -0.4485]])\n",
      "----------------Indexando el Tensor1---------\n",
      "tensor([-0.0443, -1.2908, -0.3640])\n",
      "-------------------------\n",
      "tensor([-0.5032, -0.7926, -0.9077])\n",
      "-------------------------\n",
      "tensor(-0.0443)\n"
     ]
    }
   ],
   "source": [
    "# Indexar Tensores\n",
    "print(\"Tensor 1 Completo : \\n\",tensor1)\n",
    "\n",
    "print(\"----------------Indexando el Tensor1---------\")\n",
    "print(tensor1[0])\n",
    "print(\"-------------------------\")\n",
    "print(tensor1[1])\n",
    "print(\"-------------------------\")\n",
    "print(tensor1[0][0])#asi sacamos los elementos de la primera fila primera columna"
   ]
  },
  {
   "cell_type": "code",
   "execution_count": 42,
   "metadata": {
    "colab": {
     "base_uri": "https://localhost:8080/"
    },
    "id": "46pVwqbKVovs",
    "outputId": "5fe46ca9-ba7f-4895-9a07-411ec612af1f"
   },
   "outputs": [
    {
     "name": "stdout",
     "output_type": "stream",
     "text": [
      "Tensor 1 Completo : \n",
      " tensor([[-0.0443, -1.2908, -0.3640],\n",
      "        [-0.5032, -0.7926, -0.9077],\n",
      "        [ 1.1521,  0.0071, -0.4485]])\n",
      "Todos los elementos de la Primea columna : \n",
      " tensor([-0.0443, -1.2908, -0.3640])\n"
     ]
    }
   ],
   "source": [
    "print(\"Tensor 1 Completo : \\n\",tensor1)\n",
    "print(\"Todos los elementos de la Primea columna : \\n\",tensor1[0,:])"
   ]
  },
  {
   "cell_type": "code",
   "execution_count": 43,
   "metadata": {
    "colab": {
     "base_uri": "https://localhost:8080/"
    },
    "id": "Qu9f3jvpVpCs",
    "outputId": "42708940-a98c-413c-aed6-f78760d6cafd"
   },
   "outputs": [
    {
     "name": "stdout",
     "output_type": "stream",
     "text": [
      "tensor([[-1.2908, -0.3640],\n",
      "        [-0.7926, -0.9077]])\n"
     ]
    }
   ],
   "source": [
    "# Troceado\n",
    "print(tensor1[:-1,1:])"
   ]
  },
  {
   "cell_type": "code",
   "execution_count": 48,
   "metadata": {
    "colab": {
     "base_uri": "https://localhost:8080/"
    },
    "id": "XThW88RsVpME",
    "outputId": "85ec8254-9afc-4919-fbbe-7f1134f3baef"
   },
   "outputs": [
    {
     "name": "stdout",
     "output_type": "stream",
     "text": [
      "torch.Size([3, 3])\n",
      "tensor([[-0.5187,  1.7028, -1.7657,  3.4882],\n",
      "        [ 1.4307, -0.1341, -0.3513,  1.3515],\n",
      "        [-1.3019, -0.7611,  0.4871, -1.8226],\n",
      "        [-0.5322,  2.6441, -0.1913,  0.6362],\n",
      "        [ 0.0350, -0.8525, -0.7597, -0.7660],\n",
      "        [ 0.0886, -0.2222,  0.0865, -0.6405],\n",
      "        [-0.5929,  0.2334, -1.2762, -2.0080]])\n",
      "shape(filas, columnas) de el tensor de arriba torch.Size([7, 4])\n",
      "Filas :  7\n",
      "Columnas :  4\n"
     ]
    }
   ],
   "source": [
    "# Funcion para ver la filas y columnas de tu Tensor\n",
    "print(tensor1.shape)\n",
    "\n",
    "tensor = torch.randn(7,4)\n",
    "print(tensor)\n",
    "print(\"shape(filas, columnas) de el tensor de arriba\", tensor.shape)\n",
    "print(\"Filas : \", tensor.shape[0])\n",
    "print(\"Columnas : \", tensor.shape[1])\n"
   ]
  },
  {
   "cell_type": "code",
   "execution_count": 59,
   "metadata": {
    "colab": {
     "base_uri": "https://localhost:8080/"
    },
    "id": "JiPs0MA1VYF0",
    "outputId": "c71bb573-4245-4248-9cf7-e07d7851eb22"
   },
   "outputs": [
    {
     "name": "stdout",
     "output_type": "stream",
     "text": [
      "tensor agregandole una dimension con view:\n",
      " tensor([[[-0.5187,  1.7028, -1.7657,  3.4882],\n",
      "         [ 1.4307, -0.1341, -0.3513,  1.3515],\n",
      "         [-1.3019, -0.7611,  0.4871, -1.8226],\n",
      "         [-0.5322,  2.6441, -0.1913,  0.6362],\n",
      "         [ 0.0350, -0.8525, -0.7597, -0.7660],\n",
      "         [ 0.0886, -0.2222,  0.0865, -0.6405],\n",
      "         [-0.5929,  0.2334, -1.2762, -2.0080]]])\n",
      "tensor([[-0.5187,  1.7028, -1.7657,  3.4882],\n",
      "        [ 1.4307, -0.1341, -0.3513,  1.3515],\n",
      "        [-1.3019, -0.7611,  0.4871, -1.8226],\n",
      "        [-0.5322,  2.6441, -0.1913,  0.6362],\n",
      "        [ 0.0350, -0.8525, -0.7597, -0.7660],\n",
      "        [ 0.0886, -0.2222,  0.0865, -0.6405],\n",
      "        [-0.5929,  0.2334, -1.2762, -2.0080]])\n"
     ]
    }
   ],
   "source": [
    "# Agregar una dimension extra al Tensor\n",
    "\n",
    "print(\"tensor agregandole una dimension con view:\\n\",tensor.view(1,7,4))  \n",
    "print(tensor)"
   ]
  },
  {
   "cell_type": "code",
   "execution_count": 60,
   "metadata": {
    "colab": {
     "base_uri": "https://localhost:8080/"
    },
    "id": "URyuLzH6VYPU",
    "outputId": "96374400-db5e-4579-b7e9-293e7555b9fd"
   },
   "outputs": [
    {
     "name": "stdout",
     "output_type": "stream",
     "text": [
      "tensor([-0.5187,  1.7028, -1.7657,  3.4882,  1.4307, -0.1341, -0.3513,  1.3515,\n",
      "        -1.3019, -0.7611,  0.4871, -1.8226, -0.5322,  2.6441, -0.1913,  0.6362,\n",
      "         0.0350, -0.8525, -0.7597, -0.7660,  0.0886, -0.2222,  0.0865, -0.6405,\n",
      "        -0.5929,  0.2334, -1.2762, -2.0080])\n"
     ]
    }
   ],
   "source": [
    "# IMPORTANTE CON view(-1) para asignar los valores restantes a una dimension\n",
    "print(tensor.view(-1)) #aplanamos nuestro tensor a un tensor de una sola dimension"
   ]
  },
  {
   "cell_type": "code",
   "execution_count": 61,
   "metadata": {
    "colab": {
     "base_uri": "https://localhost:8080/"
    },
    "id": "WCa14ytaaBxz",
    "outputId": "7cf1fd16-127a-4634-c499-78390a827907"
   },
   "outputs": [
    {
     "name": "stdout",
     "output_type": "stream",
     "text": [
      "<class 'numpy.ndarray'>\n"
     ]
    }
   ],
   "source": [
    "# Convertir el Tensor en una array de numpy\n",
    "print(type(tensor.numpy()))"
   ]
  },
  {
   "cell_type": "markdown",
   "metadata": {
    "id": "eFt6ROSpal20"
   },
   "source": [
    "# Autograd en Pytorch"
   ]
  },
  {
   "cell_type": "code",
   "execution_count": 62,
   "metadata": {
    "colab": {
     "base_uri": "https://localhost:8080/"
    },
    "id": "6GSmknH8aCGD",
    "outputId": "ae0f1884-99ea-4134-a570-24d433633336"
   },
   "outputs": [
    {
     "name": "stdout",
     "output_type": "stream",
     "text": [
      "tensor(9., grad_fn=<MulBackward0>)\n"
     ]
    }
   ],
   "source": [
    "tensor1 = torch.tensor(1.,requires_grad=True)\n",
    "tensor2 = torch.tensor(2.,requires_grad=True)\n",
    "R_tensor = tensor1 + tensor2\n",
    "\n",
    "tensor3 = torch.tensor(3.,requires_grad=True)\n",
    "Final_Tensor = tensor3 * R_tensor\n",
    "\n",
    "print(Final_Tensor)"
   ]
  },
  {
   "cell_type": "markdown",
   "metadata": {
    "id": "970igfGvcBUp"
   },
   "source": [
    "#### Calculando la derivado de Final_Tensor  con respector a los demas tensores hacemos un backpropagation con la funcion backward()"
   ]
  },
  {
   "cell_type": "code",
   "execution_count": 70,
   "metadata": {
    "colab": {
     "base_uri": "https://localhost:8080/",
     "height": 387
    },
    "id": "2v4yuzIoc2Gw",
    "outputId": "3a99a0d7-ed5b-411f-b1b6-2a1444de7972"
   },
   "outputs": [
    {
     "ename": "RuntimeError",
     "evalue": "ignored",
     "output_type": "error",
     "traceback": [
      "\u001b[0;31m---------------------------------------------------------------------------\u001b[0m",
      "\u001b[0;31mRuntimeError\u001b[0m                              Traceback (most recent call last)",
      "\u001b[0;32m<ipython-input-70-b49f5fc1c1e4>\u001b[0m in \u001b[0;36m<module>\u001b[0;34m()\u001b[0m\n\u001b[1;32m      1\u001b[0m \u001b[0;31m# Hacemos backpropagation a nuestro grafo computacional conformado por nuestros tensores\u001b[0m\u001b[0;34m\u001b[0m\u001b[0;34m\u001b[0m\u001b[0;34m\u001b[0m\u001b[0m\n\u001b[1;32m      2\u001b[0m \u001b[0;31m# Esto significa que recorrera todo nuestro grafo con el algoritmo de backpropagation\u001b[0m\u001b[0;34m\u001b[0m\u001b[0;34m\u001b[0m\u001b[0;34m\u001b[0m\u001b[0m\n\u001b[0;32m----> 3\u001b[0;31m \u001b[0mFinal_Tensor\u001b[0m\u001b[0;34m.\u001b[0m\u001b[0mbackward\u001b[0m\u001b[0;34m(\u001b[0m\u001b[0;34m)\u001b[0m\u001b[0;34m\u001b[0m\u001b[0;34m\u001b[0m\u001b[0m\n\u001b[0m",
      "\u001b[0;32m/usr/local/lib/python3.7/dist-packages/torch/_tensor.py\u001b[0m in \u001b[0;36mbackward\u001b[0;34m(self, gradient, retain_graph, create_graph, inputs)\u001b[0m\n\u001b[1;32m    253\u001b[0m                 \u001b[0mcreate_graph\u001b[0m\u001b[0;34m=\u001b[0m\u001b[0mcreate_graph\u001b[0m\u001b[0;34m,\u001b[0m\u001b[0;34m\u001b[0m\u001b[0;34m\u001b[0m\u001b[0m\n\u001b[1;32m    254\u001b[0m                 inputs=inputs)\n\u001b[0;32m--> 255\u001b[0;31m         \u001b[0mtorch\u001b[0m\u001b[0;34m.\u001b[0m\u001b[0mautograd\u001b[0m\u001b[0;34m.\u001b[0m\u001b[0mbackward\u001b[0m\u001b[0;34m(\u001b[0m\u001b[0mself\u001b[0m\u001b[0;34m,\u001b[0m \u001b[0mgradient\u001b[0m\u001b[0;34m,\u001b[0m \u001b[0mretain_graph\u001b[0m\u001b[0;34m,\u001b[0m \u001b[0mcreate_graph\u001b[0m\u001b[0;34m,\u001b[0m \u001b[0minputs\u001b[0m\u001b[0;34m=\u001b[0m\u001b[0minputs\u001b[0m\u001b[0;34m)\u001b[0m\u001b[0;34m\u001b[0m\u001b[0;34m\u001b[0m\u001b[0m\n\u001b[0m\u001b[1;32m    256\u001b[0m \u001b[0;34m\u001b[0m\u001b[0m\n\u001b[1;32m    257\u001b[0m     \u001b[0;32mdef\u001b[0m \u001b[0mregister_hook\u001b[0m\u001b[0;34m(\u001b[0m\u001b[0mself\u001b[0m\u001b[0;34m,\u001b[0m \u001b[0mhook\u001b[0m\u001b[0;34m)\u001b[0m\u001b[0;34m:\u001b[0m\u001b[0;34m\u001b[0m\u001b[0;34m\u001b[0m\u001b[0m\n",
      "\u001b[0;32m/usr/local/lib/python3.7/dist-packages/torch/autograd/__init__.py\u001b[0m in \u001b[0;36mbackward\u001b[0;34m(tensors, grad_tensors, retain_graph, create_graph, grad_variables, inputs)\u001b[0m\n\u001b[1;32m    147\u001b[0m     Variable._execution_engine.run_backward(\n\u001b[1;32m    148\u001b[0m         \u001b[0mtensors\u001b[0m\u001b[0;34m,\u001b[0m \u001b[0mgrad_tensors_\u001b[0m\u001b[0;34m,\u001b[0m \u001b[0mretain_graph\u001b[0m\u001b[0;34m,\u001b[0m \u001b[0mcreate_graph\u001b[0m\u001b[0;34m,\u001b[0m \u001b[0minputs\u001b[0m\u001b[0;34m,\u001b[0m\u001b[0;34m\u001b[0m\u001b[0;34m\u001b[0m\u001b[0m\n\u001b[0;32m--> 149\u001b[0;31m         allow_unreachable=True, accumulate_grad=True)  # allow_unreachable flag\n\u001b[0m\u001b[1;32m    150\u001b[0m \u001b[0;34m\u001b[0m\u001b[0m\n\u001b[1;32m    151\u001b[0m \u001b[0;34m\u001b[0m\u001b[0m\n",
      "\u001b[0;31mRuntimeError\u001b[0m: Trying to backward through the graph a second time (or directly access saved variables after they have already been freed). Saved intermediate values of the graph are freed when you call .backward() or autograd.grad(). Specify retain_graph=True if you need to backward through the graph a second time or if you need to access saved variables after calling backward."
     ]
    }
   ],
   "source": [
    "# Hacemos backpropagation a nuestro grafo computacional conformado por nuestros tensores\n",
    "# Esto significa que recorrera todo nuestro grafo con el algoritmo de backpropagation\n",
    "Final_Tensor.backward() # sale error por la ejecucion multiple del la funcion backward() esto no se ejecuta mas de 1 vez"
   ]
  },
  {
   "cell_type": "code",
   "execution_count": 66,
   "metadata": {
    "colab": {
     "base_uri": "https://localhost:8080/"
    },
    "id": "nsNq4tHVaCZT",
    "outputId": "6f5f4d39-5f9c-4624-d225-93c81a86acdc"
   },
   "outputs": [
    {
     "data": {
      "text/plain": [
       "tensor(3.)"
      ]
     },
     "execution_count": 66,
     "metadata": {
      "tags": []
     },
     "output_type": "execute_result"
    }
   ],
   "source": [
    "tensor3.grad"
   ]
  },
  {
   "cell_type": "code",
   "execution_count": 67,
   "metadata": {
    "colab": {
     "base_uri": "https://localhost:8080/"
    },
    "id": "QLm8OrqjaCd7",
    "outputId": "9c3ff51e-609c-4ae3-967e-62ecafd1609a"
   },
   "outputs": [
    {
     "data": {
      "text/plain": [
       "tensor(3.)"
      ]
     },
     "execution_count": 67,
     "metadata": {
      "tags": []
     },
     "output_type": "execute_result"
    }
   ],
   "source": [
    "tensor1.grad"
   ]
  },
  {
   "cell_type": "code",
   "execution_count": 68,
   "metadata": {
    "colab": {
     "base_uri": "https://localhost:8080/"
    },
    "id": "y2drZ8madgk8",
    "outputId": "5cbdde53-ae5c-4631-b5cb-f0b038edfc75"
   },
   "outputs": [
    {
     "data": {
      "text/plain": [
       "tensor(3.)"
      ]
     },
     "execution_count": 68,
     "metadata": {
      "tags": []
     },
     "output_type": "execute_result"
    }
   ],
   "source": [
    "tensor2.grad"
   ]
  },
  {
   "cell_type": "markdown",
   "metadata": {
    "id": "k50HDS66e1ST"
   },
   "source": [
    "# Probando la GPU"
   ]
  },
  {
   "cell_type": "code",
   "execution_count": 71,
   "metadata": {
    "colab": {
     "base_uri": "https://localhost:8080/"
    },
    "id": "PVecQK5dd_h1",
    "outputId": "cc116f02-8da6-44dc-8af9-f302d60ac6d0"
   },
   "outputs": [
    {
     "data": {
      "text/plain": [
       "False"
      ]
     },
     "execution_count": 71,
     "metadata": {
      "tags": []
     },
     "output_type": "execute_result"
    }
   ],
   "source": [
    "# Para verificar si tenemos una GPU para usar\n",
    "torch.cuda.is_available()"
   ]
  },
  {
   "cell_type": "code",
   "execution_count": 5,
   "metadata": {
    "colab": {
     "base_uri": "https://localhost:8080/"
    },
    "id": "vTdhhUZnd__t",
    "outputId": "38db53bd-d077-4050-dc4b-c9a84acf45e2"
   },
   "outputs": [
    {
     "name": "stdout",
     "output_type": "stream",
     "text": [
      "CPU times: user 122 ms, sys: 1.91 ms, total: 124 ms\n",
      "Wall time: 124 ms\n",
      "Operacion ejecutada con el CPU\n",
      "tensor([[-0.1195,  0.3633,  0.5538,  ...,  0.0482, -1.2283, -0.2584],\n",
      "        [-0.0290, -0.0729,  0.1185,  ...,  1.0569,  0.2538, -0.5620],\n",
      "        [-0.0433, -0.2599,  0.0250,  ...,  0.0992,  0.4014,  0.1065],\n",
      "        ...,\n",
      "        [ 0.1078,  0.0703, -0.7251,  ..., -0.2671,  2.2677,  1.2059],\n",
      "        [ 1.6114, -0.0965, -0.1317,  ..., -1.9345,  0.2133, -0.1477],\n",
      "        [-0.7190,  0.1675, -0.0563,  ...,  0.0233,  0.0864, -0.5735]])\n"
     ]
    }
   ],
   "source": [
    "tensor1 = torch.randn(10000,10000)\n",
    "tensor2 = torch.randn(10000,10000)\n",
    "# time sirve para ver el tiempo de ejecucion que cuesta realizar la operacion en este caso la multiplicacion de los 2 tensores 10000 X 10000\n",
    "%time tensor = tensor1 * tensor2\n",
    "print(\"Operacion ejecutada con el CPU\")\n",
    "print(tensor)"
   ]
  },
  {
   "cell_type": "code",
   "execution_count": 7,
   "metadata": {
    "colab": {
     "base_uri": "https://localhost:8080/"
    },
    "id": "Uj_iG74GeAL0",
    "outputId": "f665e591-ca74-4ee5-db69-ef7cf41d5e81"
   },
   "outputs": [
    {
     "name": "stdout",
     "output_type": "stream",
     "text": [
      "CPU times: user 1.95 ms, sys: 2.01 ms, total: 3.96 ms\n",
      "Wall time: 15.3 ms\n",
      "Operacion ejecutada con el GPU\n",
      "tensor([[-1.5578, -0.6809, -1.6465,  ..., -0.3088,  0.1539, -0.2638],\n",
      "        [ 0.3150, -2.6213,  1.2792,  ...,  0.2510,  0.2487, -0.4202],\n",
      "        [-1.8884, -0.5864,  1.2997,  ...,  1.5873,  0.3801,  0.0125],\n",
      "        ...,\n",
      "        [ 0.2487,  0.0137, -0.6830,  ...,  1.0841,  2.3143, -0.6593],\n",
      "        [-0.0842, -0.4717,  0.2909,  ...,  2.0353, -1.7373,  0.4211],\n",
      "        [ 2.2378, -0.0844,  0.1209,  ...,  0.0145, -0.1701,  0.3130]],\n",
      "       device='cuda:0')\n"
     ]
    }
   ],
   "source": [
    "# con la funcion cuda() ejecutamos los tensores con GPU\n",
    "tensor1 = torch.randn(10000,10000).cuda()\n",
    "tensor2 = torch.randn(10000,10000).cuda()\n",
    "# time sirve para ver el tiempo de ejecucion que cuesta realizar la operacion en este caso la multiplicacion de los 2 tensores 10000 X 10000\n",
    "%time tensor = tensor1 * tensor2\n",
    "print(\"Operacion ejecutada con el GPU\")\n",
    "print(tensor)"
   ]
  },
  {
   "cell_type": "code",
   "execution_count": null,
   "metadata": {
    "id": "Gr7d83wmeAWc"
   },
   "outputs": [],
   "source": [
    "# Estan son algunas de las formas para enviar los Tensores a la GPU  es \n",
    "\n",
    "# Forma1\n",
    "device = torch.device(\"cuda\")\n",
    "\n",
    "# Forma2\n",
    "tensor = torch.randn((1000000,1000000), device=\"cuda\")\n",
    "\n",
    "# Forma3\n",
    "tensor = tensor.cuda()\n",
    "\n",
    "# Forma4\n",
    "tensor = tensor.to(\"cuda\")\n",
    "\n",
    "# Forma5\n",
    "tensor = tensor.to(device)\n"
   ]
  },
  {
   "cell_type": "markdown",
   "metadata": {
    "id": "vb80pwoUiLrx"
   },
   "source": [
    "# Ejemplo con dataset mnist para identificar imagenes"
   ]
  },
  {
   "cell_type": "code",
   "execution_count": 12,
   "metadata": {
    "colab": {
     "base_uri": "https://localhost:8080/"
    },
    "id": "oecb8tEReAo8",
    "outputId": "63abf982-b281-4e64-d09a-970285e677d3"
   },
   "outputs": [
    {
     "name": "stdout",
     "output_type": "stream",
     "text": [
      "Tensor X : \n",
      " [[0. 0. 0. ... 0. 0. 0.]\n",
      " [0. 0. 0. ... 0. 0. 0.]\n",
      " [0. 0. 0. ... 0. 0. 0.]\n",
      " ...\n",
      " [0. 0. 0. ... 0. 0. 0.]\n",
      " [0. 0. 0. ... 0. 0. 0.]\n",
      " [0. 0. 0. ... 0. 0. 0.]]\n",
      "Tensor Y : \n",
      " ['5' '0' '4' ... '4' '5' '6']\n",
      "Longitudes de Los Tensores X , Y : \n",
      "-----------------------------------------------------------------------\n",
      "Tensor X : \n",
      " (70000, 784)\n",
      "Tensor Y : \n",
      " (70000,)\n"
     ]
    }
   ],
   "source": [
    "from sklearn.datasets import fetch_openml\n",
    "\n",
    "mnist = fetch_openml('mnist_784', version=1)\n",
    "#print(mnist)\n",
    "\n",
    "X , Y = mnist[\"data\"], mnist[\"target\"]\n",
    "print(\"Tensor X : \\n\",X)\n",
    "print(\"Tensor Y : \\n\",Y)\n",
    "\n",
    "print(\"Longitudes de Los Tensores X , Y : \\n-----------------------------------------------------------------------\")\n",
    "\n",
    "print(\"Tensor X : \\n\",X.shape)\n",
    "print(\"Tensor Y : \\n\",Y.shape)"
   ]
  },
  {
   "cell_type": "code",
   "execution_count": 18,
   "metadata": {
    "colab": {
     "base_uri": "https://localhost:8080/",
     "height": 441
    },
    "id": "Zo2Vw1Q6lrZ-",
    "outputId": "de9255c9-7e16-4aea-8803-a36994d70b53"
   },
   "outputs": [
    {
     "data": {
      "image/png": "[encoded data removed]",
      "text/plain": [
       "<Figure size 432x432 with 9 Axes>"
      ]
     },
     "metadata": {
      "needs_background": "light",
      "tags": []
     },
     "output_type": "display_data"
    }
   ],
   "source": [
    "%matplotlib inline\n",
    "\n",
    "import matplotlib as mpl\n",
    "import matplotlib.pyplot as plt # para los graficos en este caso en particular para mostrar las imagenes\n",
    "import random \n",
    "\n",
    "# Cantidad de imagenes a mostrar r -> row -> filas  & c -> column -> columnas\n",
    "r, c = 3, 3\n",
    "\n",
    "fig = plt.figure(figsize=(2*c, 2*r))# espacios que tendran entre cada imagen\n",
    "\n",
    "for _r in range(r):\n",
    "    for _c in range(c):\n",
    "        plt.subplot(r, c, _r*c + _c + 1)\n",
    "        ix = random.randint(0, len(X)-1)# linea para traer 9 imagenes random de todas las que estan en el dataset\n",
    "        img = X[ix]\n",
    "        plt.imshow(img.reshape(28,28), cmap='gray')\n",
    "        plt.axis(\"off\")\n",
    "        plt.title(Y[ix])\n",
    "plt.tight_layout()\n",
    "plt.show()"
   ]
  },
  {
   "cell_type": "code",
   "execution_count": 20,
   "metadata": {
    "id": "oykConhsjx9g"
   },
   "outputs": [],
   "source": [
    "# Normalizamos los Datos que seria crea el Train y el Test\n",
    "import numpy as np\n",
    "# generamos datos para el train y el test considerando que no seran los mismos para diferentes tipos de entrenamientos\n",
    "X_train , X_test , Y_train , Y_test = X[:60000] / 255., X[60000:] / 255., Y[:60000].astype(np.int), Y[60000:].astype(np.int)"
   ]
  },
  {
   "cell_type": "code",
   "execution_count": 22,
   "metadata": {
    "id": "O8Reni4RnHcp"
   },
   "outputs": [],
   "source": [
    "# funciona de perdida y derivada\n",
    "\n",
    "# Aplicamos el algoritmo Softmax\n",
    "def softmax(x):\n",
    "    return torch.exp(x) / torch.exp(x).sum(axis=-1,keepdims=True)\n",
    "\n",
    "def cross_entropy(output, target):\n",
    "    logits = output[torch.arange(len(output)), target]\n",
    "    loss = - logits + torch.log(torch.sum(torch.exp(output), axis=-1))\n",
    "    loss = loss.mean()\n",
    "    return loss"
   ]
  },
  {
   "cell_type": "code",
   "execution_count": 24,
   "metadata": {
    "colab": {
     "base_uri": "https://localhost:8080/"
    },
    "id": "unUn_U7OokjA",
    "outputId": "77a5e71e-c086-4b58-8e10-1127487c87bc"
   },
   "outputs": [
    {
     "name": "stdout",
     "output_type": "stream",
     "text": [
      "Epoch 10/100 Loss 1.52251\n",
      "Epoch 20/100 Loss 1.19731\n",
      "Epoch 30/100 Loss 0.98597\n",
      "Epoch 40/100 Loss 0.84149\n",
      "Epoch 50/100 Loss 0.74996\n",
      "Epoch 60/100 Loss 0.67520\n",
      "Epoch 70/100 Loss 0.61861\n",
      "Epoch 80/100 Loss 0.57670\n",
      "Epoch 90/100 Loss 0.54270\n",
      "Epoch 100/100 Loss 0.51222\n"
     ]
    }
   ],
   "source": [
    "D_in, H, D_out = 784, 100, 10\n",
    "\n",
    "# pesos del MLP (copiamos en gpu)\n",
    "w1 = torch.tensor(np.random.normal(loc=0.0, \n",
    "          scale = np.sqrt(2/(D_in+H)), \n",
    "          size = (D_in, H)), \n",
    "          requires_grad=True,\n",
    "          device=\"cuda\", \n",
    "          dtype=torch.float)\n",
    "\n",
    "b1 = torch.zeros(H, requires_grad=True, device=\"cuda\", dtype=torch.float)\n",
    "\n",
    "w2 = torch.tensor(np.random.normal(loc=0.0, \n",
    "          scale = np.sqrt(2/(D_out+H)), \n",
    "          size = (H, D_out)), requires_grad=True, device=\"cuda\", dtype=torch.float)\n",
    "b2 = torch.zeros(D_out, requires_grad=True, device=\"cuda\", dtype=torch.float)\n",
    "\n",
    "# convertimos datos a tensores y copiamos en gpu\n",
    "X_t = torch.from_numpy(X_train).float().cuda()\n",
    "Y_t = torch.from_numpy(Y_train).long().cuda()\n",
    "\n",
    "epochs = 100\n",
    "lr = 0.8\n",
    "log_each = 10\n",
    "l = []\n",
    "\n",
    "#bucle de entrenamiento\n",
    "for e in range(1, epochs+1): \n",
    "    \n",
    "    # forward\n",
    "    h = X_t.mm(w1) + b1\n",
    "    h_relu = h.clamp(min=0) # relu\n",
    "    y_pred = h_relu.mm(w2) + b2\n",
    "\n",
    "    # loss\n",
    "    loss = cross_entropy(y_pred, Y_t)\n",
    "    l.append(loss.item())\n",
    "\n",
    "    # Backprop (calculamos todos los gradientes automáticamente)\n",
    "    loss.backward()\n",
    "\n",
    "    with torch.no_grad():\n",
    "        # update pesos\n",
    "        w1 -= lr * w1.grad\n",
    "        b1 -= lr * b1.grad\n",
    "        w2 -= lr * w2.grad  \n",
    "        b2 -= lr * b2.grad\n",
    "        \n",
    "        # ponemos a cero los gradientes para la siguiente iteración\n",
    "        # (sino acumularíamos gradientes)\n",
    "        w1.grad.zero_()\n",
    "        w2.grad.zero_()\n",
    "        b1.grad.zero_()\n",
    "        b2.grad.zero_()\n",
    "    \n",
    "    if not e % log_each:\n",
    "        print(f\"Epoch {e}/{epochs} Loss {np.mean(l):.5f}\")"
   ]
  },
  {
   "cell_type": "code",
   "execution_count": 25,
   "metadata": {
    "id": "sdfIx8aKok5p"
   },
   "outputs": [],
   "source": [
    "def evaluate(x):\n",
    "    h = x.mm(w1) + b1\n",
    "    h_relu = h.clamp(min=0)\n",
    "    y_pred = h_relu.mm(w2) + b2\n",
    "    y_probas = softmax(y_pred)\n",
    "    return torch.argmax(y_probas, axis=1)"
   ]
  },
  {
   "cell_type": "code",
   "execution_count": 27,
   "metadata": {
    "colab": {
     "base_uri": "https://localhost:8080/"
    },
    "id": "dTCnQK-wolG5",
    "outputId": "4b9d4aef-a9ca-4c12-d7fb-f916c108e702"
   },
   "outputs": [
    {
     "data": {
      "text/plain": [
       "0.9344"
      ]
     },
     "execution_count": 27,
     "metadata": {
      "tags": []
     },
     "output_type": "execute_result"
    }
   ],
   "source": [
    "from sklearn.metrics import accuracy_score\n",
    "\n",
    "y_pred = evaluate(torch.from_numpy(X_test).float().cuda())\n",
    "accuracy_score(Y_test, y_pred.cpu().numpy())"
   ]
  },
  {
   "cell_type": "code",
   "execution_count": 29,
   "metadata": {
    "colab": {
     "base_uri": "https://localhost:8080/",
     "height": 441
    },
    "id": "KvKV9R2Golb4",
    "outputId": "1f7c6387-08d9-4b8d-b0d1-447662eb9071"
   },
   "outputs": [
    {
     "data": {
      "image/png": "[encoded data removed]",
      "text/plain": [
       "<Figure size 720x432 with 15 Axes>"
      ]
     },
     "metadata": {
      "needs_background": "light",
      "tags": []
     },
     "output_type": "display_data"
    }
   ],
   "source": [
    "r, c = 3, 5\n",
    "fig = plt.figure(figsize=(2*c, 2*r))\n",
    "test_imgs, test_labs = [], []\n",
    "for _r in range(r):\n",
    "    for _c in range(c):\n",
    "        plt.subplot(r, c, _r*c + _c + 1)\n",
    "        ix = random.randint(0, len(X_test)-1)\n",
    "        img = X_test[ix]\n",
    "        y_pred = evaluate(torch.tensor([img]).float().cuda())[0]\n",
    "        plt.imshow(img.reshape(28,28), cmap='gray')\n",
    "        plt.axis(\"off\")\n",
    "        plt.title(f\"{Y_test[ix]}/{y_pred}\", color=\"green\" if Y_test[ix] == y_pred else \"red\")\n",
    "plt.tight_layout()\n",
    "plt.show()"
   ]
  }
 ],
 "metadata": {
  "accelerator": "GPU",
  "colab": {
   "authorship_tag": "ABX9TyPw2kH/QvYjFxMxpDB9dZES",
   "collapsed_sections": [],
   "include_colab_link": true,
   "name": "Learning_Pytorch.ipynb",
   "provenance": []
  },
  "kernelspec": {
   "display_name": "Python 3 (ipykernel)",
   "language": "python",
   "name": "python3"
  },
  "language_info": {
   "codemirror_mode": {
    "name": "ipython",
    "version": 3
   },
   "file_extension": ".py",
   "mimetype": "text/x-python",
   "name": "python",
   "nbconvert_exporter": "python",
   "pygments_lexer": "ipython3",
   "version": "3.11.0"
  }
 },
 "nbformat": 4,
 "nbformat_minor": 4
}
