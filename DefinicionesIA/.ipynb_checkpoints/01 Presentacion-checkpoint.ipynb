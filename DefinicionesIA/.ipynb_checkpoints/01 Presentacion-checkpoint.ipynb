{
 "cells": [
  {
   "cell_type": "markdown",
   "metadata": {},
   "source": [
    "<h1 style=\"font-size: 50px; text-align:center;color:##5E2692; \"> INTELIGENCIA ARTIFICIAL</h1>\n",
    "\n",
    "<h4 style=\"font-size: 15px; text-align:right;color:##5E2692; \">por Tumiri Huanca Alex</h4>"
   ]
  },
  {
   "cell_type": "markdown",
   "metadata": {},
   "source": [
    "[![](GitHub.png)](https://github.com/Zelechos)"
   ]
  },
  {
   "cell_type": "markdown",
   "metadata": {},
   "source": [
    "## Requisitos\n",
    "### Click en los nombres para ir a los Repositorios\n",
    "<ul>\n",
    "    <li><a href=\"https://github.com/Zelechos\" stakeholder=\"_blank\">Matematicas</a></li>\n",
    "    <li><a href=\"https://github.com/Zelechos/Python_IA\" stakeholder=\"_blank\">Programacion de preferencia (Python)</a></li>\n",
    "    <li><a href=\"https://github.com/Zelechos\" stakeholder=\"_blank\">Bases de Datos</a></li>\n",
    "    <li><a href=\"https://github.com/Zelechos\" stakeholder=\"_blank\">Expresiones Regulares</a></li>\n",
    "    <li><a href=\"https://github.com/Zelechos\" stakeholder=\"_blank\">Lenguajes Formales</a></li>\n",
    "</ul>"
   ]
  },
  {
   "cell_type": "markdown",
   "metadata": {},
   "source": [
    "# Definiciones"
   ]
  },
  {
   "cell_type": "markdown",
   "metadata": {},
   "source": [
    "1. Inteligencia Artificial\n",
    "2. Agente\n",
    "3. Agente Inteligente\n",
    "4. Sistemas MultiAgente"
   ]
  },
  {
   "cell_type": "markdown",
   "metadata": {},
   "source": [
    "### 1. Inteligencia Artificial\n",
    "Existen muchas definiciones, unas más inclinadas hacia alguna rama en especial de la IA que otras, pero en resumen se puede decir que la IA trata de:  `“Desarrollar sistemas que piensen y actúen racionalmente” `"
   ]
  },
  {
   "cell_type": "markdown",
   "metadata": {},
   "source": [
    "### 2. Agente\n",
    "Hay numerosas definiciones de lo que es un agente, y ninguna ha sido aceptada plenamente por la comunidad científica pero probablemente la más simple es la de Russell, que dice:\n",
    "`\"Un agente es una entidad que percibe y actúa sobre su entorno\"`"
   ]
  },
  {
   "cell_type": "markdown",
   "metadata": {},
   "source": [
    "### 3. Agente Inteligente\n",
    "`\"Un agente Inteligente es una entidad que actua de la mejor forma posible en el tiempo que dispone, segun la informacion que posee, para lograr un objetivo que aporte la mayor utilidad esperada\"`"
   ]
  },
  {
   "cell_type": "markdown",
   "metadata": {},
   "source": [
    "### 4. Sistemas MultiAgente\n",
    "`A un sistema que tiene varios agentes inteligentes se le llama sistema multiagente` (Huhns 1998). Los agentes en este tipo de sistemas deben interactuar entre ellos. Las interacciones más habituales son informar o consular otros agentes y esto les permite a los agentes “hablar” entre ellos, saber que hace cada uno de ellos y razonar sobre el papel que juega cada uno en el sistema. La comunicación entre agentes se realiza por medio del lenguaje ACL Agent Communication Lenguaje.  "
   ]
  },
  {
   "cell_type": "markdown",
   "metadata": {},
   "source": [
    "# Inteligencia Artificial (I.A.)\n",
    "\n",
    "|               |    Humano     |    Racional   |\n",
    "| ------------- | ------------- | ------------- |\n",
    "|Pensamiento Interno| TEST DE TURING (Pensar como Humanos)| LOGICA (Pensar racionalmente)|\n",
    "|Comportamiento Externo| REDES NEURONALES (Comportarse como Humanos)|AGENTES RACIONALES (Comportarse Racionalmente)|"
   ]
  },
  {
   "cell_type": "markdown",
   "metadata": {},
   "source": [
    "#  Bases de la I.A."
   ]
  },
  {
   "cell_type": "markdown",
   "metadata": {},
   "source": [
    "- Filosofia y Psicologia\n",
    "- Matematicas\n",
    "- Informatica\n",
    "- Cibernetica\n",
    "- Linguistica\n",
    "- Economia\n",
    "- Neurociencia\n",
    "- Biologia"
   ]
  },
  {
   "cell_type": "markdown",
   "metadata": {},
   "source": [
    "# Enfoques de la I.A.\n",
    "\n",
    "### - Bioinspirados:\n",
    "   - Redes Neuronales\n",
    "   - Algoritmos Geneticos\n",
    "   \n",
    "### - Matematicos:\n",
    "   - Grafos y Busquedas\n",
    "   - Simbolicos: Logica y SBC(Sistemas Basados en el Conocimiento)\n",
    "   - Probabilisticos\n",
    "   \n",
    "### - Mixtos:\n",
    "   - Redes Bayesianas"
   ]
  },
  {
   "cell_type": "markdown",
   "metadata": {},
   "source": [
    "#  Areas de la I.A.\n",
    "### - Busquedas\n",
    "\n",
    "### - Representacion del Conocimiento :\n",
    " - Simbolico, Conexionista, Mixto\n",
    " \n",
    "### - Razonamiento:\n",
    " - Inductivo, Deductivo, Abductivo, Analogo\n",
    " \n",
    "### - Tratamiento de la Incertidumbre:\n",
    "### - Planificacion\n",
    "### - Toma de Decisiones\n",
    "### - Aprendizaje:\n",
    "  - Supervisado, No Supervisado, Por Refuerzo\n",
    " "
   ]
  },
  {
   "cell_type": "markdown",
   "metadata": {},
   "source": [
    "# Aplicaciones de la I.A.\n",
    "\n",
    "### - Resolucion Automatica de Problemas\n",
    "### - Juegos\n",
    "### - Mineria de Datos\n",
    "### - Diagnostico\n",
    "### - Prediccion\n",
    "### - Procesamiento del Lenguaje Natural\n",
    "### - Percepcion\n",
    "### - Robotica"
   ]
  }
 ],
 "metadata": {
  "kernelspec": {
   "display_name": "Python 3",
   "language": "python",
   "name": "python3"
  },
  "language_info": {
   "codemirror_mode": {
    "name": "ipython",
    "version": 3
   },
   "file_extension": ".py",
   "mimetype": "text/x-python",
   "name": "python",
   "nbconvert_exporter": "python",
   "pygments_lexer": "ipython3",
   "version": "3.7.6"
  }
 },
 "nbformat": 4,
 "nbformat_minor": 4
}
