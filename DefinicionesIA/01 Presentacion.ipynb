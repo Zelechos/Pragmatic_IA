{
  "nbformat": 4,
  "nbformat_minor": 0,
  "metadata": {
    "kernelspec": {
      "display_name": "Python 3",
      "language": "python",
      "name": "python3"
    },
    "language_info": {
      "codemirror_mode": {
        "name": "ipython",
        "version": 3
      },
      "file_extension": ".py",
      "mimetype": "text/x-python",
      "name": "python",
      "nbconvert_exporter": "python",
      "pygments_lexer": "ipython3",
      "version": "3.7.6"
    },
    "colab": {
      "name": "01 Presentacion.ipynb",
      "provenance": [],
      "include_colab_link": true
    }
  },
  "cells": [
    {
      "cell_type": "markdown",
      "metadata": {
        "id": "view-in-github",
        "colab_type": "text"
      },
      "source": [
        "<a href=\"https://colab.research.google.com/github/Zelechos/Pragmatic_IA/blob/master/Nivel%200/01%20Presentacion.ipynb\" target=\"_parent\"><img src=\"https://colab.research.google.com/assets/colab-badge.svg\" alt=\"Open In Colab\"/></a>"
      ]
    },
    {
      "cell_type": "markdown",
      "metadata": {
        "id": "3ARF5Y2H4S8H"
      },
      "source": [
        "<h1 style=\"font-size: 50px; text-align:center;color:##5E2692; \"> INTELIGENCIA ARTIFICIAL IA</h1>\n",
        " \n",
        "<h4 style=\"font-size: 15px; text-align:right;color:##5E2692; \">por Tumiri Huanca Alex</h4>"
      ]
    },
    {
      "cell_type": "markdown",
      "metadata": {
        "id": "uRSpFl-l4S9d"
      },
      "source": [
        "## Requisitos\n",
        "### Click en los nombres para ir a los Repositorios\n",
        "<ul>\n",
        "    <li><a href=\"https://github.com/Zelechos\" stakeholder=\"_blank\">Matematicas</a></li>\n",
        "    <li><a href=\"https://github.com/Zelechos/Python_IA\" stakeholder=\"_blank\">Programacion de preferencia (Python)</a></li>\n",
        "    <li><a href=\"https://github.com/Zelechos\" stakeholder=\"_blank\">Bases de Datos</a></li>\n",
        "    <li><a href=\"https://github.com/Zelechos\" stakeholder=\"_blank\">Expresiones Regulares</a></li>\n",
        "    <li><a href=\"https://github.com/Zelechos\" stakeholder=\"_blank\">Lenguajes Formales</a></li>\n",
        "</ul>"
      ]
    },
    {
      "cell_type": "markdown",
      "metadata": {
        "id": "lOpDPWeJ4S9k"
      },
      "source": [
        "# Definiciones"
      ]
    },
    {
      "cell_type": "markdown",
      "metadata": {
        "id": "o4kHbRW-4S9n"
      },
      "source": [
        "1. Inteligencia Artificial\n",
        "2. Agente\n",
        "3. Agente Inteligente\n",
        "4. Sistemas MultiAgente"
      ]
    },
    {
      "cell_type": "markdown",
      "metadata": {
        "id": "SANkPE7B4S9r"
      },
      "source": [
        "### 1. Inteligencia Artificial\n",
        "Existen muchas definiciones, unas más inclinadas hacia alguna rama en especial de la IA que otras, pero en resumen se puede decir que la IA trata de:  `“Desarrollar sistemas que piensen y actúen racionalmente” `"
      ]
    },
    {
      "cell_type": "markdown",
      "metadata": {
        "id": "y55EAuVS4S9v"
      },
      "source": [
        "### 2. Agente\n",
        "Hay numerosas definiciones de lo que es un agente, y ninguna ha sido aceptada plenamente por la comunidad científica pero probablemente la más simple es la de Russell, que dice:\n",
        "`\"Un agente es una entidad que percibe y actúa sobre su entorno\"`"
      ]
    },
    {
      "cell_type": "markdown",
      "metadata": {
        "id": "jhQNdLLq4S9z"
      },
      "source": [
        "### 3. Agente Inteligente\n",
        "`\"Un agente Inteligente es una entidad que actua de la mejor forma posible en el tiempo que dispone, segun la informacion que posee, para lograr un objetivo que aporte la mayor utilidad esperada\"`"
      ]
    },
    {
      "cell_type": "markdown",
      "metadata": {
        "id": "E2Ax_tDi4S93"
      },
      "source": [
        "### 4. Sistemas MultiAgente\n",
        "`A un sistema que tiene varios agentes inteligentes se le llama sistema multiagente` (Huhns 1998). Los agentes en este tipo de sistemas deben interactuar entre ellos. Las interacciones más habituales son informar o consular otros agentes y esto les permite a los agentes “hablar” entre ellos, saber que hace cada uno de ellos y razonar sobre el papel que juega cada uno en el sistema. La comunicación entre agentes se realiza por medio del lenguaje ACL Agent Communication Lenguaje.  "
      ]
    },
    {
      "cell_type": "markdown",
      "metadata": {
        "id": "a9LR016h4S98"
      },
      "source": [
        "# Inteligencia Artificial (I.A.)\n",
        "\n",
        "|               |    Humano     |    Racional   |\n",
        "| ------------- | ------------- | ------------- |\n",
        "|Pensamiento Interno| TEST DE TURING (Pensar como Humanos)| LOGICA (Pensar racionalmente)|\n",
        "|Comportamiento Externo| REDES NEURONALES (Comportarse como Humanos)|AGENTES RACIONALES (Comportarse Racionalmente)|"
      ]
    },
    {
      "cell_type": "markdown",
      "metadata": {
        "id": "rY-M3V5k4S-A"
      },
      "source": [
        "#  Bases de la I.A."
      ]
    },
    {
      "cell_type": "markdown",
      "metadata": {
        "id": "1F19KiA94S-D"
      },
      "source": [
        "- Filosofia y Psicologia\n",
        "- Matematicas\n",
        "- Informatica\n",
        "- Cibernetica\n",
        "- Linguistica\n",
        "- Economia\n",
        "- Neurociencia\n",
        "- Biologia"
      ]
    },
    {
      "cell_type": "markdown",
      "metadata": {
        "id": "JSEMc0Q_4S-H"
      },
      "source": [
        "# Enfoques de la I.A.\n",
        "\n",
        "### - Bioinspirados:\n",
        "   - Redes Neuronales\n",
        "   - Algoritmos Geneticos\n",
        "   \n",
        "### - Matematicos:\n",
        "   - Grafos y Busquedas\n",
        "   - Simbolicos: Logica y SBC(Sistemas Basados en el Conocimiento)\n",
        "   - Probabilisticos\n",
        "   \n",
        "### - Mixtos:\n",
        "   - Redes Bayesianas"
      ]
    },
    {
      "cell_type": "markdown",
      "metadata": {
        "id": "dMF0rOhV4S-K"
      },
      "source": [
        "#  Areas de la I.A.\n",
        "### - Busquedas\n",
        "\n",
        "### - Representacion del Conocimiento :\n",
        " - Simbolico, Conexionista, Mixto\n",
        " \n",
        "### - Razonamiento:\n",
        " - Inductivo, Deductivo, Abductivo, Analogo\n",
        " \n",
        "### - Tratamiento de la Incertidumbre:\n",
        "### - Planificacion\n",
        "### - Toma de Decisiones\n",
        "### - Aprendizaje:\n",
        "  - Supervisado, No Supervisado, Por Refuerzo\n",
        " "
      ]
    },
    {
      "cell_type": "markdown",
      "metadata": {
        "id": "X-Iu7N3A4S-O"
      },
      "source": [
        "# Aplicaciones de la I.A.\n",
        "\n",
        "### - Resolucion Automatica de Problemas\n",
        "### - Juegos\n",
        "### - Mineria de Datos\n",
        "### - Diagnostico\n",
        "### - Prediccion\n",
        "### - Procesamiento del Lenguaje Natural\n",
        "### - Percepcion\n",
        "### - Robotica"
      ]
    }
  ]
}