{
 "cells": [
  {
   "cell_type": "markdown",
   "metadata": {},
   "source": [
    "# Python Tutorial\n",
    "\n",
    "## 0. Comentarios Y Python como Calculadora"
   ]
  },
  {
   "cell_type": "markdown",
   "metadata": {},
   "source": [
    "### La manera de escribir un comentario sin que afecte a tu codigo es :"
   ]
  },
  {
   "cell_type": "code",
   "execution_count": 2,
   "metadata": {},
   "outputs": [],
   "source": [
    "# Esto es Un Comentario\n",
    "#Y no afecta a mi codigo asi que no se mostrara nunca en la ejecucion de este bloque de codigo\n",
    "#puedo hacer los comentarios que yo quiera\n"
   ]
  },
  {
   "cell_type": "markdown",
   "metadata": {},
   "source": [
    "### Numero Entero"
   ]
  },
  {
   "cell_type": "code",
   "execution_count": 12,
   "metadata": {},
   "outputs": [
    {
     "data": {
      "text/plain": [
       "99"
      ]
     },
     "execution_count": 12,
     "metadata": {},
     "output_type": "execute_result"
    }
   ],
   "source": [
    "99"
   ]
  },
  {
   "cell_type": "markdown",
   "metadata": {},
   "source": [
    "### Numero Decimal"
   ]
  },
  {
   "cell_type": "code",
   "execution_count": 13,
   "metadata": {},
   "outputs": [
    {
     "data": {
      "text/plain": [
       "3.1416"
      ]
     },
     "execution_count": 13,
     "metadata": {},
     "output_type": "execute_result"
    }
   ],
   "source": [
    "3.1416"
   ]
  },
  {
   "cell_type": "markdown",
   "metadata": {},
   "source": [
    "### Numeros Complejos"
   ]
  },
  {
   "cell_type": "code",
   "execution_count": 14,
   "metadata": {},
   "outputs": [
    {
     "data": {
      "text/plain": [
       "(9+34j)"
      ]
     },
     "execution_count": 14,
     "metadata": {},
     "output_type": "execute_result"
    }
   ],
   "source": [
    "9 + 34j"
   ]
  },
  {
   "cell_type": "markdown",
   "metadata": {},
   "source": [
    "### Texto"
   ]
  },
  {
   "cell_type": "code",
   "execution_count": 15,
   "metadata": {},
   "outputs": [
    {
     "data": {
      "text/plain": [
       "'Hola soy un texto'"
      ]
     },
     "execution_count": 15,
     "metadata": {},
     "output_type": "execute_result"
    }
   ],
   "source": [
    "\"Hola soy un texto\""
   ]
  },
  {
   "cell_type": "code",
   "execution_count": 16,
   "metadata": {},
   "outputs": [
    {
     "data": {
      "text/plain": [
       "'Hola soy otro texto pero con comillas simples'"
      ]
     },
     "execution_count": 16,
     "metadata": {},
     "output_type": "execute_result"
    }
   ],
   "source": [
    "'Hola soy otro texto pero con comillas simples'"
   ]
  },
  {
   "cell_type": "code",
   "execution_count": 1,
   "metadata": {},
   "outputs": [
    {
     "data": {
      "text/plain": [
       "'Hola soy un texto con comillas triples'"
      ]
     },
     "execution_count": 1,
     "metadata": {},
     "output_type": "execute_result"
    }
   ],
   "source": [
    "\"\"\"Hola soy un texto con comillas triples\"\"\""
   ]
  },
  {
   "cell_type": "markdown",
   "metadata": {},
   "source": [
    "###  Jupiter Notebook sirve como una calculadora Funcional y muy Practica \n",
    "### Puedes Sumar , Restar ,Multiplicar , Dividir . etc"
   ]
  },
  {
   "cell_type": "code",
   "execution_count": 4,
   "metadata": {},
   "outputs": [
    {
     "data": {
      "text/plain": [
       "69187"
      ]
     },
     "execution_count": 4,
     "metadata": {},
     "output_type": "execute_result"
    }
   ],
   "source": [
    "34953 + 34234"
   ]
  },
  {
   "cell_type": "code",
   "execution_count": 5,
   "metadata": {},
   "outputs": [
    {
     "data": {
      "text/plain": [
       "0.3423400000000001"
      ]
     },
     "execution_count": 5,
     "metadata": {},
     "output_type": "execute_result"
    }
   ],
   "source": [
    "9.34234 - 9"
   ]
  },
  {
   "cell_type": "code",
   "execution_count": 6,
   "metadata": {},
   "outputs": [
    {
     "data": {
      "text/plain": [
       "171"
      ]
     },
     "execution_count": 6,
     "metadata": {},
     "output_type": "execute_result"
    }
   ],
   "source": [
    "9 * 19"
   ]
  },
  {
   "cell_type": "code",
   "execution_count": 7,
   "metadata": {},
   "outputs": [
    {
     "data": {
      "text/plain": [
       "229.0"
      ]
     },
     "execution_count": 7,
     "metadata": {},
     "output_type": "execute_result"
    }
   ],
   "source": [
    "458 / 2"
   ]
  },
  {
   "cell_type": "markdown",
   "metadata": {},
   "source": [
    "### Y Combinar las operaciones Basicas y hacer calculos complejos "
   ]
  },
  {
   "cell_type": "code",
   "execution_count": 8,
   "metadata": {},
   "outputs": [
    {
     "data": {
      "text/plain": [
       "5.0"
      ]
     },
     "execution_count": 8,
     "metadata": {},
     "output_type": "execute_result"
    }
   ],
   "source": [
    "(50-5*6)/4"
   ]
  },
  {
   "cell_type": "markdown",
   "metadata": {},
   "source": [
    "### Para una division con un resultado no decimal se usa la siguiente notacion"
   ]
  },
  {
   "cell_type": "code",
   "execution_count": 9,
   "metadata": {},
   "outputs": [
    {
     "data": {
      "text/plain": [
       "2"
      ]
     },
     "execution_count": 9,
     "metadata": {},
     "output_type": "execute_result"
    }
   ],
   "source": [
    "7//3"
   ]
  },
  {
   "cell_type": "markdown",
   "metadata": {},
   "source": [
    "###  Sin embargo el resultado de esta division es :"
   ]
  },
  {
   "cell_type": "code",
   "execution_count": 10,
   "metadata": {},
   "outputs": [
    {
     "data": {
      "text/plain": [
       "2.3333333333333335"
      ]
     },
     "execution_count": 10,
     "metadata": {},
     "output_type": "execute_result"
    }
   ],
   "source": [
    "7/3"
   ]
  },
  {
   "cell_type": "markdown",
   "metadata": {},
   "source": [
    "### El Residuo de una Division"
   ]
  },
  {
   "cell_type": "code",
   "execution_count": 17,
   "metadata": {},
   "outputs": [
    {
     "data": {
      "text/plain": [
       "0"
      ]
     },
     "execution_count": 17,
     "metadata": {},
     "output_type": "execute_result"
    }
   ],
   "source": [
    "6%2"
   ]
  },
  {
   "cell_type": "markdown",
   "metadata": {},
   "source": [
    "### La Notacion para elevar un numero por un exponente es la siguiente"
   ]
  },
  {
   "cell_type": "code",
   "execution_count": 2,
   "metadata": {},
   "outputs": [
    {
     "data": {
      "text/plain": [
       "15625"
      ]
     },
     "execution_count": 2,
     "metadata": {},
     "output_type": "execute_result"
    }
   ],
   "source": [
    "5**6 # esto denota 5 con exponente de 6"
   ]
  },
  {
   "cell_type": "markdown",
   "metadata": {},
   "source": [
    "### Y si tambien se puede hacer operaciones con los numeros complejos"
   ]
  },
  {
   "cell_type": "code",
   "execution_count": 18,
   "metadata": {},
   "outputs": [
    {
     "data": {
      "text/plain": [
       "(34-42j)"
      ]
     },
     "execution_count": 18,
     "metadata": {},
     "output_type": "execute_result"
    }
   ],
   "source": [
    "34+6j * 8-90j"
   ]
  },
  {
   "cell_type": "markdown",
   "metadata": {},
   "source": [
    "### El signo igual (=) es usado para asignar un valor a una variable. Luego, ningún resultado es mostrado "
   ]
  },
  {
   "cell_type": "code",
   "execution_count": 3,
   "metadata": {},
   "outputs": [
    {
     "name": "stdout",
     "output_type": "stream",
     "text": [
      "Simbolo de Euros : €\n"
     ]
    }
   ],
   "source": [
    "Moneda = \"Simbolo de Euros : €\"\n",
    "print(Moneda) #print() sirve para mostrar mensajes en pantalla"
   ]
  },
  {
   "cell_type": "code",
   "execution_count": 18,
   "metadata": {},
   "outputs": [
    {
     "data": {
      "text/plain": [
       "900"
      ]
     },
     "execution_count": 18,
     "metadata": {},
     "output_type": "execute_result"
    }
   ],
   "source": [
    "Ancho = 20\n",
    "Largo = 5*9\n",
    "Ancho * Largo"
   ]
  },
  {
   "cell_type": "markdown",
   "metadata": {},
   "source": [
    "### Tambien podemos concatenar los nuestros diferentes Datos en un solo mensaje"
   ]
  },
  {
   "cell_type": "code",
   "execution_count": 6,
   "metadata": {},
   "outputs": [
    {
     "name": "stdout",
     "output_type": "stream",
     "text": [
      "Cual es Tu Nombre :  Alan Mathison \n",
      "Cual es tu Apellido :  Turing \n",
      "Cual es tu Edad :  41\n"
     ]
    }
   ],
   "source": [
    "Nombre = 'Alan Mathison'\n",
    "Apellido = 'Turing'\n",
    "Edad = 41\n",
    "\n",
    "print(\"Cual es Tu Nombre : \",Nombre,\"\\nCual es tu Apellido : \",Apellido,\"\\nCual es tu Edad : \",Edad)"
   ]
  },
  {
   "cell_type": "markdown",
   "metadata": {},
   "source": [
    "### Un valor puede ser asignado a varias variables simultáneamente"
   ]
  },
  {
   "cell_type": "code",
   "execution_count": 20,
   "metadata": {},
   "outputs": [
    {
     "name": "stdout",
     "output_type": "stream",
     "text": [
      "x : 0\n",
      "y : 0\n",
      "z : 0\n"
     ]
    }
   ],
   "source": [
    "x = y = z = 0\n",
    "\n",
    "print('x :',x)\n",
    "print('y :',y)\n",
    "print('z :',z)"
   ]
  },
  {
   "cell_type": "markdown",
   "metadata": {},
   "source": [
    "### Las variables deben estar \"definidas\" (con un valor asignado) antes de que puedan usarse, o un error ocurrirá:"
   ]
  },
  {
   "cell_type": "code",
   "execution_count": 8,
   "metadata": {},
   "outputs": [
    {
     "ename": "NameError",
     "evalue": "name 'num' is not defined",
     "output_type": "error",
     "traceback": [
      "\u001b[1;31m---------------------------------------------------------------------------\u001b[0m",
      "\u001b[1;31mNameError\u001b[0m                                 Traceback (most recent call last)",
      "\u001b[1;32m<ipython-input-8-73916177dc35>\u001b[0m in \u001b[0;36m<module>\u001b[1;34m\u001b[0m\n\u001b[1;32m----> 1\u001b[1;33m \u001b[0mnum\u001b[0m \u001b[1;31m# variable no esta definida por ningun valor\u001b[0m\u001b[1;33m\u001b[0m\u001b[1;33m\u001b[0m\u001b[0m\n\u001b[0m\u001b[0;32m      2\u001b[0m \u001b[0mprint\u001b[0m\u001b[1;33m(\u001b[0m\u001b[0mnum\u001b[0m\u001b[1;33m)\u001b[0m\u001b[1;33m\u001b[0m\u001b[1;33m\u001b[0m\u001b[0m\n",
      "\u001b[1;31mNameError\u001b[0m: name 'num' is not defined"
     ]
    }
   ],
   "source": [
    "num # variable no esta definida por ningun valor\n",
    "print(num)"
   ]
  },
  {
   "cell_type": "markdown",
   "metadata": {},
   "source": [
    "###  Se soporta completamente los números de punto flotante; las operaciones con mezclas en los tipos de los operandos convierten los enteros a punto flotante:"
   ]
  },
  {
   "cell_type": "code",
   "execution_count": 22,
   "metadata": {},
   "outputs": [
    {
     "data": {
      "text/plain": [
       "9.0"
      ]
     },
     "execution_count": 22,
     "metadata": {},
     "output_type": "execute_result"
    }
   ],
   "source": [
    "6*6.75/4.5"
   ]
  },
  {
   "cell_type": "code",
   "execution_count": 23,
   "metadata": {},
   "outputs": [
    {
     "data": {
      "text/plain": [
       "3.5"
      ]
     },
     "execution_count": 23,
     "metadata": {},
     "output_type": "execute_result"
    }
   ],
   "source": [
    "7.0/2"
   ]
  },
  {
   "cell_type": "markdown",
   "metadata": {},
   "source": [
    "###  Los números complejos también están soportados; los números imaginarios son escritos con el sufijo de j o J. Los números complejos con un componente real que no sea cero son escritos como (real+imagj), o pueden ser escrito con la función complex(real, imag)."
   ]
  },
  {
   "cell_type": "code",
   "execution_count": 9,
   "metadata": {},
   "outputs": [
    {
     "data": {
      "text/plain": [
       "(41+45j)"
      ]
     },
     "execution_count": 9,
     "metadata": {},
     "output_type": "execute_result"
    }
   ],
   "source": [
    "41 + 45J"
   ]
  },
  {
   "cell_type": "code",
   "execution_count": 10,
   "metadata": {},
   "outputs": [
    {
     "data": {
      "text/plain": [
       "(24-28j)"
      ]
     },
     "execution_count": 10,
     "metadata": {},
     "output_type": "execute_result"
    }
   ],
   "source": [
    "24 - 28j"
   ]
  },
  {
   "cell_type": "code",
   "execution_count": 11,
   "metadata": {},
   "outputs": [
    {
     "data": {
      "text/plain": [
       "(9+34j)"
      ]
     },
     "execution_count": 11,
     "metadata": {},
     "output_type": "execute_result"
    }
   ],
   "source": [
    "complex(9,34)"
   ]
  },
  {
   "cell_type": "code",
   "execution_count": 25,
   "metadata": {},
   "outputs": [
    {
     "data": {
      "text/plain": [
       "(-1+0j)"
      ]
     },
     "execution_count": 25,
     "metadata": {},
     "output_type": "execute_result"
    }
   ],
   "source": [
    "1j * 1J"
   ]
  },
  {
   "cell_type": "code",
   "execution_count": 26,
   "metadata": {},
   "outputs": [
    {
     "data": {
      "text/plain": [
       "(-1+0j)"
      ]
     },
     "execution_count": 26,
     "metadata": {},
     "output_type": "execute_result"
    }
   ],
   "source": [
    "1j * complex(0,1)"
   ]
  },
  {
   "cell_type": "code",
   "execution_count": 29,
   "metadata": {},
   "outputs": [
    {
     "data": {
      "text/plain": [
       "(9+3j)"
      ]
     },
     "execution_count": 29,
     "metadata": {},
     "output_type": "execute_result"
    }
   ],
   "source": [
    "(3 + 1j) * 3"
   ]
  },
  {
   "cell_type": "code",
   "execution_count": 30,
   "metadata": {},
   "outputs": [
    {
     "data": {
      "text/plain": [
       "(1.5+0.5j)"
      ]
     },
     "execution_count": 30,
     "metadata": {},
     "output_type": "execute_result"
    }
   ],
   "source": [
    "(1 + 2j) / (1 + 1j)"
   ]
  },
  {
   "cell_type": "markdown",
   "metadata": {},
   "source": [
    "### Los números complejos son siempre representados como dos números de punto flotante, la parte real y la imaginaria. Para extraer estas partes desde un número complejo z, usá z.real y z.imag."
   ]
  },
  {
   "cell_type": "code",
   "execution_count": 31,
   "metadata": {},
   "outputs": [
    {
     "name": "stdout",
     "output_type": "stream",
     "text": [
      "Parte Real :  1.5\n",
      "Parte Imaginaria :  0.5\n"
     ]
    }
   ],
   "source": [
    "Z = 1.5 + 0.5j\n",
    "\n",
    "print('Parte Real : ',Z.real)\n",
    "print('Parte Imaginaria : ',Z.imag)"
   ]
  },
  {
   "cell_type": "code",
   "execution_count": 14,
   "metadata": {},
   "outputs": [
    {
     "name": "stdout",
     "output_type": "stream",
     "text": [
      "Resultado :  (39.45-91.69999999999999j)\n",
      "Parte Real :  39.45\n",
      "Parte Imaginaria :  -91.69999999999999\n"
     ]
    }
   ],
   "source": [
    "Numero = 39.45 - 41.9j * 3 + 34j \n",
    "print('Resultado : ',Numero)\n",
    "#primero se calcula luego se le saca la parte real e imaginaria\n",
    "\n",
    "print('Parte Real : ',Numero.real)\n",
    "print('Parte Imaginaria : ',Numero.imag)"
   ]
  },
  {
   "cell_type": "markdown",
   "metadata": {},
   "source": [
    "### La función de conversión de los punto flotante y enteros (float(), int() y long()) no funciona para números complejos; aquí no hay una forma correcta de convertir un número complejo a un número real. Usá abs(z) para obtener esta magnitud (como un flotante) o z.real para obtener la parte real."
   ]
  },
  {
   "cell_type": "code",
   "execution_count": 20,
   "metadata": {},
   "outputs": [
    {
     "data": {
      "text/plain": [
       "34"
      ]
     },
     "execution_count": 20,
     "metadata": {},
     "output_type": "execute_result"
    }
   ],
   "source": [
    "int(34.45)"
   ]
  },
  {
   "cell_type": "code",
   "execution_count": 21,
   "metadata": {},
   "outputs": [
    {
     "data": {
      "text/plain": [
       "99.0"
      ]
     },
     "execution_count": 21,
     "metadata": {},
     "output_type": "execute_result"
    }
   ],
   "source": [
    "float(99)"
   ]
  },
  {
   "cell_type": "code",
   "execution_count": 25,
   "metadata": {},
   "outputs": [
    {
     "ename": "TypeError",
     "evalue": "can't convert complex to float",
     "output_type": "error",
     "traceback": [
      "\u001b[1;31m---------------------------------------------------------------------------\u001b[0m",
      "\u001b[1;31mTypeError\u001b[0m                                 Traceback (most recent call last)",
      "\u001b[1;32m<ipython-input-25-c3d54465826a>\u001b[0m in \u001b[0;36m<module>\u001b[1;34m\u001b[0m\n\u001b[0;32m      1\u001b[0m \u001b[0mNumComplex\u001b[0m \u001b[1;33m=\u001b[0m \u001b[1;36m3.0\u001b[0m \u001b[1;33m+\u001b[0m \u001b[1;36m4.0j\u001b[0m\u001b[1;33m\u001b[0m\u001b[1;33m\u001b[0m\u001b[0m\n\u001b[1;32m----> 2\u001b[1;33m \u001b[0mfloat\u001b[0m\u001b[1;33m(\u001b[0m\u001b[0mNumComplex\u001b[0m\u001b[1;33m)\u001b[0m  \u001b[1;31m#Como se ver a continuacion causa un error\u001b[0m\u001b[1;33m\u001b[0m\u001b[1;33m\u001b[0m\u001b[0m\n\u001b[0m",
      "\u001b[1;31mTypeError\u001b[0m: can't convert complex to float"
     ]
    }
   ],
   "source": [
    "NumComplex = 3.0 + 4.0j\n",
    "float(NumComplex)  #Como se ver a continuacion causa un error"
   ]
  },
  {
   "cell_type": "code",
   "execution_count": 1,
   "metadata": {},
   "outputs": [
    {
     "ename": "NameError",
     "evalue": "name 'NumComplex' is not defined",
     "output_type": "error",
     "traceback": [
      "\u001b[1;31m---------------------------------------------------------------------------\u001b[0m",
      "\u001b[1;31mNameError\u001b[0m                                 Traceback (most recent call last)",
      "\u001b[1;32m<ipython-input-1-e1d20ebcdc5a>\u001b[0m in \u001b[0;36m<module>\u001b[1;34m\u001b[0m\n\u001b[0;32m      1\u001b[0m \u001b[1;31m#aqui los mismo sucede con la funcion int()\u001b[0m\u001b[1;33m\u001b[0m\u001b[1;33m\u001b[0m\u001b[1;33m\u001b[0m\u001b[0m\n\u001b[1;32m----> 2\u001b[1;33m \u001b[0mint\u001b[0m\u001b[1;33m(\u001b[0m\u001b[0mNumComplex\u001b[0m\u001b[1;33m)\u001b[0m\u001b[1;33m\u001b[0m\u001b[1;33m\u001b[0m\u001b[0m\n\u001b[0m",
      "\u001b[1;31mNameError\u001b[0m: name 'NumComplex' is not defined"
     ]
    }
   ],
   "source": [
    "#aqui los mismo sucede con la funcion int() ambos dan error\n",
    "int(NumComplex)"
   ]
  },
  {
   "cell_type": "code",
   "execution_count": 26,
   "metadata": {},
   "outputs": [
    {
     "name": "stdout",
     "output_type": "stream",
     "text": [
      "Parte Real :  3.0\n",
      "Parte Imaginaria :  4.0\n",
      "Numero complejo :  (3+4j)\n"
     ]
    },
    {
     "data": {
      "text/plain": [
       "5.0"
      ]
     },
     "execution_count": 26,
     "metadata": {},
     "output_type": "execute_result"
    }
   ],
   "source": [
    "print('Parte Real : ',NumComplex.real)\n",
    "print('Parte Imaginaria : ',NumComplex.imag)\n",
    "print('Numero complejo : ',NumComplex)\n",
    "\n",
    "abs(NumComplex)  # sqrt(Z.real**2 + Z.imag**2)"
   ]
  },
  {
   "cell_type": "markdown",
   "metadata": {},
   "source": [
    "### En el modo interactivo, la última expresión impresa es asignada a la variable _. Esto significa que cuando estés usando Python como una calculadora de escritorio, es más fácil seguir calculando, por ejemplo:"
   ]
  },
  {
   "cell_type": "code",
   "execution_count": 28,
   "metadata": {},
   "outputs": [
    {
     "data": {
      "text/plain": [
       "12.5625"
      ]
     },
     "execution_count": 28,
     "metadata": {},
     "output_type": "execute_result"
    }
   ],
   "source": [
    "impuesto = 12.5/100\n",
    "precio = 100.50\n",
    "precio * impuesto"
   ]
  },
  {
   "cell_type": "code",
   "execution_count": 29,
   "metadata": {},
   "outputs": [
    {
     "data": {
      "text/plain": [
       "113.0625"
      ]
     },
     "execution_count": 29,
     "metadata": {},
     "output_type": "execute_result"
    }
   ],
   "source": [
    "precio + _  #donde _ toma el valor de la ultima variable definida en este caso ( _ = precio)"
   ]
  },
  {
   "cell_type": "code",
   "execution_count": 30,
   "metadata": {},
   "outputs": [
    {
     "data": {
      "text/plain": [
       "113.0625"
      ]
     },
     "execution_count": 30,
     "metadata": {},
     "output_type": "execute_result"
    }
   ],
   "source": [
    "_ #el guion bajo es igual a la variable precio"
   ]
  },
  {
   "cell_type": "code",
   "execution_count": 15,
   "metadata": {},
   "outputs": [
    {
     "data": {
      "text/plain": [
       "113.06"
      ]
     },
     "execution_count": 15,
     "metadata": {},
     "output_type": "execute_result"
    }
   ],
   "source": [
    "round(_ , 2) #la funcion sirver para redondear los valores decimales"
   ]
  },
  {
   "cell_type": "code",
   "execution_count": 3,
   "metadata": {},
   "outputs": [
    {
     "name": "stdout",
     "output_type": "stream",
     "text": [
      "999.01\n"
     ]
    }
   ],
   "source": [
    "Number = 999.009909\n",
    "print(round(Number, 3))"
   ]
  },
  {
   "cell_type": "markdown",
   "metadata": {},
   "source": [
    "### Esta variable debería ser tratada como de sólo lectura por el usuario. No le asignes explícitamente un valor; crearás una variable local independiente con el mismo nombre enmascarando la variable con el comportamiento mágico."
   ]
  },
  {
   "cell_type": "markdown",
   "metadata": {},
   "source": [
    "# Cadena de Caracteres "
   ]
  },
  {
   "cell_type": "markdown",
   "metadata": {},
   "source": [
    "### Además de números, Python puede manipular cadenas de texto, las cuales pueden ser expresadas de distintas formas. Pueden estar encerradas en comillas simples o dobles:"
   ]
  },
  {
   "cell_type": "code",
   "execution_count": 16,
   "metadata": {},
   "outputs": [
    {
     "data": {
      "text/plain": [
       "'Python para IA'"
      ]
     },
     "execution_count": 16,
     "metadata": {},
     "output_type": "execute_result"
    }
   ],
   "source": [
    "'Python para IA'"
   ]
  },
  {
   "cell_type": "code",
   "execution_count": 18,
   "metadata": {},
   "outputs": [
    {
     "data": {
      "text/plain": [
       "\"doesn't\""
      ]
     },
     "execution_count": 18,
     "metadata": {},
     "output_type": "execute_result"
    }
   ],
   "source": [
    "'doesn\\'t'"
   ]
  },
  {
   "cell_type": "code",
   "execution_count": 19,
   "metadata": {},
   "outputs": [
    {
     "data": {
      "text/plain": [
       "\"doesn't\""
      ]
     },
     "execution_count": 19,
     "metadata": {},
     "output_type": "execute_result"
    }
   ],
   "source": [
    "\"doesn't\""
   ]
  },
  {
   "cell_type": "code",
   "execution_count": 17,
   "metadata": {},
   "outputs": [
    {
     "name": "stdout",
     "output_type": "stream",
     "text": [
      "Empezamos a programar \"Si Empezemos\"\n"
     ]
    }
   ],
   "source": [
    "Mensaje = 'Empezamos a programar \"Si Empezemos\"' \n",
    "print(Mensaje)"
   ]
  },
  {
   "cell_type": "markdown",
   "metadata": {},
   "source": [
    "### Las cadenas de texto literales pueden contener múltiples líneas de distintas formas. Las líneas continuas se pueden usar, con una barra invertida como el último carácter de la línea para indicar que la siguiente línea es la continuación lógica de la línea:"
   ]
  },
  {
   "cell_type": "code",
   "execution_count": 36,
   "metadata": {},
   "outputs": [
    {
     "name": "stdout",
     "output_type": "stream",
     "text": [
      "Esta es una larga cadena que contiene\n",
      "varias líneas de texto, tal y como se hace en C.\n",
      "Notar que los espacios en blanco al principio de la linea son significantes.\n"
     ]
    }
   ],
   "source": [
    "hola = \"Esta es una larga cadena que contiene\\n\\\n",
    "varias líneas de texto, tal y como se hace en C.\\n\\\n",
    "    Notar que los espacios en blanco al principio de la linea\\\n",
    " son significantes.\"\n",
    "\n",
    "print (hola)"
   ]
  },
  {
   "cell_type": "code",
   "execution_count": 43,
   "metadata": {},
   "outputs": [
    {
     "name": "stdout",
     "output_type": "stream",
     "text": [
      "     ********Menu*********\n",
      "        {0}.Init\n",
      "        {1}.Save Password\n",
      "        {2}.Save Login\n",
      "        {3}.Save Life\n",
      "        {4}.End\n"
     ]
    }
   ],
   "source": [
    "Menu = \"     ********Menu*********\\n\\\n",
    "        {0}.Init\\n\\\n",
    "        {1}.Save Password\\n\\\n",
    "        {2}.Save Login\\n\\\n",
    "        {3}.Save Life\\n\\\n",
    "        {4}.End\"\n",
    "\n",
    "print(Menu)"
   ]
  },
  {
   "cell_type": "code",
   "execution_count": 30,
   "metadata": {},
   "outputs": [
    {
     "name": "stdout",
     "output_type": "stream",
     "text": [
      " Uso : Algo[OPTIONS]\n",
      "            -h                               Muestra el mensaje de Uso\n",
      "            -H nombrehost                    Nombre del Host al Cual Conectarse\n",
      "\n"
     ]
    }
   ],
   "source": [
    "print(\"\"\" Uso : Algo[OPTIONS]\n",
    "            -h                               Muestra el mensaje de Uso\n",
    "            -H nombrehost                    Nombre del Host al Cual Conectarse\n",
    "\"\"\")"
   ]
  },
  {
   "cell_type": "markdown",
   "metadata": {},
   "source": [
    "### Esta Modificacion de vista del Mensaje solo funciona con comillas triples "
   ]
  },
  {
   "cell_type": "code",
   "execution_count": 46,
   "metadata": {},
   "outputs": [
    {
     "name": "stdout",
     "output_type": "stream",
     "text": [
      "\n",
      "                         ----Ether----\n",
      "                         [Bienvenido]\n",
      "                           [Hacker]\n",
      "                    [Introduce tu NickName]\n",
      "        [El Principio es el Fin y El Fin es el Principio]\n",
      "\n",
      "\n"
     ]
    }
   ],
   "source": [
    "print(\"\"\"\n",
    "                         ----Ether----\n",
    "                         [Bienvenido]\n",
    "                           [Hacker]\n",
    "                    [Introduce tu NickName]\n",
    "        [El Principio es el Fin y El Fin es el Principio]\n",
    "\n",
    "\"\"\")"
   ]
  },
  {
   "cell_type": "markdown",
   "metadata": {},
   "source": [
    "### El interprete imprime el resultado de operaciones entre cadenas de la misma forma en que son tecleadas como entrada: dentro de comillas, y con comillas y otros caracteres raros escapados con barras invertidas, para mostrar el valor preciso. La cadena de texto es encerrada con comillas dobles si contiene una comilla simple y no comillas dobles, sino es encerrada con comillas simples. (La declaración print, descrita luego, puede ser usado para escribir cadenas sin comillas o escapes). <br>Las cadenas de texto pueden ser concatenadas (pegadas juntas) con el operador + y repetidas con *:\n"
   ]
  },
  {
   "cell_type": "code",
   "execution_count": 32,
   "metadata": {},
   "outputs": [
    {
     "data": {
      "text/plain": [
       "'Ayudame'"
      ]
     },
     "execution_count": 32,
     "metadata": {},
     "output_type": "execute_result"
    }
   ],
   "source": [
    "Palabra = 'Ayuda'+'me'\n",
    "Palabra"
   ]
  },
  {
   "cell_type": "code",
   "execution_count": 47,
   "metadata": {},
   "outputs": [
    {
     "name": "stdout",
     "output_type": "stream",
     "text": [
      "Tu Nombre Completo es :  Argus Aphocraphex\n"
     ]
    }
   ],
   "source": [
    "Name = \"Argus\"\n",
    "LastName = \"Aphocraphex\"\n",
    "\n",
    "print(\"Tu Nombre Completo es : \",Name+\" \"+LastName)"
   ]
  },
  {
   "cell_type": "code",
   "execution_count": 71,
   "metadata": {},
   "outputs": [
    {
     "data": {
      "text/plain": [
       "'Find Me  Find Me  Find Me  Find Me  Find Me  Find Me  Find Me  Find Me  Find Me  '"
      ]
     },
     "execution_count": 71,
     "metadata": {},
     "output_type": "execute_result"
    }
   ],
   "source": [
    "\"Find Me  \"*9"
   ]
  },
  {
   "cell_type": "code",
   "execution_count": 78,
   "metadata": {
    "scrolled": true
   },
   "outputs": [
    {
     "name": "stdout",
     "output_type": "stream",
     "text": [
      "<[\n",
      "Zelechos\n",
      "Zelechos\n",
      "Zelechos\n",
      "Zelechos\n",
      "Zelechos\n",
      "Zelechos\n",
      "Zelechos\n",
      "Zelechos\n",
      "Zelechos\n",
      "]>\n"
     ]
    }
   ],
   "source": [
    "#para repetir una palabra se pone la palabra seguido de * y la cantidad de veces que quieres que se repita la palabra\n",
    "print(\"<[\\n\"+'Zelechos\\n'*9+\"]>\")"
   ]
  },
  {
   "cell_type": "code",
   "execution_count": 48,
   "metadata": {},
   "outputs": [
    {
     "name": "stdout",
     "output_type": "stream",
     "text": [
      "Cargando . . .\n",
      "Cargando . . .\n",
      "Cargando . . .\n",
      "Cargando . . .\n",
      "Cargando . . .\n",
      "Cargando . . .\n",
      "Cargando . . .\n",
      "Cargando . . .\n",
      "Cargando . . .\n",
      "Cargando . . .\n",
      "\n",
      "Fin del Programa . . .\n"
     ]
    }
   ],
   "source": [
    "print('Cargando . . .\\n'*10)\n",
    "print('Fin del Programa . . .')"
   ]
  },
  {
   "cell_type": "code",
   "execution_count": 54,
   "metadata": {},
   "outputs": [
    {
     "name": "stdout",
     "output_type": "stream",
     "text": [
      "                                             <[Los Datos lo son todo]>\n",
      "                                             <[Los Datos lo son todo]>\n",
      "                                             <[Los Datos lo son todo]>\n",
      "                                             <[Los Datos lo son todo]>\n",
      "                                             <[Los Datos lo son todo]>\n",
      "                                             <[Los Datos lo son todo]>\n",
      "                                             <[Los Datos lo son todo]>\n",
      "                                             <[Los Datos lo son todo]>\n",
      "                                             <[Los Datos lo son todo]>\n",
      "\n"
     ]
    }
   ],
   "source": [
    "print(\"\"\"                                             <[Los Datos lo son todo]>\\n\"\"\"*9)"
   ]
  },
  {
   "cell_type": "markdown",
   "metadata": {},
   "source": [
    "### Dos cadenas de texto juntas son automáticamente concatenadas; la primer línea del ejemplo anterior podría haber sido escrita palabra = 'Ayuda' 'A'; esto solo funciona con dos literales, no con expresiones arbitrarias:"
   ]
  },
  {
   "cell_type": "code",
   "execution_count": 57,
   "metadata": {},
   "outputs": [
    {
     "data": {
      "text/plain": [
       "'Python'"
      ]
     },
     "execution_count": 57,
     "metadata": {},
     "output_type": "execute_result"
    }
   ],
   "source": [
    "'Py' 'thon'"
   ]
  },
  {
   "cell_type": "code",
   "execution_count": 73,
   "metadata": {},
   "outputs": [
    {
     "data": {
      "text/plain": [
       "'IA'"
      ]
     },
     "execution_count": 73,
     "metadata": {},
     "output_type": "execute_result"
    }
   ],
   "source": [
    "\"I\" \"A\""
   ]
  },
  {
   "cell_type": "code",
   "execution_count": 79,
   "metadata": {},
   "outputs": [
    {
     "data": {
      "text/plain": [
       "'Kernel'"
      ]
     },
     "execution_count": 79,
     "metadata": {},
     "output_type": "execute_result"
    }
   ],
   "source": [
    "'Ker'   \"nel\""
   ]
  },
  {
   "cell_type": "code",
   "execution_count": 74,
   "metadata": {},
   "outputs": [
    {
     "name": "stdout",
     "output_type": "stream",
     "text": [
      "Jupyter\n"
     ]
    }
   ],
   "source": [
    "print('Jupy'   'ter')"
   ]
  },
  {
   "cell_type": "code",
   "execution_count": 72,
   "metadata": {},
   "outputs": [
    {
     "name": "stdout",
     "output_type": "stream",
     "text": [
      "Machine Learning\n"
     ]
    }
   ],
   "source": [
    "print(\"Machine \" \"Learning\")"
   ]
  },
  {
   "cell_type": "code",
   "execution_count": 81,
   "metadata": {},
   "outputs": [
    {
     "name": "stdout",
     "output_type": "stream",
     "text": [
      "Linux\n"
     ]
    }
   ],
   "source": [
    "print('Lin'             \"ux\")"
   ]
  },
  {
   "cell_type": "code",
   "execution_count": 59,
   "metadata": {},
   "outputs": [
    {
     "data": {
      "text/plain": [
       "'Ethernet'"
      ]
     },
     "execution_count": 59,
     "metadata": {},
     "output_type": "execute_result"
    }
   ],
   "source": [
    "'Ether'.strip() + 'net'"
   ]
  },
  {
   "cell_type": "code",
   "execution_count": 83,
   "metadata": {},
   "outputs": [
    {
     "data": {
      "text/plain": [
       "'GitHub'"
      ]
     },
     "execution_count": 83,
     "metadata": {},
     "output_type": "execute_result"
    }
   ],
   "source": [
    "\"Git\".strip()+     'Hub'"
   ]
  },
  {
   "cell_type": "code",
   "execution_count": 84,
   "metadata": {},
   "outputs": [
    {
     "name": "stdout",
     "output_type": "stream",
     "text": [
      "Git\n"
     ]
    }
   ],
   "source": [
    "print('G'.strip()+ \"it\")"
   ]
  },
  {
   "cell_type": "code",
   "execution_count": 85,
   "metadata": {},
   "outputs": [
    {
     "ename": "SyntaxError",
     "evalue": "invalid syntax (<ipython-input-85-d9acfb7a1f6e>, line 1)",
     "output_type": "error",
     "traceback": [
      "\u001b[1;36m  File \u001b[1;32m\"<ipython-input-85-d9acfb7a1f6e>\"\u001b[1;36m, line \u001b[1;32m1\u001b[0m\n\u001b[1;33m    'V'.strip()'lans' # esto no es correcto por eso nos sale error\u001b[0m\n\u001b[1;37m                    ^\u001b[0m\n\u001b[1;31mSyntaxError\u001b[0m\u001b[1;31m:\u001b[0m invalid syntax\n"
     ]
    }
   ],
   "source": [
    "'V'.strip() 'lans' # esto no es correcto por eso nos sale error"
   ]
  },
  {
   "cell_type": "markdown",
   "metadata": {},
   "source": [
    "### Las cadenas de texto se pueden indexar; como en C, el primer carácter de la cadena tiene el índice 0. No hay un tipo de dato para los caracteres; un carácter es simplemente una cadena de longitud uno. Como en Icon, se pueden especificar subcadenas con la notación de rebanadas: dos índices separados por dos puntos."
   ]
  },
  {
   "cell_type": "code",
   "execution_count": 5,
   "metadata": {},
   "outputs": [
    {
     "ename": "TypeError",
     "evalue": "'str' object does not support item assignment",
     "output_type": "error",
     "traceback": [
      "\u001b[1;31m---------------------------------------------------------------------------\u001b[0m",
      "\u001b[1;31mTypeError\u001b[0m                                 Traceback (most recent call last)",
      "\u001b[1;32m<ipython-input-5-ad28b85a5da5>\u001b[0m in \u001b[0;36m<module>\u001b[1;34m\u001b[0m\n\u001b[0;32m      1\u001b[0m \u001b[1;31m#no se puede insertar caracteres a un string\u001b[0m\u001b[1;33m\u001b[0m\u001b[1;33m\u001b[0m\u001b[1;33m\u001b[0m\u001b[0m\n\u001b[0;32m      2\u001b[0m \u001b[0mSaludo\u001b[0m \u001b[1;33m=\u001b[0m \u001b[1;34m'hola coder'\u001b[0m\u001b[1;33m\u001b[0m\u001b[1;33m\u001b[0m\u001b[0m\n\u001b[1;32m----> 3\u001b[1;33m \u001b[0mSaludo\u001b[0m\u001b[1;33m[\u001b[0m\u001b[1;36m0\u001b[0m\u001b[1;33m]\u001b[0m \u001b[1;33m=\u001b[0m \u001b[1;34m'X'\u001b[0m\u001b[1;33m\u001b[0m\u001b[1;33m\u001b[0m\u001b[0m\n\u001b[0m",
      "\u001b[1;31mTypeError\u001b[0m: 'str' object does not support item assignment"
     ]
    }
   ],
   "source": [
    "#no se puede insertar caracteres a un string\n",
    "Saludo = 'hola coder'\n",
    "Saludo[0] = 'X'"
   ]
  },
  {
   "cell_type": "code",
   "execution_count": 7,
   "metadata": {},
   "outputs": [
    {
     "data": {
      "text/plain": [
       "'S'"
      ]
     },
     "execution_count": 7,
     "metadata": {},
     "output_type": "execute_result"
    }
   ],
   "source": [
    "Mensaje = 'SyntaxError: invalid syntax'\n",
    "Mensaje[0]"
   ]
  },
  {
   "cell_type": "code",
   "execution_count": 8,
   "metadata": {},
   "outputs": [
    {
     "data": {
      "text/plain": [
       "'Syntax'"
      ]
     },
     "execution_count": 8,
     "metadata": {},
     "output_type": "execute_result"
    }
   ],
   "source": [
    "#Mostrara Desde el Primer Caracter hasta el Sexto\n",
    "Mensaje[0:6] "
   ]
  },
  {
   "cell_type": "code",
   "execution_count": 9,
   "metadata": {},
   "outputs": [
    {
     "data": {
      "text/plain": [
       "'Error'"
      ]
     },
     "execution_count": 9,
     "metadata": {},
     "output_type": "execute_result"
    }
   ],
   "source": [
    "#Desde el Septimo Caracter  hasta el Onceavo\n",
    "Mensaje[6:11]"
   ]
  },
  {
   "cell_type": "code",
   "execution_count": 10,
   "metadata": {},
   "outputs": [
    {
     "data": {
      "text/plain": [
       "':'"
      ]
     },
     "execution_count": 10,
     "metadata": {},
     "output_type": "execute_result"
    }
   ],
   "source": [
    "#Desde el Doceavo caracter haste el treceavo\n",
    "Mensaje[11:12]"
   ]
  },
  {
   "cell_type": "code",
   "execution_count": 11,
   "metadata": {},
   "outputs": [
    {
     "data": {
      "text/plain": [
       "'invalid'"
      ]
     },
     "execution_count": 11,
     "metadata": {},
     "output_type": "execute_result"
    }
   ],
   "source": [
    "Mensaje[13:20]"
   ]
  },
  {
   "cell_type": "code",
   "execution_count": 12,
   "metadata": {},
   "outputs": [
    {
     "data": {
      "text/plain": [
       "'x'"
      ]
     },
     "execution_count": 12,
     "metadata": {},
     "output_type": "execute_result"
    }
   ],
   "source": [
    "# muestra el ultimo caracter del string\n",
    "Mensaje[-1]"
   ]
  },
  {
   "cell_type": "code",
   "execution_count": 103,
   "metadata": {},
   "outputs": [
    {
     "data": {
      "text/plain": [
       "'SyntaxError: invalid syntax'"
      ]
     },
     "execution_count": 103,
     "metadata": {},
     "output_type": "execute_result"
    }
   ],
   "source": [
    "Mensaje[0:27]"
   ]
  },
  {
   "cell_type": "markdown",
   "metadata": {},
   "source": [
    "### Los índices de las rebanadas tienen valores por defecto útiles; el valor por defecto para el primer índice es cero, el valor por defecto para el segundo índice es la longitud de la cadena a rebanar."
   ]
  },
  {
   "cell_type": "code",
   "execution_count": 105,
   "metadata": {},
   "outputs": [
    {
     "data": {
      "text/plain": [
       "'Syntax'"
      ]
     },
     "execution_count": 105,
     "metadata": {},
     "output_type": "execute_result"
    }
   ],
   "source": [
    "#Muestra los primeros 6 caracteres del String\n",
    "Mensaje[:6]"
   ]
  },
  {
   "cell_type": "code",
   "execution_count": 111,
   "metadata": {},
   "outputs": [
    {
     "data": {
      "text/plain": [
       "'SyntaxErro'"
      ]
     },
     "execution_count": 111,
     "metadata": {},
     "output_type": "execute_result"
    }
   ],
   "source": [
    "Mensaje[:10]"
   ]
  },
  {
   "cell_type": "code",
   "execution_count": 112,
   "metadata": {},
   "outputs": [
    {
     "data": {
      "text/plain": [
       "'SyntaxError: invali'"
      ]
     },
     "execution_count": 112,
     "metadata": {},
     "output_type": "execute_result"
    }
   ],
   "source": [
    "Mensaje[:19]"
   ]
  },
  {
   "cell_type": "code",
   "execution_count": 107,
   "metadata": {},
   "outputs": [
    {
     "data": {
      "text/plain": [
       "' invalid syntax'"
      ]
     },
     "execution_count": 107,
     "metadata": {},
     "output_type": "execute_result"
    }
   ],
   "source": [
    "#Muestra todos los caracteres menos los Primeros 12 Caracteres\n",
    "Mensaje[12:]"
   ]
  },
  {
   "cell_type": "code",
   "execution_count": 114,
   "metadata": {},
   "outputs": [
    {
     "data": {
      "text/plain": [
       "'r: invalid syntax'"
      ]
     },
     "execution_count": 114,
     "metadata": {},
     "output_type": "execute_result"
    }
   ],
   "source": [
    "Mensaje[10:]"
   ]
  },
  {
   "cell_type": "markdown",
   "metadata": {},
   "source": [
    "### Pratica separar la siguiente frase en palabras :\n",
    "<h4>\"El Principio es el Fin y el Fin es el Principio\"</h4>\n",
    "\n",
    "### Y mostrarlas concatenadas en un  print()"
   ]
  },
  {
   "cell_type": "code",
   "execution_count": 146,
   "metadata": {},
   "outputs": [
    {
     "name": "stdout",
     "output_type": "stream",
     "text": [
      "El Principio es el Fin y el Fin es el  Principio\n"
     ]
    }
   ],
   "source": [
    "Frase = \"El Principio es el Fin y el Fin es el Principio\"\n",
    "Palabra0 = Frase[:2]\n",
    "Palabra1 = Frase[3:12]\n",
    "Palabra2 = Frase[13:15]\n",
    "Palabra3 = Frase[16:18]\n",
    "Palabra4 = Frase[19:22]\n",
    "Palabra5 = Frase[23:24]\n",
    "Palabra6 = Frase[25:27]\n",
    "Palabra7 = Frase[28:31]\n",
    "Palabra8 = Frase[32:34]\n",
    "Palabra9 = Frase[35:37]\n",
    "Palabra10 = Frase[37:]\n",
    "\n",
    "print(Palabra0,Palabra1,Palabra2,Palabra3,Palabra4,Palabra5,Palabra6,Palabra7,Palabra8,Palabra9,Palabra10)"
   ]
  },
  {
   "cell_type": "markdown",
   "metadata": {},
   "source": [
    "### A diferencia de las cadenas de texto en C, en Python no pueden ser modificadas. Intentar asignar a una posición de la cadena es un error:"
   ]
  },
  {
   "cell_type": "code",
   "execution_count": 72,
   "metadata": {},
   "outputs": [
    {
     "ename": "TypeError",
     "evalue": "'str' object does not support item assignment",
     "output_type": "error",
     "traceback": [
      "\u001b[1;31m---------------------------------------------------------------------------\u001b[0m",
      "\u001b[1;31mTypeError\u001b[0m                                 Traceback (most recent call last)",
      "\u001b[1;32m<ipython-input-72-a8da5230cbad>\u001b[0m in \u001b[0;36m<module>\u001b[1;34m\u001b[0m\n\u001b[1;32m----> 1\u001b[1;33m \u001b[0mMensaje\u001b[0m\u001b[1;33m[\u001b[0m\u001b[1;36m0\u001b[0m\u001b[1;33m]\u001b[0m \u001b[1;33m=\u001b[0m \u001b[1;34m'X'\u001b[0m\u001b[1;33m\u001b[0m\u001b[1;33m\u001b[0m\u001b[0m\n\u001b[0m",
      "\u001b[1;31mTypeError\u001b[0m: 'str' object does not support item assignment"
     ]
    }
   ],
   "source": [
    "Mensaje[0] = 'X'"
   ]
  },
  {
   "cell_type": "code",
   "execution_count": 73,
   "metadata": {},
   "outputs": [
    {
     "ename": "TypeError",
     "evalue": "'str' object does not support item assignment",
     "output_type": "error",
     "traceback": [
      "\u001b[1;31m---------------------------------------------------------------------------\u001b[0m",
      "\u001b[1;31mTypeError\u001b[0m                                 Traceback (most recent call last)",
      "\u001b[1;32m<ipython-input-73-7ae398d6a8f0>\u001b[0m in \u001b[0;36m<module>\u001b[1;34m\u001b[0m\n\u001b[1;32m----> 1\u001b[1;33m \u001b[0mMensaje\u001b[0m\u001b[1;33m[\u001b[0m\u001b[1;33m:\u001b[0m\u001b[1;36m1\u001b[0m\u001b[1;33m]\u001b[0m \u001b[1;33m=\u001b[0m \u001b[1;34m'X'\u001b[0m\u001b[1;33m\u001b[0m\u001b[1;33m\u001b[0m\u001b[0m\n\u001b[0m",
      "\u001b[1;31mTypeError\u001b[0m: 'str' object does not support item assignment"
     ]
    }
   ],
   "source": [
    "Mensaje[:1] = 'X'"
   ]
  },
  {
   "cell_type": "markdown",
   "metadata": {},
   "source": [
    "### Sin embargo, crear una nueva cadena con contenido combinado es fácil y eficiente:"
   ]
  },
  {
   "cell_type": "code",
   "execution_count": 74,
   "metadata": {},
   "outputs": [
    {
     "data": {
      "text/plain": [
       "'ZyntaxError: invalid syntax'"
      ]
     },
     "execution_count": 74,
     "metadata": {},
     "output_type": "execute_result"
    }
   ],
   "source": [
    "'Z'+ Mensaje[1:]"
   ]
  },
  {
   "cell_type": "code",
   "execution_count": 79,
   "metadata": {},
   "outputs": [
    {
     "data": {
      "text/plain": [
       "'Alex'"
      ]
     },
     "execution_count": 79,
     "metadata": {},
     "output_type": "execute_result"
    }
   ],
   "source": [
    "'Ale' + Mensaje[5]"
   ]
  },
  {
   "cell_type": "code",
   "execution_count": 171,
   "metadata": {},
   "outputs": [
    {
     "name": "stdout",
     "output_type": "stream",
     "text": [
      "Nombre del Personaje :  Alan Mathison Turing\n",
      "**************************************************************\n",
      "Limpiamos los espacios en blanco del Nombre :  AlanMathisonTuring\n",
      "**************************************************************\n",
      "Direccion URL del sitio Web en Homenaje a este Cientifico :  www.AlanMathisonTuring.com\n"
     ]
    }
   ],
   "source": [
    "Apellidos = \"Mathison \" \"Turing\"\n",
    "Name = 'Alan '+ Apellidos\n",
    "\n",
    "print('Nombre del Personaje : ',Name)\n",
    "print('**************************************************************')\n",
    "\n",
    "NameClean = Name[:4]+Name[5:13]+Name[14:]\n",
    "\n",
    "print('Limpiamos los espacios en blanco del Nombre : ',NameClean)\n",
    "print('**************************************************************')\n",
    "\n",
    "Web = 'www.'+NameClean.strip() + '.com'\n",
    "print('Direccion URL del sitio Web en Homenaje a este Cientifico : ',Web)"
   ]
  },
  {
   "cell_type": "markdown",
   "metadata": {},
   "source": [
    "### replace() sirve para reemplazar un caractar por otro \n",
    "### replace( caracter actual , caracter que reemplazara al caracter actual)"
   ]
  },
  {
   "cell_type": "code",
   "execution_count": 179,
   "metadata": {},
   "outputs": [
    {
     "name": "stdout",
     "output_type": "stream",
     "text": [
      "Las Maquinas me Sorprenden con Mucha Frecuencia\n",
      "LasMaquinasmeSorprendenconMuchaFrecuencia\n"
     ]
    }
   ],
   "source": [
    "Frase = \"Las Maquinas me Sorprenden con Mucha Frecuencia\"\n",
    "print(Frase)\n",
    "\n",
    "# aqui suplantamos el espacio en blanco \" \" por un \"\"\n",
    "new = Frase.replace(\" \" , \"\")\n",
    "\n",
    "print(new)"
   ]
  },
  {
   "cell_type": "code",
   "execution_count": 180,
   "metadata": {},
   "outputs": [
    {
     "name": "stdout",
     "output_type": "stream",
     "text": [
      "Lenguaje Natural :  TodOs nosotrOs los AbogadOs\n",
      "Lenguaje Inclusivo :  Todes nosotres los Abogades\n"
     ]
    }
   ],
   "source": [
    "LenguajeNatural = \"TodOs nosotrOs los AbogadOs\"\n",
    "print('Lenguaje Natural : ', LenguajeNatural)\n",
    "\n",
    "LenguajeInclusivo = LenguajeNatural.replace(\"O\",\"e\")\n",
    "print('Lenguaje Inclusivo : ', LenguajeInclusivo)\n"
   ]
  },
  {
   "cell_type": "markdown",
   "metadata": {},
   "source": [
    "### Algo útil de las operaciones de rebanada: s[:i] + s[i:] es s."
   ]
  },
  {
   "cell_type": "code",
   "execution_count": 82,
   "metadata": {},
   "outputs": [
    {
     "data": {
      "text/plain": [
       "'SyntaxError: invalid syntax'"
      ]
     },
     "execution_count": 82,
     "metadata": {},
     "output_type": "execute_result"
    }
   ],
   "source": [
    "Mensaje[:1] + Mensaje[1:] # Esto es igual al mensaje no importa el valor que se le ponga a i"
   ]
  },
  {
   "cell_type": "code",
   "execution_count": 15,
   "metadata": {},
   "outputs": [
    {
     "name": "stdout",
     "output_type": "stream",
     "text": [
      "El tie\n",
      "mpo es un recurso no renovable\n",
      "El tiempo es un recurso no renovable\n"
     ]
    }
   ],
   "source": [
    "# es muy sencillo de entender\n",
    "Oracion = 'El tiempo es un recurso no renovable'\n",
    "\n",
    "Oracion[:6] #Esto significa obten los primeros 6 carcateres de mi Oracion\n",
    "print(Oracion[:6])\n",
    "\n",
    "Oracion[6:] #Esto significa obten todos los caracteres de mi Oracion menos los primeros 6 caracteres\n",
    "print(Oracion[6:])\n",
    "\n",
    "# como se puede a preciar es la Oracion completa pero separada en dos rebandas entonces solo faltaria concatenarlas\n",
    "PalabraConcatenada = Oracion[:6] + Oracion[6:]\n",
    "print(PalabraConcatenada)\n"
   ]
  },
  {
   "cell_type": "markdown",
   "metadata": {},
   "source": [
    "### Los índices degenerados en las rebanadas son manejados bien: un índice muy largo es reemplazado por la longitud de la cadena, un límite superior más chico que el límite menor retorna una cadena vacía."
   ]
  },
  {
   "cell_type": "code",
   "execution_count": 90,
   "metadata": {},
   "outputs": [
    {
     "data": {
      "text/plain": [
       "'SyntaxError: invalid syntax'"
      ]
     },
     "execution_count": 90,
     "metadata": {},
     "output_type": "execute_result"
    }
   ],
   "source": [
    "# Como Aqui nos de Dice Que muestre desde el caracter 0 hasta el 100 automatica el 100 se tranforma\n",
    "# en la cantidad de caracteres de la palabra en este caso 27\n",
    "Mensaje[0:100] "
   ]
  },
  {
   "cell_type": "code",
   "execution_count": 87,
   "metadata": {},
   "outputs": [
    {
     "data": {
      "text/plain": [
       "''"
      ]
     },
     "execution_count": 87,
     "metadata": {},
     "output_type": "execute_result"
    }
   ],
   "source": [
    "# como dice que muestre todos los caracteres menos los primeros 50 y \n",
    "#la palabra no tiene 50 caracteres, simplemente muestra la cadena como vacio\n",
    "Mensaje[50:] "
   ]
  },
  {
   "cell_type": "code",
   "execution_count": 93,
   "metadata": {},
   "outputs": [
    {
     "data": {
      "text/plain": [
       "''"
      ]
     },
     "execution_count": 93,
     "metadata": {},
     "output_type": "execute_result"
    }
   ],
   "source": [
    "# como el limite inferior(2) es mayor al superior(1) entonces nos muestra una cadena vacia\n",
    "Mensaje[2:1]"
   ]
  },
  {
   "cell_type": "markdown",
   "metadata": {},
   "source": [
    "### Los índices pueden ser números negativos, para empezar a contar desde la derecha. Por ejemplo:"
   ]
  },
  {
   "cell_type": "code",
   "execution_count": 94,
   "metadata": {},
   "outputs": [
    {
     "data": {
      "text/plain": [
       "'x'"
      ]
     },
     "execution_count": 94,
     "metadata": {},
     "output_type": "execute_result"
    }
   ],
   "source": [
    "Mensaje[-1] #El ultimo caracter de la palabra"
   ]
  },
  {
   "cell_type": "code",
   "execution_count": 95,
   "metadata": {},
   "outputs": [
    {
     "data": {
      "text/plain": [
       "'a'"
      ]
     },
     "execution_count": 95,
     "metadata": {},
     "output_type": "execute_result"
    }
   ],
   "source": [
    "Mensaje[-2] #El penultimo caracter de la palabra"
   ]
  },
  {
   "cell_type": "code",
   "execution_count": 96,
   "metadata": {},
   "outputs": [
    {
     "data": {
      "text/plain": [
       "'syntax'"
      ]
     },
     "execution_count": 96,
     "metadata": {},
     "output_type": "execute_result"
    }
   ],
   "source": [
    "Mensaje[-6:] #Los ultimos 6 caracteres de la palabra"
   ]
  },
  {
   "cell_type": "code",
   "execution_count": 97,
   "metadata": {},
   "outputs": [
    {
     "data": {
      "text/plain": [
       "'SyntaxError: invalid '"
      ]
     },
     "execution_count": 97,
     "metadata": {},
     "output_type": "execute_result"
    }
   ],
   "source": [
    "Mensaje[:-6] #Todo menos Los ultimos 6 caracteres de la palabra"
   ]
  },
  {
   "cell_type": "markdown",
   "metadata": {},
   "source": [
    "### Pero notá que -0 es en realidad lo mismo que 0, ¡por lo que no cuenta desde la derecha!"
   ]
  },
  {
   "cell_type": "code",
   "execution_count": 98,
   "metadata": {},
   "outputs": [
    {
     "data": {
      "text/plain": [
       "'S'"
      ]
     },
     "execution_count": 98,
     "metadata": {},
     "output_type": "execute_result"
    }
   ],
   "source": [
    "Mensaje[-0]"
   ]
  },
  {
   "cell_type": "markdown",
   "metadata": {},
   "source": [
    "### Los índices negativos fuera de rango son truncados, pero esto no funciona para índices de un solo elemento (no rebanada):"
   ]
  },
  {
   "cell_type": "code",
   "execution_count": 100,
   "metadata": {},
   "outputs": [
    {
     "data": {
      "text/plain": [
       "'SyntaxError: invalid syntax'"
      ]
     },
     "execution_count": 100,
     "metadata": {},
     "output_type": "execute_result"
    }
   ],
   "source": [
    "Mensaje[-100:]# los ultimos 100 caracteres de la palabra"
   ]
  },
  {
   "cell_type": "code",
   "execution_count": 101,
   "metadata": {},
   "outputs": [
    {
     "data": {
      "text/plain": [
       "''"
      ]
     },
     "execution_count": 101,
     "metadata": {},
     "output_type": "execute_result"
    }
   ],
   "source": [
    "Mensaje[:-100]# Todos los Caracteres menos los ultimos 100 caracteres de la palabra"
   ]
  },
  {
   "cell_type": "code",
   "execution_count": 102,
   "metadata": {},
   "outputs": [
    {
     "ename": "IndexError",
     "evalue": "string index out of range",
     "output_type": "error",
     "traceback": [
      "\u001b[1;31m---------------------------------------------------------------------------\u001b[0m",
      "\u001b[1;31mIndexError\u001b[0m                                Traceback (most recent call last)",
      "\u001b[1;32m<ipython-input-102-427b61ef6447>\u001b[0m in \u001b[0;36m<module>\u001b[1;34m\u001b[0m\n\u001b[1;32m----> 1\u001b[1;33m \u001b[0mMensaje\u001b[0m\u001b[1;33m[\u001b[0m\u001b[1;33m-\u001b[0m\u001b[1;36m100\u001b[0m\u001b[1;33m]\u001b[0m \u001b[1;31m# Causa un Error\u001b[0m\u001b[1;33m\u001b[0m\u001b[1;33m\u001b[0m\u001b[0m\n\u001b[0m",
      "\u001b[1;31mIndexError\u001b[0m: string index out of range"
     ]
    }
   ],
   "source": [
    "Mensaje[-100] # Causa un Error porque no existe la cantidad de caracteres"
   ]
  },
  {
   "cell_type": "markdown",
   "metadata": {},
   "source": [
    "### Una forma de recordar cómo funcionan las rebanadas es pensar en los índices como puntos entre caracteres, con el punto a la izquierda del primer carácter numerado en 0. Luego, el punto a la derecha del último carácter de una cadena de n caracteres tienen índice n, por ejemplo:\n",
    "<img src = \"indice.png\">\n",
    "\n",
    "### La primer fila de números da la posición de los índices 0...6 en la cadena; la segunda fila da los correspondientes índices negativos. La rebanada de i a j consiste en todos los caracteres entre los puntos etiquetados i y j, respectivamente."
   ]
  },
  {
   "cell_type": "markdown",
   "metadata": {},
   "source": [
    "### Para índices no negativos, la longitud de la rebanada es la diferencia de los índices, si ambos entran en los límites. Por ejemplo, la longitud de palabra[1:3] es 2.<br>La función incorporada len() devuelve la longitud de una cadena de texto:\n"
   ]
  },
  {
   "cell_type": "code",
   "execution_count": 104,
   "metadata": {},
   "outputs": [
    {
     "data": {
      "text/plain": [
       "35"
      ]
     },
     "execution_count": 104,
     "metadata": {},
     "output_type": "execute_result"
    }
   ],
   "source": [
    "texto = 'Empezemos a aprender Python para IA'\n",
    "len(texto)"
   ]
  },
  {
   "cell_type": "markdown",
   "metadata": {},
   "source": [
    "#### <h2>typesseq</h2> Las cadenas de texto y la cadenas de texto Unicode descritas en la siguiente sección son ejemplos de tipos secuencias, y soportan las operaciones comunes para esos tipos.<br><br><h2>string-methods</h2> Tanto las cadenas de texto normales como las cadenas de texto Unicode soportan una gran cantidad de métodos para transformaciones básicas y búsqueda.<br><br><h2>new-string-formatting</h2> Aquí se da información sobre formateo de cadenas de texto con str.format().<br><br><h2>string-formatting</h2> Aquí se describe con más detalle las operaciones viejas para formateo usadas cuando una cadena de texto o una cadena Unicode están a la izquierda del operador %."
   ]
  },
  {
   "cell_type": "markdown",
   "metadata": {},
   "source": [
    "# Cadenas de Texto UniCode"
   ]
  },
  {
   "cell_type": "markdown",
   "metadata": {},
   "source": [
    "### Desde la versión 2.0 de Python, se encuentra disponible un nuevo tipo de datos para que los programadores almacenen texto: el objeto Unicode. Puede ser usado para almacenar y manipular datos Unicode (ver <a href=\"http://www.unicode.org/\">http://www.unicode.org/)</a> y se integran bien con los objetos existentes para cadenas de texto, mediante auto-conversión cuando es necesario.<br>Unicode tiene la ventaja de tener un número ordinal para cada carácter usado tanto en textos modernos como antiguos. Previamente, había sólo 256 ordinales posibles para los caracteres en scripts. Los textos eran típicamente asociados a un código que relaciona los ordinales a caracteres en scripts. Esto lleva a mucha confusión, especialmente al internacionalizar software. Unicode resuelve estos problemas definiendo una sola codificación para todos los scripts.<br><br>Crear cadenas Unicode en Python es tan simple como crear cadenas de texto normales:\n"
   ]
  },
  {
   "cell_type": "code",
   "execution_count": 106,
   "metadata": {},
   "outputs": [
    {
     "data": {
      "text/plain": [
       "'Hola Mundo'"
      ]
     },
     "execution_count": 106,
     "metadata": {},
     "output_type": "execute_result"
    }
   ],
   "source": [
    "u'Hola Mundo'"
   ]
  },
  {
   "cell_type": "markdown",
   "metadata": {},
   "source": [
    "### La 'u' al frente de la comilla indica que se espera una cadena Unicode. Si querés incluir caracteres especiales en la cadena, podés hacerlo usando una forma de escapar caracteres Unicode provista por Python. El siguiente ejemplo muestra cómo:\n"
   ]
  },
  {
   "cell_type": "code",
   "execution_count": 107,
   "metadata": {},
   "outputs": [
    {
     "data": {
      "text/plain": [
       "'Hola Mundo'"
      ]
     },
     "execution_count": 107,
     "metadata": {},
     "output_type": "execute_result"
    }
   ],
   "source": [
    "u'Hola\\u0020Mundo'"
   ]
  },
  {
   "cell_type": "code",
   "execution_count": 3,
   "metadata": {},
   "outputs": [
    {
     "data": {
      "text/plain": [
       "'Ȁrgus Ȁphocraphex'"
      ]
     },
     "execution_count": 3,
     "metadata": {},
     "output_type": "execute_result"
    }
   ],
   "source": [
    "u'\\u0200rgus\\u0020\\u0200phocraphex'"
   ]
  },
  {
   "cell_type": "markdown",
   "metadata": {},
   "source": [
    "### Para convertir una cadena Unicode en una cadena de 8-bit utilizando un código en particular, los objetos Unicode tienen un método encode() que toma un argumento, el nombre del código. Se prefieren los nombres en minúsculas para los nombres de los códigos"
   ]
  },
  {
   "cell_type": "code",
   "execution_count": 113,
   "metadata": {},
   "outputs": [
    {
     "data": {
      "text/plain": [
       "b'\\xc3\\xa4\\xc3\\xb6\\xc3\\xbc'"
      ]
     },
     "execution_count": 113,
     "metadata": {},
     "output_type": "execute_result"
    }
   ],
   "source": [
    "u\"äöü\".encode('utf-8')"
   ]
  },
  {
   "cell_type": "markdown",
   "metadata": {},
   "source": [
    "# Listas"
   ]
  },
  {
   "cell_type": "markdown",
   "metadata": {},
   "source": [
    "### Python tiene varios tipos de datos compuestos, usados para agrupar otros valores. El más versátil es la lista, la cual puede ser escrita como una lista de valores separados por coma (ítems) entre corchetes. No es necesario que los ítems de una lista tengan todos el mismo tipo"
   ]
  },
  {
   "cell_type": "code",
   "execution_count": 1,
   "metadata": {},
   "outputs": [
    {
     "name": "stdout",
     "output_type": "stream",
     "text": [
      "[1, 900000, (1+9j), 'Wlan', 'LocalHost']\n"
     ]
    }
   ],
   "source": [
    "lista = [1,900000, 1+9j , 'Wlan', \"LocalHost\"]\n",
    "print(lista)"
   ]
  },
  {
   "cell_type": "code",
   "execution_count": 13,
   "metadata": {},
   "outputs": [
    {
     "data": {
      "text/plain": [
       "[900000, (1+9j), 'Wlan']"
      ]
     },
     "execution_count": 13,
     "metadata": {},
     "output_type": "execute_result"
    }
   ],
   "source": [
    "lista[1:-1]"
   ]
  },
  {
   "cell_type": "code",
   "execution_count": 119,
   "metadata": {},
   "outputs": [
    {
     "data": {
      "text/plain": [
       "[1, 900000, (1+9j), 9.3432, 3.1415]"
      ]
     },
     "execution_count": 119,
     "metadata": {},
     "output_type": "execute_result"
    }
   ],
   "source": [
    "lista[:3] + [9.3432, 3.1415]"
   ]
  },
  {
   "cell_type": "code",
   "execution_count": 14,
   "metadata": {},
   "outputs": [
    {
     "data": {
      "text/plain": [
       "['Wlan', 'LocalHost', 'Hacker']"
      ]
     },
     "execution_count": 14,
     "metadata": {},
     "output_type": "execute_result"
    }
   ],
   "source": [
    "lista[3:] + ['Hacker']"
   ]
  },
  {
   "cell_type": "code",
   "execution_count": 120,
   "metadata": {},
   "outputs": [
    {
     "data": {
      "text/plain": [
       "[1, 900000, (1+9j), 1, 900000, (1+9j), 1, 900000, (1+9j), 'Adios']"
      ]
     },
     "execution_count": 120,
     "metadata": {},
     "output_type": "execute_result"
    }
   ],
   "source": [
    "3*lista[:3] + ['Adios']"
   ]
  },
  {
   "cell_type": "code",
   "execution_count": 17,
   "metadata": {},
   "outputs": [
    {
     "data": {
      "text/plain": [
       "['Wlan', 'LocalHost', 'Wlan', 'LocalHost']"
      ]
     },
     "execution_count": 17,
     "metadata": {},
     "output_type": "execute_result"
    }
   ],
   "source": [
    "# Aqui multiplicamos la lista y asi se mostrara las veces que la multipliquemos\n",
    "lista[3:]*2"
   ]
  },
  {
   "cell_type": "code",
   "execution_count": 2,
   "metadata": {},
   "outputs": [
    {
     "name": "stdout",
     "output_type": "stream",
     "text": [
      "[1, 900000, (1+9j), 'Wlan', 'LocalHost Zelechos']\n"
     ]
    }
   ],
   "source": [
    "lista[-1] = lista[-1] + ' Zelechos'\n",
    "print(lista)"
   ]
  },
  {
   "cell_type": "code",
   "execution_count": 134,
   "metadata": {},
   "outputs": [
    {
     "data": {
      "text/plain": [
       "['Vlans', 'Responsive', (1+9j), 'Wlan Ether', 'LocalHost Zelechos']"
      ]
     },
     "execution_count": 134,
     "metadata": {},
     "output_type": "execute_result"
    }
   ],
   "source": [
    "lista[0:2] = ['Vlans' , 'Responsive']\n",
    "lista"
   ]
  },
  {
   "cell_type": "code",
   "execution_count": 139,
   "metadata": {},
   "outputs": [
    {
     "data": {
      "text/plain": [
       "['Vlans', 'Wlan Ether', 'LocalHost Zelechos']"
      ]
     },
     "execution_count": 139,
     "metadata": {},
     "output_type": "execute_result"
    }
   ],
   "source": [
    "lista[1:2] = []\n",
    "lista"
   ]
  },
  {
   "cell_type": "code",
   "execution_count": 144,
   "metadata": {},
   "outputs": [
    {
     "data": {
      "text/plain": [
       "['Vlans', 'Node', 'Asincronismo', 'Wlan Ether', 'LocalHost Zelechos']"
      ]
     },
     "execution_count": 144,
     "metadata": {},
     "output_type": "execute_result"
    }
   ],
   "source": [
    "lista[1:1] = ['Node', 'Asincronismo']\n",
    "lista"
   ]
  },
  {
   "cell_type": "code",
   "execution_count": 145,
   "metadata": {},
   "outputs": [
    {
     "data": {
      "text/plain": [
       "['Vlans',\n",
       " 'Node',\n",
       " 'Asincronismo',\n",
       " 'Wlan Ether',\n",
       " 'LocalHost Zelechos',\n",
       " 'Vlans',\n",
       " 'Node',\n",
       " 'Asincronismo',\n",
       " 'Wlan Ether',\n",
       " 'LocalHost Zelechos']"
      ]
     },
     "execution_count": 145,
     "metadata": {},
     "output_type": "execute_result"
    }
   ],
   "source": [
    "# Insertar la misma lista al principio\n",
    "lista[:0] = lista\n",
    "lista"
   ]
  },
  {
   "cell_type": "code",
   "execution_count": 15,
   "metadata": {},
   "outputs": [
    {
     "data": {
      "text/plain": [
       "[]"
      ]
     },
     "execution_count": 15,
     "metadata": {},
     "output_type": "execute_result"
    }
   ],
   "source": [
    "lista[:] = [] # para vaciar la lista\n",
    "lista"
   ]
  },
  {
   "cell_type": "code",
   "execution_count": 28,
   "metadata": {},
   "outputs": [
    {
     "data": {
      "text/plain": [
       "7"
      ]
     },
     "execution_count": 28,
     "metadata": {},
     "output_type": "execute_result"
    }
   ],
   "source": [
    "# la funcion len() sirve para saber la longitud de la lista\n",
    "LenguajesDeProgramacion = ['Python','JavaScript','Java','C','C++','C#','Go']\n",
    "len(LenguajesDeProgramacion)"
   ]
  },
  {
   "cell_type": "markdown",
   "metadata": {},
   "source": [
    "### Es posible anidar listas (crear listas que contengan otras listas), por ejemplo:"
   ]
  },
  {
   "cell_type": "code",
   "execution_count": 27,
   "metadata": {},
   "outputs": [
    {
     "data": {
      "text/plain": [
       "'JavaScript'"
      ]
     },
     "execution_count": 27,
     "metadata": {},
     "output_type": "execute_result"
    }
   ],
   "source": [
    "Frameworks = ['AngularJs','ReactJS','VueJs']\n",
    "Web =['JavaScript','Html','Css','TypeScript','NodeJs','Git', Frameworks]\n",
    "Web[0]"
   ]
  },
  {
   "cell_type": "code",
   "execution_count": 150,
   "metadata": {},
   "outputs": [
    {
     "data": {
      "text/plain": [
       "'TypeScript'"
      ]
     },
     "execution_count": 150,
     "metadata": {},
     "output_type": "execute_result"
    }
   ],
   "source": [
    "Web[3]"
   ]
  },
  {
   "cell_type": "code",
   "execution_count": 151,
   "metadata": {},
   "outputs": [
    {
     "data": {
      "text/plain": [
       "'ReactJS'"
      ]
     },
     "execution_count": 151,
     "metadata": {},
     "output_type": "execute_result"
    }
   ],
   "source": [
    "Web[-1][1]"
   ]
  },
  {
   "cell_type": "code",
   "execution_count": 152,
   "metadata": {},
   "outputs": [
    {
     "data": {
      "text/plain": [
       "'VueJs'"
      ]
     },
     "execution_count": 152,
     "metadata": {},
     "output_type": "execute_result"
    }
   ],
   "source": [
    "Web[6][2]"
   ]
  },
  {
   "cell_type": "code",
   "execution_count": 153,
   "metadata": {},
   "outputs": [
    {
     "data": {
      "text/plain": [
       "['AngularJs', 'ReactJS', 'VueJs']"
      ]
     },
     "execution_count": 153,
     "metadata": {},
     "output_type": "execute_result"
    }
   ],
   "source": [
    "Web[6]"
   ]
  },
  {
   "cell_type": "code",
   "execution_count": 155,
   "metadata": {},
   "outputs": [
    {
     "data": {
      "text/plain": [
       "['AngularJs', 'ReactJS', 'VueJs', 'SveltJs', 'SveltJs']"
      ]
     },
     "execution_count": 155,
     "metadata": {},
     "output_type": "execute_result"
    }
   ],
   "source": [
    "Web[-1].append('SveltJs')\n",
    "Web[6]"
   ]
  },
  {
   "cell_type": "code",
   "execution_count": 44,
   "metadata": {},
   "outputs": [
    {
     "data": {
      "text/plain": [
       "['JavaScript', 'Html', 'Css', 'TypeScript', 'NodeJs', 'Git']"
      ]
     },
     "execution_count": 44,
     "metadata": {},
     "output_type": "execute_result"
    }
   ],
   "source": [
    "Web"
   ]
  },
  {
   "cell_type": "code",
   "execution_count": 45,
   "metadata": {},
   "outputs": [
    {
     "data": {
      "text/plain": [
       "['JavaScript', 'Html', 'Css', 'TypeScript', 'NodeJs', 'Git']"
      ]
     },
     "execution_count": 45,
     "metadata": {},
     "output_type": "execute_result"
    }
   ],
   "source": [
    "Web[:]"
   ]
  },
  {
   "cell_type": "markdown",
   "metadata": {},
   "source": [
    "# Primero pasos hacia la Programacion"
   ]
  },
  {
   "cell_type": "markdown",
   "metadata": {},
   "source": [
    "## Sucesion Fibonacci "
   ]
  },
  {
   "cell_type": "code",
   "execution_count": 170,
   "metadata": {},
   "outputs": [
    {
     "name": "stdout",
     "output_type": "stream",
     "text": [
      "1 1 2 3 5 8 13 21 34 55 89 144 233 377 610 987 1597 2584 4181 6765 "
     ]
    }
   ],
   "source": [
    "Antecesor , Sucesor = 0 , 1\n",
    "\n",
    "while Sucesor < 10000: \n",
    "    print(Sucesor,end=\" \")\n",
    "    Antecesor , Sucesor  = Sucesor , Antecesor + Sucesor"
   ]
  },
  {
   "cell_type": "code",
   "execution_count": 30,
   "metadata": {},
   "outputs": [
    {
     "name": "stdout",
     "output_type": "stream",
     "text": [
      "Digite el Año1996\n",
      "Digite el Numero del Mes que desea ver (en el rango de 1 a 12) : 10\n",
      "    October 1996\n",
      "Mo Tu We Th Fr Sa Su\n",
      "    1  2  3  4  5  6\n",
      " 7  8  9 10 11 12 13\n",
      "14 15 16 17 18 19 20\n",
      "21 22 23 24 25 26 27\n",
      "28 29 30 31\n",
      "\n"
     ]
    }
   ],
   "source": [
    "import calendar\n",
    "Año = int(input(\"Digite el Año\"))\n",
    "Mes = int(input(\"Digite el Numero del Mes que desea ver (en el rango de 1 a 12) : \"))\n",
    "\n",
    "print(calendar.month(Año,Mes))"
   ]
  },
  {
   "cell_type": "markdown",
   "metadata": {},
   "source": [
    "### Puede haber cero o más bloques elif, y el bloque else es opcional. La palabra reservada 'elif' es una abreviación de 'else if', y es útil para evitar un sangrado excesivo. Una secuencia if ... elif ... elif ... sustituye las sentencias switch o case encontradas en otros lenguajes."
   ]
  },
  {
   "cell_type": "code",
   "execution_count": 40,
   "metadata": {},
   "outputs": [
    {
     "name": "stdout",
     "output_type": "stream",
     "text": [
      "Digite un Numero : -32425\n",
      "\n",
      "           ----- Para Saber que Tipo de Numero Tiene: -----\n",
      "            +P                 Numero es Positivo\n",
      "            -N                 Numero es Negativo\n",
      "            ~&                 Numero no es 0\n",
      "\n",
      "Clasificacion de el numero que ha introducido : -N\n"
     ]
    }
   ],
   "source": [
    "Numero = int(input(\"Digite un Numero : \"))\n",
    "\n",
    "print(\"\"\"\n",
    "           ----- Para Saber que Tipo de Numero Tiene: -----\n",
    "            +P                 Numero es Positivo\n",
    "            -N                 Numero es Negativo\n",
    "            ~&                 Numero no es 0\n",
    "\"\"\")\n",
    "\n",
    "Respuesta = \"Clasificacion de el numero que ha introducido : \"\n",
    "\n",
    "if Numero < 0 :\n",
    "    print(Respuesta.strip()+\" -N\")\n",
    "elif Numero > 0 :\n",
    "    print(Respuesta.strip()+\" +P\")\n",
    "elif Numero == 0:\n",
    "    print(Respuesta.strip()+\" ~&\")"
   ]
  },
  {
   "cell_type": "markdown",
   "metadata": {},
   "source": [
    "# La Sentencia For"
   ]
  },
  {
   "cell_type": "markdown",
   "metadata": {},
   "source": [
    "###  La sentencia for en Python difiere un poco de lo que uno puede estar acostumbrado en lenguajes como C o Pascal. En lugar de siempre iterar sobre una progresión aritmética de números (como en Pascal) o darle al usuario la posibilidad de definir tanto el paso de la iteración como la condición de fin (como en C), la sentencia for de Python itera sobre los ítems de cualquier secuencia (una lista o una cadena de texto), en el orden que aparecen en la secuencia. Por ejemplo:"
   ]
  },
  {
   "cell_type": "code",
   "execution_count": 2,
   "metadata": {},
   "outputs": [
    {
     "name": "stdout",
     "output_type": "stream",
     "text": [
      "[ JavaScript ] => Logitud de la Palabra es:  10\n",
      "[ Html ] => Logitud de la Palabra es:  4\n",
      "[ Css ] => Logitud de la Palabra es:  3\n",
      "[ TypeScript ] => Logitud de la Palabra es:  10\n",
      "[ NodeJs ] => Logitud de la Palabra es:  6\n",
      "[ Git ] => Logitud de la Palabra es:  3\n"
     ]
    }
   ],
   "source": [
    "Web =['JavaScript','Html','Css','TypeScript','NodeJs','Git']\n",
    "\n",
    "for Lenguaje in Web:\n",
    "    print('[',Lenguaje,'] => Logitud de la Palabra es: ',len(Lenguaje))\n"
   ]
  },
  {
   "cell_type": "markdown",
   "metadata": {},
   "source": [
    "### No es seguro modificar la secuencia sobre la que se está iterando en el lazo (esto solo es posible para tipos de secuencias mutables, como las listas). Si se necesita modificar la lista sobre la que se está iterando (por ejemplo, para duplicar ítems seleccionados) se debe iterar sobre una copia. La notación de rebanada es conveniente para esto:"
   ]
  },
  {
   "cell_type": "code",
   "execution_count": 3,
   "metadata": {},
   "outputs": [
    {
     "name": "stdout",
     "output_type": "stream",
     "text": [
      "['NodeJs', 'TypeScript', 'JavaScript', 'JavaScript', 'Html', 'Css', 'TypeScript', 'NodeJs', 'Git']\n"
     ]
    }
   ],
   "source": [
    "for Item in Web[:]:\n",
    "    if len(Item) > 5 : #si la longitud de la palabra es mayor que 5 entonces se mostrara\n",
    "        Web.insert(0 , Item)# y lo insertamos al principio de la lista \n",
    "        \n",
    "print(Web)        \n",
    "    "
   ]
  },
  {
   "cell_type": "markdown",
   "metadata": {},
   "source": [
    "###  Hacer una copia de seguridad de los datos de los usuarios"
   ]
  },
  {
   "cell_type": "code",
   "execution_count": 5,
   "metadata": {},
   "outputs": [
    {
     "name": "stdout",
     "output_type": "stream",
     "text": [
      "Datos Actuales :  ['Mateo', 'De Paul', 25, '26/10/1990']\n",
      "Copia de Seguridad :  ['Mateo', 'De Paul', 25, '26/10/1990']\n",
      "Copia de Seguridad 1 :  ['26/10/1990', 25, 'De Paul', 'Mateo']\n",
      "Copia de Seguridad 2 :  ['Mateo', 'De Paul', 25, '26/10/1990']\n"
     ]
    }
   ],
   "source": [
    "# se podria copiar directamente asi : \n",
    "CopiaSeguridad2 = DatosPersonales = ['Mateo', 'De Paul', 25 ,'26/10/1990']\n",
    "\n",
    "# pero por obvias razones para aprender el bucle for lo hacemos de esta manera\n",
    "CopiaSeguridad , CopiaSeguridad1 = [] , []\n",
    "\n",
    "for Data in DatosPersonales[:]:\n",
    "    # De estas maneras se puede insertar valores a otro array\n",
    "    CopiaSeguridad1.insert(0,Data)\n",
    "    CopiaSeguridad += [Data]\n",
    "    \n",
    "print(\"Datos Actuales : \", DatosPersonales)\n",
    "print(\"Copia de Seguridad : \", CopiaSeguridad)\n",
    "print(\"Copia de Seguridad 1 : \", CopiaSeguridad1)\n",
    "print(\"Copia de Seguridad 2 : \", CopiaSeguridad2)\n"
   ]
  },
  {
   "cell_type": "markdown",
   "metadata": {},
   "source": [
    "# Funcion Range()"
   ]
  },
  {
   "cell_type": "markdown",
   "metadata": {},
   "source": [
    "###  El valor final dado nunca es parte de la lista; range(10) genera una lista de 10 valores, los índices correspondientes para los ítems de una secuencia de longitud 10. Es posible hacer que el rango empiece con otro número, o especificar un incremento diferente (incluso negativo; algunas veces se lo llama 'paso'):"
   ]
  },
  {
   "cell_type": "code",
   "execution_count": 11,
   "metadata": {},
   "outputs": [
    {
     "data": {
      "text/plain": [
       "range(0, 10)"
      ]
     },
     "execution_count": 11,
     "metadata": {},
     "output_type": "execute_result"
    }
   ],
   "source": [
    "range(10) #[0, 1, 2, 3, 4, 5, 6, 7, 8, 9]"
   ]
  },
  {
   "cell_type": "code",
   "execution_count": 7,
   "metadata": {},
   "outputs": [
    {
     "data": {
      "text/plain": [
       "range(5, 10)"
      ]
     },
     "execution_count": 7,
     "metadata": {},
     "output_type": "execute_result"
    }
   ],
   "source": [
    "range(5,10) #[5, 6, 7, 8, 9]"
   ]
  },
  {
   "cell_type": "code",
   "execution_count": 8,
   "metadata": {},
   "outputs": [
    {
     "data": {
      "text/plain": [
       "range(0, 10, 3)"
      ]
     },
     "execution_count": 8,
     "metadata": {},
     "output_type": "execute_result"
    }
   ],
   "source": [
    "range(0,10,3) #[0, 3, 6, 9]"
   ]
  },
  {
   "cell_type": "code",
   "execution_count": 9,
   "metadata": {},
   "outputs": [
    {
     "data": {
      "text/plain": [
       "range(-10, -100, -30)"
      ]
     },
     "execution_count": 9,
     "metadata": {},
     "output_type": "execute_result"
    }
   ],
   "source": [
    "range(-10,-100,-30) #[-10, -40, -70]"
   ]
  },
  {
   "cell_type": "code",
   "execution_count": 12,
   "metadata": {},
   "outputs": [
    {
     "name": "stdout",
     "output_type": "stream",
     "text": [
      "Hola Mundos: \n",
      "Java :  System.out.print(\"Hola Mundo\")\n",
      "Python :  print(\"Hola Mundo\")\n",
      "JavaScript :  document.write(\"Hola Mundo\")\n",
      "C++ :  cout<<\"Hola Mundo\";\n",
      "C :  printf(\"Hola Mundo\");\n",
      "Php :  echo \"Hola Mundo\"\n",
      "Go :  fmt.Println(\"Hola Mundo\")\n"
     ]
    }
   ],
   "source": [
    "HolaMundos = ['System.out.print(\"Hola Mundo\")','print(\"Hola Mundo\")','document.write(\"Hola Mundo\")','cout<<\"Hola Mundo\";',\n",
    "              'printf(\"Hola Mundo\");','echo \"Hola Mundo\"','fmt.Println(\"Hola Mundo\")']\n",
    "    \n",
    "print(\"Hola Mundos: \")\n",
    "for HolaMundo in range(len(HolaMundos)):\n",
    "    if HolaMundo == 0:\n",
    "        print(\"Java : \",HolaMundos[HolaMundo])\n",
    "    elif HolaMundo == 1:\n",
    "        print(\"Python : \",HolaMundos[HolaMundo])\n",
    "    elif HolaMundo == 2:\n",
    "        print(\"JavaScript : \",HolaMundos[HolaMundo])\n",
    "    elif HolaMundo == 3:\n",
    "        print(\"C++ : \",HolaMundos[HolaMundo])\n",
    "    elif HolaMundo == 4:\n",
    "        print(\"C : \",HolaMundos[HolaMundo])\n",
    "    elif HolaMundo == 5:\n",
    "        print(\"Php : \",HolaMundos[HolaMundo])\n",
    "    elif HolaMundo == 6:\n",
    "        print(\"Go : \",HolaMundos[HolaMundo])\n"
   ]
  },
  {
   "cell_type": "markdown",
   "metadata": {},
   "source": [
    "# Las sentencias break , continue y else en lazos "
   ]
  },
  {
   "cell_type": "markdown",
   "metadata": {},
   "source": [
    "- <h3>La sentencia break, como en C, termina el lazo for o while más anidado.</h3>\n",
    "- <h3>La sentencia continue, también tomada prestada de C, continua con la próxima iteración del lazo.</h3>"
   ]
  },
  {
   "cell_type": "markdown",
   "metadata": {},
   "source": [
    "### Las sentencias de lazo pueden tener una cláusula else que es ejecutada cuando el lazo termina, luego de agotar la lista (con for) a continuacion un ejemplos :"
   ]
  },
  {
   "cell_type": "code",
   "execution_count": 14,
   "metadata": {},
   "outputs": [
    {
     "name": "stdout",
     "output_type": "stream",
     "text": [
      "0 -->  Hola\n",
      "1 -->  Quetal\n",
      "2 -->  Que honda\n",
      "fin del bucle...\n"
     ]
    }
   ],
   "source": [
    "Saludos = ['Hola', 'Quetal' , 'Que honda']\n",
    "\n",
    "for saludo in range(len(Saludos)):\n",
    "    print(saludo,\"--> \",Saludos[saludo])\n",
    "else:\n",
    "    print(\"fin del bucle...\")"
   ]
  },
  {
   "cell_type": "markdown",
   "metadata": {},
   "source": [
    "###  Tambien cuando la condición se hace falsa (con while) aqui tendremos otro ejemplo"
   ]
  },
  {
   "cell_type": "code",
   "execution_count": 4,
   "metadata": {},
   "outputs": [
    {
     "name": "stdout",
     "output_type": "stream",
     "text": [
      "Digite un numero para saber si es Par : 6\n",
      "El Numero es Par ...\n",
      "Digite un numero para saber si es Par : 7\n",
      "El Numero es Impar ...\n"
     ]
    }
   ],
   "source": [
    "Numero = int(input(\"Digite un numero para saber si es Par : \"))\n",
    "\n",
    "while Numero % 2 == 0 :\n",
    "    print(\"El Numero es Par ...\")\n",
    "    Numero = int(input(\"Digite un numero para saber si es Par : \"))\n",
    "else:\n",
    "    print(\"El Numero es Impar ...\")\n",
    "\n"
   ]
  },
  {
   "cell_type": "markdown",
   "metadata": {},
   "source": [
    "### Pero no cuando el lazo es terminado con la sentencia break. Se ejemplifica en el siguiente lazo, que busca números primos:"
   ]
  },
  {
   "cell_type": "code",
   "execution_count": 7,
   "metadata": {},
   "outputs": [
    {
     "name": "stdout",
     "output_type": "stream",
     "text": [
      "2 Es un Numero Primo.\n",
      "3 Es un Numero Primo.\n",
      "4 Es igual a  2 * 2\n",
      "5 Es un Numero Primo.\n",
      "6 Es igual a  2 * 3\n",
      "7 Es un Numero Primo.\n",
      "8 Es igual a  2 * 4\n",
      "9 Es igual a  3 * 3\n"
     ]
    }
   ],
   "source": [
    "for N in range(2,10): # esto nos dara el rango de [2,3,4,5,6,7,8,9] en cada iteracion\n",
    "    for Numero in range(2,N): # y aqui nos dara un rango de [2,....N] dependiendo el valor que toma N\n",
    "        if N % Numero == 0: \n",
    "        # comparamos {N=2} % {Numero=2} == 0 si esto es true significa que N es divisible entre Numero\n",
    "            print (N ,'Es igual a ',Numero,'*',N//Numero )\n",
    "            break\n",
    "    else:\n",
    "        print(N ,'Es un Numero Primo.')\n",
    "    "
   ]
  },
  {
   "cell_type": "markdown",
   "metadata": {},
   "source": [
    "#  La sentencia pass"
   ]
  },
  {
   "cell_type": "markdown",
   "metadata": {},
   "source": [
    "### La sentencia pass no hace nada. Se puede usar cuando una sentencia es requerida por la sintáxis pero el programa no requiere ninguna acción. Por ejemplo:"
   ]
  },
  {
   "cell_type": "code",
   "execution_count": null,
   "metadata": {},
   "outputs": [],
   "source": [
    "while True:\n",
    "    pass"
   ]
  },
  {
   "cell_type": "markdown",
   "metadata": {},
   "source": [
    "###  Se usa normalmente para crear clases en su mínima expresión:"
   ]
  },
  {
   "cell_type": "code",
   "execution_count": null,
   "metadata": {},
   "outputs": [],
   "source": [
    "class Celular:\n",
    "    pass"
   ]
  },
  {
   "cell_type": "markdown",
   "metadata": {},
   "source": [
    "###  Otro lugar donde se puede usar pass es como una marca de lugar para una función o un cuerpo condicional cuando estás trabajando en código nuevo, lo cual te permite pensar a un nivel de abstracción mayor. El pass se ignora silenciosamente"
   ]
  },
  {
   "cell_type": "code",
   "execution_count": null,
   "metadata": {},
   "outputs": [],
   "source": [
    "def ShowMe(self):\n",
    "    pass #Implementar funcionalidad"
   ]
  },
  {
   "cell_type": "markdown",
   "metadata": {},
   "source": [
    "# Definiendo funciones"
   ]
  },
  {
   "cell_type": "code",
   "execution_count": 5,
   "metadata": {},
   "outputs": [
    {
     "name": "stdout",
     "output_type": "stream",
     "text": [
      "1 1 2 3 5 8 13 21 34 55 89 144 233 377 610 987 1597 2584 4181 6765 \n",
      "Termino la Sucesion\n"
     ]
    }
   ],
   "source": [
    "def Fibonacci(Numero):\n",
    "    Antecesor , Actual =  0 , 1  \n",
    "    while Actual < Numero:\n",
    "        print(Actual,end=\" \")\n",
    "        Antecesor , Actual = Actual , Antecesor + Actual \n",
    "    else:\n",
    "        print(\"\\nTermino la Sucesion\")\n",
    "        \n",
    "Fibonacci(10000)"
   ]
  },
  {
   "cell_type": "markdown",
   "metadata": {},
   "source": [
    "###  La definición de una función introduce el nombre de la función en la tabla de símbolos actual. El valor del nombre de la función tiene un tipo que es reconocido por el interprete como una función definida por el usuario. Este valor puede ser asignado a otro nombre que luego puede ser usado como una función. Esto sirve como un mecanismo general para renombrar:"
   ]
  },
  {
   "cell_type": "code",
   "execution_count": 9,
   "metadata": {},
   "outputs": [
    {
     "data": {
      "text/plain": [
       "<function __main__.Fibonacci(Numero)>"
      ]
     },
     "execution_count": 9,
     "metadata": {},
     "output_type": "execute_result"
    }
   ],
   "source": [
    "Fibonacci"
   ]
  },
  {
   "cell_type": "code",
   "execution_count": 7,
   "metadata": {},
   "outputs": [
    {
     "name": "stdout",
     "output_type": "stream",
     "text": [
      "1 1 2 3 5 8 13 21 34 55 89 \n",
      "Termino la Sucesion\n"
     ]
    }
   ],
   "source": [
    "Otro = Fibonacci\n",
    "Otro(100)"
   ]
  },
  {
   "cell_type": "markdown",
   "metadata": {},
   "source": [
    "### Viniendo de otros lenguajes, podés objetar que fib no es una función, sino un procedimiento, porque no devuelve un valor. De hecho, técnicamente hablando, los procedimientos sí retornan un valor, aunque uno aburrido. Este valor se llama None (es un nombre predefinido). El intérprete por lo general no escribe el valor None si va a ser el único valor escrito. Si realmente se quiere, se puede verlo usando print:"
   ]
  },
  {
   "cell_type": "code",
   "execution_count": 13,
   "metadata": {},
   "outputs": [
    {
     "name": "stdout",
     "output_type": "stream",
     "text": [
      "\n",
      "Termino la Sucesion\n",
      "None\n"
     ]
    }
   ],
   "source": [
    "print(Fibonacci(0))"
   ]
  },
  {
   "cell_type": "code",
   "execution_count": 14,
   "metadata": {},
   "outputs": [
    {
     "name": "stdout",
     "output_type": "stream",
     "text": [
      "Digite un Numero : 7895\n",
      "[1, 1, 2, 3, 5, 8, 13, 21, 34, 55, 89, 144, 233, 377, 610, 987, 1597, 2584, 4181, 6765]\n"
     ]
    }
   ],
   "source": [
    "Number = int(input(\"Digite un Numero : \"))\n",
    "def Fibo(Number):\n",
    "    Result = []\n",
    "    Antecesor , Actual = 0 , 1 \n",
    "    while Actual < Number:\n",
    "        Result.append(Actual)\n",
    "        Antecesor , Actual = Actual , Antecesor + Actual\n",
    "        \n",
    "    return Result\n",
    "\n",
    "Aux = Fibo(Number)\n",
    "print(Aux)"
   ]
  },
  {
   "cell_type": "markdown",
   "metadata": {},
   "source": [
    "### La sentencia result.append(b) llama a un método del objeto lista result. Un método es una función que 'pertenece' a un objeto y se nombra obj.methodname, dónde obj es algún objeto (puede ser una expresión), y methodname es el nombre del método que está definido por el tipo del objeto. Distintos tipos definen distintos métodos. Métodos de diferentes tipos pueden tener el mismo nombre sin causar ambigüedad. (Es posible definir tipos de objetos propios, y métodos, usando clases, mirá tut-classes). El método append() mostrado en el ejemplo está definido para objetos lista; añade un nuevo elemento al final de la lista. En este ejemplo es equivalente a result = result + [b], pero más eficiente."
   ]
  },
  {
   "cell_type": "markdown",
   "metadata": {},
   "source": [
    "# Más sobre definición de funciones"
   ]
  },
  {
   "cell_type": "markdown",
   "metadata": {},
   "source": [
    "### También es posible definir funciones con un número variable de argumentos. Hay tres formas que pueden ser combinadas."
   ]
  },
  {
   "cell_type": "markdown",
   "metadata": {},
   "source": [
    "#  Argumentos con valores por omisión\n"
   ]
  },
  {
   "cell_type": "markdown",
   "metadata": {},
   "source": [
    "### La forma más útil es especificar un valor por omisión para uno o más argumentos. Esto crea una función que puede ser llamada con menos argumentos que los que permite. Por ejemplo:"
   ]
  },
  {
   "cell_type": "markdown",
   "metadata": {},
   "source": [
    "### Esta función puede ser llamada de distintas maneras a continuacion veremos ejemplos:\n",
    "- pasando sólo el argumento obligatorio: pedir_confirmacion('¿Realmente queres salir?') \n",
    "- pasando uno de los argumentos opcionales: pedir_confirmacion('¿Sobreescribir archivo?', 2) \n",
    "- o pasando todos los argumentos: pedir_confirmacion('¿Sobreescribir archivo?', 2, \"Vamos, solo si o no!)\n"
   ]
  },
  {
   "cell_type": "markdown",
   "metadata": {},
   "source": [
    "### Pasando sólo el argumento obligatorio: pedir_confirmacion('¿Realmente queres salir?') "
   ]
  },
  {
   "cell_type": "code",
   "execution_count": 4,
   "metadata": {},
   "outputs": [
    {
     "name": "stdout",
     "output_type": "stream",
     "text": [
      "¿Realmente queres salir?dfa;l\n",
      "Si o No, por fabor!\n",
      "¿Realmente queres salir?sdlfklgweri\n",
      "Si o No, por fabor!\n",
      "¿Realmente queres salir?hola como estas\n",
      "Si o No, por fabor!\n",
      "¿Realmente queres salir?dime rapido no tengo mucho tiempo\n",
      "Si o No, por fabor!\n",
      "¿Realmente queres salir?este es mi ultimo intento dime rapido\n"
     ]
    },
    {
     "ename": "OSError",
     "evalue": "Usuario Duro",
     "output_type": "error",
     "traceback": [
      "\u001b[1;31m---------------------------------------------------------------------------\u001b[0m",
      "\u001b[1;31mOSError\u001b[0m                                   Traceback (most recent call last)",
      "\u001b[1;32m<ipython-input-4-1685be41f89d>\u001b[0m in \u001b[0;36m<module>\u001b[1;34m\u001b[0m\n\u001b[0;32m     15\u001b[0m         \u001b[0mprint\u001b[0m\u001b[1;33m(\u001b[0m\u001b[0mQueja\u001b[0m\u001b[1;33m)\u001b[0m\u001b[1;33m\u001b[0m\u001b[1;33m\u001b[0m\u001b[0m\n\u001b[0;32m     16\u001b[0m \u001b[1;33m\u001b[0m\u001b[0m\n\u001b[1;32m---> 17\u001b[1;33m \u001b[0mConfirmacion\u001b[0m\u001b[1;33m(\u001b[0m\u001b[1;34m'¿Realmente queres salir?'\u001b[0m\u001b[1;33m)\u001b[0m\u001b[1;33m\u001b[0m\u001b[1;33m\u001b[0m\u001b[0m\n\u001b[0m\u001b[0;32m     18\u001b[0m \u001b[1;33m\u001b[0m\u001b[0m\n",
      "\u001b[1;32m<ipython-input-4-1685be41f89d>\u001b[0m in \u001b[0;36mConfirmacion\u001b[1;34m(Entrada, Reintentos, Queja)\u001b[0m\n\u001b[0;32m     11\u001b[0m \u001b[1;33m\u001b[0m\u001b[0m\n\u001b[0;32m     12\u001b[0m         \u001b[1;32mif\u001b[0m \u001b[0mReintentos\u001b[0m \u001b[1;33m<=\u001b[0m \u001b[1;36m0\u001b[0m\u001b[1;33m:\u001b[0m\u001b[1;33m\u001b[0m\u001b[1;33m\u001b[0m\u001b[0m\n\u001b[1;32m---> 13\u001b[1;33m             \u001b[1;32mraise\u001b[0m \u001b[0mIOError\u001b[0m\u001b[1;33m(\u001b[0m\u001b[1;34m'Usuario Duro'\u001b[0m\u001b[1;33m)\u001b[0m\u001b[1;33m\u001b[0m\u001b[1;33m\u001b[0m\u001b[0m\n\u001b[0m\u001b[0;32m     14\u001b[0m \u001b[1;33m\u001b[0m\u001b[0m\n\u001b[0;32m     15\u001b[0m         \u001b[0mprint\u001b[0m\u001b[1;33m(\u001b[0m\u001b[0mQueja\u001b[0m\u001b[1;33m)\u001b[0m\u001b[1;33m\u001b[0m\u001b[1;33m\u001b[0m\u001b[0m\n",
      "\u001b[1;31mOSError\u001b[0m: Usuario Duro"
     ]
    }
   ],
   "source": [
    "def Confirmacion(Entrada, Reintentos = 5 , Queja = 'Si o No, por fabor!'):\n",
    "    while True:\n",
    "        Respuesta = input(Entrada)\n",
    "        \n",
    "        if Respuesta in ('s','S','si','Si','SI','sI'):\n",
    "            return True\n",
    "        if Respuesta in ('n','N','no','No','nO','NO'):\n",
    "            return False\n",
    "        \n",
    "        Reintentos -= 1\n",
    "        \n",
    "        if Reintentos <= 0:\n",
    "            raise IOError('Usuario Duro')\n",
    "        \n",
    "        print(Queja)\n",
    "        \n",
    "Confirmacion('¿Realmente queres salir?')        \n",
    "        "
   ]
  },
  {
   "cell_type": "markdown",
   "metadata": {},
   "source": [
    "### Pasando uno de los argumentos opcionales: pedir_confirmacion('¿Sobreescribir archivo?', 2) "
   ]
  },
  {
   "cell_type": "code",
   "execution_count": 9,
   "metadata": {},
   "outputs": [
    {
     "name": "stdout",
     "output_type": "stream",
     "text": [
      "¿Sobreescribir archivo?tw43t\n",
      "Si o No, por fabor!\n",
      "¿Sobreescribir archivo?4t2425\n",
      "Si o No, por fabor!\n",
      "¿Sobreescribir archivo?tw6t434\n"
     ]
    },
    {
     "ename": "OSError",
     "evalue": "Usuario Duro",
     "output_type": "error",
     "traceback": [
      "\u001b[1;31m---------------------------------------------------------------------------\u001b[0m",
      "\u001b[1;31mOSError\u001b[0m                                   Traceback (most recent call last)",
      "\u001b[1;32m<ipython-input-9-0983e8ca1ed1>\u001b[0m in \u001b[0;36m<module>\u001b[1;34m\u001b[0m\n\u001b[1;32m----> 1\u001b[1;33m \u001b[0mConfirmacion\u001b[0m\u001b[1;33m(\u001b[0m\u001b[1;34m'¿Sobreescribir archivo?'\u001b[0m\u001b[1;33m,\u001b[0m \u001b[1;36m2\u001b[0m\u001b[1;33m)\u001b[0m\u001b[1;33m\u001b[0m\u001b[1;33m\u001b[0m\u001b[0m\n\u001b[0m",
      "\u001b[1;32m<ipython-input-8-0b694f6088fd>\u001b[0m in \u001b[0;36mConfirmacion\u001b[1;34m(Entrada, Reintentos, Queja)\u001b[0m\n\u001b[0;32m      8\u001b[0m         \u001b[0mReintentos\u001b[0m \u001b[1;33m-=\u001b[0m \u001b[1;36m1\u001b[0m\u001b[1;33m\u001b[0m\u001b[1;33m\u001b[0m\u001b[0m\n\u001b[0;32m      9\u001b[0m         \u001b[1;32mif\u001b[0m \u001b[0mReintentos\u001b[0m \u001b[1;33m<\u001b[0m \u001b[1;36m0\u001b[0m\u001b[1;33m:\u001b[0m\u001b[1;33m\u001b[0m\u001b[1;33m\u001b[0m\u001b[0m\n\u001b[1;32m---> 10\u001b[1;33m             \u001b[1;32mraise\u001b[0m \u001b[0mIOError\u001b[0m\u001b[1;33m(\u001b[0m\u001b[1;34m'Usuario Duro'\u001b[0m\u001b[1;33m)\u001b[0m\u001b[1;33m\u001b[0m\u001b[1;33m\u001b[0m\u001b[0m\n\u001b[0m\u001b[0;32m     11\u001b[0m         \u001b[0mprint\u001b[0m\u001b[1;33m(\u001b[0m\u001b[0mQueja\u001b[0m\u001b[1;33m)\u001b[0m\u001b[1;33m\u001b[0m\u001b[1;33m\u001b[0m\u001b[0m\n\u001b[0;32m     12\u001b[0m \u001b[1;33m\u001b[0m\u001b[0m\n",
      "\u001b[1;31mOSError\u001b[0m: Usuario Duro"
     ]
    }
   ],
   "source": [
    "#Me dispara el error a la tercera iteracion porque le pasamos como argumento el 2\n",
    "Confirmacion('¿Sobreescribir archivo?', 2)"
   ]
  },
  {
   "cell_type": "markdown",
   "metadata": {},
   "source": [
    "### O pasando todos los argumentos: pedir_confirmacion('¿Sobreescribir archivo?', 2, \"Vamos, solo si o no!)"
   ]
  },
  {
   "cell_type": "code",
   "execution_count": 6,
   "metadata": {},
   "outputs": [
    {
     "name": "stdout",
     "output_type": "stream",
     "text": [
      "¿Sobreescribir archivo?enserio no me diras rapido rapido permiso rapido\n"
     ]
    },
    {
     "ename": "OSError",
     "evalue": "Usuario Duro",
     "output_type": "error",
     "traceback": [
      "\u001b[1;31m---------------------------------------------------------------------------\u001b[0m",
      "\u001b[1;31mOSError\u001b[0m                                   Traceback (most recent call last)",
      "\u001b[1;32m<ipython-input-6-a1caee21e064>\u001b[0m in \u001b[0;36m<module>\u001b[1;34m\u001b[0m\n\u001b[0;32m      1\u001b[0m \u001b[1;31m# como se ve en la queja se muestra el nuevo argumento introducidob\u001b[0m\u001b[1;33m\u001b[0m\u001b[1;33m\u001b[0m\u001b[1;33m\u001b[0m\u001b[0m\n\u001b[1;32m----> 2\u001b[1;33m \u001b[0mConfirmacion\u001b[0m\u001b[1;33m(\u001b[0m\u001b[1;34m'¿Sobreescribir archivo?'\u001b[0m\u001b[1;33m,\u001b[0m \u001b[1;36m1\u001b[0m\u001b[1;33m,\u001b[0m \u001b[1;34m\"Vamos, solo si o no!\"\u001b[0m\u001b[1;33m)\u001b[0m\u001b[1;33m\u001b[0m\u001b[1;33m\u001b[0m\u001b[0m\n\u001b[0m",
      "\u001b[1;32m<ipython-input-4-1685be41f89d>\u001b[0m in \u001b[0;36mConfirmacion\u001b[1;34m(Entrada, Reintentos, Queja)\u001b[0m\n\u001b[0;32m     11\u001b[0m \u001b[1;33m\u001b[0m\u001b[0m\n\u001b[0;32m     12\u001b[0m         \u001b[1;32mif\u001b[0m \u001b[0mReintentos\u001b[0m \u001b[1;33m<=\u001b[0m \u001b[1;36m0\u001b[0m\u001b[1;33m:\u001b[0m\u001b[1;33m\u001b[0m\u001b[1;33m\u001b[0m\u001b[0m\n\u001b[1;32m---> 13\u001b[1;33m             \u001b[1;32mraise\u001b[0m \u001b[0mIOError\u001b[0m\u001b[1;33m(\u001b[0m\u001b[1;34m'Usuario Duro'\u001b[0m\u001b[1;33m)\u001b[0m\u001b[1;33m\u001b[0m\u001b[1;33m\u001b[0m\u001b[0m\n\u001b[0m\u001b[0;32m     14\u001b[0m \u001b[1;33m\u001b[0m\u001b[0m\n\u001b[0;32m     15\u001b[0m         \u001b[0mprint\u001b[0m\u001b[1;33m(\u001b[0m\u001b[0mQueja\u001b[0m\u001b[1;33m)\u001b[0m\u001b[1;33m\u001b[0m\u001b[1;33m\u001b[0m\u001b[0m\n",
      "\u001b[1;31mOSError\u001b[0m: Usuario Duro"
     ]
    }
   ],
   "source": [
    "# como se ve en la queja se muestra el nuevo argumento introducidob\n",
    "Confirmacion('¿Sobreescribir archivo?', 1, \"Vamos, solo si o no!\")"
   ]
  },
  {
   "cell_type": "markdown",
   "metadata": {},
   "source": [
    "### Este ejemplo también introduce la palabra reservada in, la cual prueba si una secuencia contiene o no un determinado valor.\n",
    "### Los valores por omisión son evaluados en el momento de la definición de la función, en el ámbito de la definición, entonces:\n"
   ]
  },
  {
   "cell_type": "markdown",
   "metadata": {},
   "source": [
    "##  Ejemplo de Valores por Omision"
   ]
  },
  {
   "cell_type": "code",
   "execution_count": 4,
   "metadata": {},
   "outputs": [
    {
     "name": "stdout",
     "output_type": "stream",
     "text": [
      "Deseas Suscribirse a Netflix??dfssdfs\n",
      "Deseas Suscribirse a Netflix??sdfg\n",
      "Deseas Suscribirse a Netflix??n\n",
      "Estas Seguro??\n"
     ]
    },
    {
     "data": {
      "text/plain": [
       "'Bueno Ni modo Adios'"
      ]
     },
     "execution_count": 4,
     "metadata": {},
     "output_type": "execute_result"
    }
   ],
   "source": [
    "def SuscribirseANetflix(CantidadAvisos = 3 ,  Pregunta = \"Deseas Suscribirse a Netflix??\" , LastAviso = \"Enserio no Quiere suscribirse a Netflix??\"):\n",
    "    \n",
    "    while True:\n",
    "        RespUser = input(Pregunta)\n",
    "        \n",
    "        if RespUser in ('s','si','Si','sI','SI','y','Yes','yes'):\n",
    "            return \"Te has Suscrito a Netflix\"\n",
    "        if RespUser in ('n','no','No','nO','NO'):\n",
    "            print(\"Estas Seguro??\")\n",
    "            return \"Bueno Ni modo Adios\"\n",
    "        \n",
    "        CantidadAvisos -= 1\n",
    "        \n",
    "        if CantidadAvisos <= 0 :\n",
    "            return LastAviso + \"Bueno Adios\"\n",
    "            \n",
    "# Aqui llamamos a la funcion por defecto         \n",
    "SuscribirseANetflix()        \n",
    "    "
   ]
  },
  {
   "cell_type": "code",
   "execution_count": 6,
   "metadata": {},
   "outputs": [
    {
     "name": "stdout",
     "output_type": "stream",
     "text": [
      "Deseas Suscribirse a Netflix??as;dfl\n",
      "Deseas Suscribirse a Netflix??asdf\n",
      "Deseas Suscribirse a Netflix??wer\n",
      "Deseas Suscribirse a Netflix??ghd\n",
      "Deseas Suscribirse a Netflix??f2qwe\n",
      "Deseas Suscribirse a Netflix??rptyoeuri\n",
      "Deseas Suscribirse a Netflix??rapido\n"
     ]
    },
    {
     "data": {
      "text/plain": [
       "'Enserio no Quiere suscribirse a Netflix??Bueno Adios'"
      ]
     },
     "execution_count": 6,
     "metadata": {},
     "output_type": "execute_result"
    }
   ],
   "source": [
    "#Aqui llamaremos a la funcion cambiando el parametro de la CantidadAvisos\n",
    "#como se cambia la cantidad de veces que insiste el programa pues habra mayor cantidad de Avisos\n",
    "SuscribirseANetflix(7) "
   ]
  },
  {
   "cell_type": "code",
   "execution_count": 7,
   "metadata": {},
   "outputs": [
    {
     "name": "stdout",
     "output_type": "stream",
     "text": [
      "Bienvenido a Netflix, Suscribete!!sdfsfga\n",
      "Bienvenido a Netflix, Suscribete!!asdfasg\n",
      "Bienvenido a Netflix, Suscribete!!aerwer\n",
      "Bienvenido a Netflix, Suscribete!!hdtdglk\n",
      "Bienvenido a Netflix, Suscribete!!gsdflkj\n"
     ]
    },
    {
     "data": {
      "text/plain": [
       "'Enserio no Quiere suscribirse a Netflix??Bueno Adios'"
      ]
     },
     "execution_count": 7,
     "metadata": {},
     "output_type": "execute_result"
    }
   ],
   "source": [
    "# aqui cambiaremos el numero de Avisos y tambien el mensaje del aviso\n",
    "#como se puede ver el mensaje cambia y muestra lo que queremos\n",
    "SuscribirseANetflix(5, \"Bienvenido a Netflix, Suscribete!!\")"
   ]
  },
  {
   "cell_type": "code",
   "execution_count": 8,
   "metadata": {},
   "outputs": [
    {
     "name": "stdout",
     "output_type": "stream",
     "text": [
      "Suscribete a Netflix!!!as;dlkfja\n",
      "Suscribete a Netflix!!!rtweurpa\n",
      "Suscribete a Netflix!!!rapido\n"
     ]
    },
    {
     "data": {
      "text/plain": [
       "'No te suscribiste para envano tienes internet XD Bueno Adios'"
      ]
     },
     "execution_count": 8,
     "metadata": {},
     "output_type": "execute_result"
    }
   ],
   "source": [
    "#Por ultimo cambiaremos el mensaje de LastAviso o el ultimo aviso que se da cuando no nos suscribimos a netflix\n",
    "#como poder ver se cambio el ultimo mensaje del programa y asi podemos alterar nuestros parametros de una funcion\n",
    "SuscribirseANetflix(3, \"Suscribete a Netflix!!!\", \"No te suscribiste para envano tienes internet XD \")"
   ]
  },
  {
   "cell_type": "code",
   "execution_count": 9,
   "metadata": {},
   "outputs": [
    {
     "name": "stdout",
     "output_type": "stream",
     "text": [
      "99\n"
     ]
    }
   ],
   "source": [
    "Num = 99\n",
    "\n",
    "def Numero (Arg = Num):\n",
    "    print(Arg)\n",
    "    \n",
    "Num = 100\n",
    "\n",
    "Numero()"
   ]
  },
  {
   "cell_type": "markdown",
   "metadata": {},
   "source": [
    "####  ...imprimirá 99\n",
    "#### Advertencia importante: El valor por omisión es evaluado solo una vez. Existe una diferencia cuando el valor por omisión es un objeto mutable como una lista, diccionario, o instancia de la mayoría de las clases. Por ejemplo, la siguiente función acumula los argumentos que se le pasan en subsiguientes llamadas:\n"
   ]
  },
  {
   "cell_type": "code",
   "execution_count": 12,
   "metadata": {},
   "outputs": [
    {
     "name": "stdout",
     "output_type": "stream",
     "text": [
      "['Python']\n",
      "['Python', 'JavaScript']\n",
      "['Python', 'JavaScript', 'Java']\n",
      "['Python', 'JavaScript', 'Java', 'C']\n"
     ]
    }
   ],
   "source": [
    "def LenguajesDeProgramacion(Data, Lenguajes = []):\n",
    "    Lenguajes.append(Data)\n",
    "    print(Lenguajes)\n",
    "\n",
    "# y asi en las subsiguientes llamadas se va llenando el array\n",
    "LenguajesDeProgramacion('Python')\n",
    "LenguajesDeProgramacion('JavaScript')\n",
    "LenguajesDeProgramacion('Java')\n",
    "LenguajesDeProgramacion('C')"
   ]
  },
  {
   "cell_type": "markdown",
   "metadata": {},
   "source": [
    "#### Si no se quiere que el valor por omisión sea compartido entre subsiguientes llamadas, se pueden escribir la función así:"
   ]
  },
  {
   "cell_type": "code",
   "execution_count": 18,
   "metadata": {},
   "outputs": [
    {
     "data": {
      "text/plain": [
       "['Aleman']"
      ]
     },
     "execution_count": 18,
     "metadata": {},
     "output_type": "execute_result"
    }
   ],
   "source": [
    "def Lenguajes(Data, Leng = None):\n",
    "    if Leng is None: #y claro que siempre se cumplira a no ser que le introduzcamos un array como argumento\n",
    "        Leng = [] #se VACIA EL ARRAY\n",
    "    \n",
    "    Leng.append(Data)\n",
    "    return Leng\n",
    "\n",
    "# y asi el Array solo recibe el valor actual que le pasemos como argumento\n",
    "Lenguajes(\"Ingles\")\n",
    "Lenguajes(\"Castellano\")\n",
    "Lenguajes(\"Aleman\")"
   ]
  },
  {
   "cell_type": "markdown",
   "metadata": {},
   "source": [
    "# Palabras Claves como Argumentos"
   ]
  },
  {
   "cell_type": "markdown",
   "metadata": {},
   "source": [
    "### Las funciones también puede ser llamadas nombrando a los argumentos de la forma keyword = value. Por ejemplo, la siguiente función:"
   ]
  },
  {
   "cell_type": "code",
   "execution_count": 19,
   "metadata": {},
   "outputs": [],
   "source": [
    "def Lenguaje(Nombre, Utilidad = \"IA\", Version = 3.8, Libreria = \"Numpy\"):\n",
    "    print(\"El Lenguaje de Programacion \",Nombre)\n",
    "    print(\"Es Muy util para desarrollar \",Utilidad, \" como programador \")\n",
    "    print(\"Y tiene un muy buena libreria que es \", Libreria)\n",
    "    print(\"Su ultima Version es \",Version)"
   ]
  },
  {
   "cell_type": "markdown",
   "metadata": {},
   "source": [
    "#### Puede ser llamada de cualquiera de las siguientes formas:"
   ]
  },
  {
   "cell_type": "code",
   "execution_count": 20,
   "metadata": {},
   "outputs": [
    {
     "name": "stdout",
     "output_type": "stream",
     "text": [
      "El Lenguaje de Programacion  Python\n",
      "Es Muy util para desarrollar  IA  como programador \n",
      "Y tiene un muy buena libreria que es  Numpy\n",
      "Su ultima Version es  3.8\n"
     ]
    }
   ],
   "source": [
    "Lenguaje('Python')"
   ]
  },
  {
   "cell_type": "code",
   "execution_count": 21,
   "metadata": {},
   "outputs": [
    {
     "name": "stdout",
     "output_type": "stream",
     "text": [
      "El Lenguaje de Programacion  JavaScript\n",
      "Es Muy util para desarrollar  Web  como programador \n",
      "Y tiene un muy buena libreria que es  Numpy\n",
      "Su ultima Version es  3.8\n"
     ]
    }
   ],
   "source": [
    "Lenguaje(Utilidad = \"Web\" ,Nombre = 'JavaScript')"
   ]
  },
  {
   "cell_type": "code",
   "execution_count": 22,
   "metadata": {},
   "outputs": [
    {
     "name": "stdout",
     "output_type": "stream",
     "text": [
      "El Lenguaje de Programacion  Java\n",
      "Es Muy util para desarrollar  Aplicaciones Android, etc  como programador \n",
      "Y tiene un muy buena libreria que es  Numpy\n",
      "Su ultima Version es  3.8\n"
     ]
    }
   ],
   "source": [
    "Lenguaje('Java', Utilidad = \"Aplicaciones Android, etc\")"
   ]
  },
  {
   "cell_type": "code",
   "execution_count": 23,
   "metadata": {},
   "outputs": [
    {
     "name": "stdout",
     "output_type": "stream",
     "text": [
      "El Lenguaje de Programacion  Java\n",
      "Es Muy util para desarrollar  Aplicaciones de Escritorio  como programador \n",
      "Y tiene un muy buena libreria que es  Numpy\n",
      "Su ultima Version es  12.4\n"
     ]
    }
   ],
   "source": [
    "Lenguaje('Java', 'Aplicaciones de Escritorio', 12.4)"
   ]
  },
  {
   "cell_type": "markdown",
   "metadata": {},
   "source": [
    "#### ...pero estas otras llamadas serían todas inválidas:"
   ]
  },
  {
   "cell_type": "code",
   "execution_count": 24,
   "metadata": {},
   "outputs": [
    {
     "ename": "TypeError",
     "evalue": "Lenguaje() missing 1 required positional argument: 'Nombre'",
     "output_type": "error",
     "traceback": [
      "\u001b[1;31m---------------------------------------------------------------------------\u001b[0m",
      "\u001b[1;31mTypeError\u001b[0m                                 Traceback (most recent call last)",
      "\u001b[1;32m<ipython-input-24-656630b98f88>\u001b[0m in \u001b[0;36m<module>\u001b[1;34m\u001b[0m\n\u001b[1;32m----> 1\u001b[1;33m \u001b[0mLenguaje\u001b[0m\u001b[1;33m(\u001b[0m\u001b[1;33m)\u001b[0m\u001b[1;33m\u001b[0m\u001b[1;33m\u001b[0m\u001b[0m\n\u001b[0m",
      "\u001b[1;31mTypeError\u001b[0m: Lenguaje() missing 1 required positional argument: 'Nombre'"
     ]
    }
   ],
   "source": [
    "Lenguaje()#Falta de Argumento Obligatorio"
   ]
  },
  {
   "cell_type": "code",
   "execution_count": 25,
   "metadata": {},
   "outputs": [
    {
     "ename": "SyntaxError",
     "evalue": "positional argument follows keyword argument (<ipython-input-25-af83cfb4987d>, line 1)",
     "output_type": "error",
     "traceback": [
      "\u001b[1;36m  File \u001b[1;32m\"<ipython-input-25-af83cfb4987d>\"\u001b[1;36m, line \u001b[1;32m1\u001b[0m\n\u001b[1;33m    Lenguaje(Nombre = \"C++\", \"Sistemas Operativos\")\u001b[0m\n\u001b[1;37m                            ^\u001b[0m\n\u001b[1;31mSyntaxError\u001b[0m\u001b[1;31m:\u001b[0m positional argument follows keyword argument\n"
     ]
    }
   ],
   "source": [
    "Lenguaje(Nombre = \"C++\", \"Sistemas Operativos\")#Argumento nombrado seguido de un Posicional"
   ]
  },
  {
   "cell_type": "code",
   "execution_count": 26,
   "metadata": {},
   "outputs": [
    {
     "ename": "TypeError",
     "evalue": "Lenguaje() got multiple values for argument 'Nombre'",
     "output_type": "error",
     "traceback": [
      "\u001b[1;31m---------------------------------------------------------------------------\u001b[0m",
      "\u001b[1;31mTypeError\u001b[0m                                 Traceback (most recent call last)",
      "\u001b[1;32m<ipython-input-26-a2444fdd993a>\u001b[0m in \u001b[0;36m<module>\u001b[1;34m\u001b[0m\n\u001b[1;32m----> 1\u001b[1;33m \u001b[0mLenguaje\u001b[0m\u001b[1;33m(\u001b[0m\u001b[1;34m\"C\"\u001b[0m\u001b[1;33m,\u001b[0m\u001b[0mNombre\u001b[0m \u001b[1;33m=\u001b[0m \u001b[1;34m\"C#\"\u001b[0m\u001b[1;33m)\u001b[0m\u001b[1;33m\u001b[0m\u001b[1;33m\u001b[0m\u001b[0m\n\u001b[0m",
      "\u001b[1;31mTypeError\u001b[0m: Lenguaje() got multiple values for argument 'Nombre'"
     ]
    }
   ],
   "source": [
    "Lenguaje(\"C\",Nombre = \"C#\")#valor duplicado del mismo argumento"
   ]
  },
  {
   "cell_type": "code",
   "execution_count": 27,
   "metadata": {},
   "outputs": [
    {
     "ename": "TypeError",
     "evalue": "Lenguaje() got an unexpected keyword argument 'Creacion'",
     "output_type": "error",
     "traceback": [
      "\u001b[1;31m---------------------------------------------------------------------------\u001b[0m",
      "\u001b[1;31mTypeError\u001b[0m                                 Traceback (most recent call last)",
      "\u001b[1;32m<ipython-input-27-a24e1e835e66>\u001b[0m in \u001b[0;36m<module>\u001b[1;34m\u001b[0m\n\u001b[1;32m----> 1\u001b[1;33m \u001b[0mLenguaje\u001b[0m\u001b[1;33m(\u001b[0m\u001b[0mCreacion\u001b[0m \u001b[1;33m=\u001b[0m \u001b[1;34m\"1990\"\u001b[0m\u001b[1;33m)\u001b[0m\u001b[1;33m\u001b[0m\u001b[1;33m\u001b[0m\u001b[0m\n\u001b[0m",
      "\u001b[1;31mTypeError\u001b[0m: Lenguaje() got an unexpected keyword argument 'Creacion'"
     ]
    }
   ],
   "source": [
    "Lenguaje(Creacion = \"1990\") #Palabra clave desconocida (osea que Argumento no existe)"
   ]
  },
  {
   "cell_type": "markdown",
   "metadata": {},
   "source": [
    "### En general, una lista de argumentos debe tener todos sus argumentos posicionales seguidos por los argumentos nombrados, dónde las palabras claves deben ser elegidas entre los nombres de los parámetros formales. No es importante si un parámetro formal tiene un valor por omisión o no. Ningún argumento puede recibir un valor más de una vez (los nombres de parámetros formales correspondientes a argumentos posicionales no pueden ser usados como palabras clave en la misma llamada). Aquí hay un ejemplo que falla debido a esta restricción:"
   ]
  },
  {
   "cell_type": "code",
   "execution_count": 28,
   "metadata": {},
   "outputs": [
    {
     "ename": "TypeError",
     "evalue": "Prueba() got multiple values for argument 'Parametro'",
     "output_type": "error",
     "traceback": [
      "\u001b[1;31m---------------------------------------------------------------------------\u001b[0m",
      "\u001b[1;31mTypeError\u001b[0m                                 Traceback (most recent call last)",
      "\u001b[1;32m<ipython-input-28-80ed5da40a51>\u001b[0m in \u001b[0;36m<module>\u001b[1;34m\u001b[0m\n\u001b[0;32m      2\u001b[0m     \u001b[1;32mpass\u001b[0m\u001b[1;33m\u001b[0m\u001b[1;33m\u001b[0m\u001b[0m\n\u001b[0;32m      3\u001b[0m \u001b[1;33m\u001b[0m\u001b[0m\n\u001b[1;32m----> 4\u001b[1;33m \u001b[0mPrueba\u001b[0m\u001b[1;33m(\u001b[0m\u001b[1;36m9\u001b[0m\u001b[1;33m,\u001b[0m \u001b[0mParametro\u001b[0m \u001b[1;33m=\u001b[0m \u001b[1;36m999\u001b[0m\u001b[1;33m)\u001b[0m\u001b[1;33m\u001b[0m\u001b[1;33m\u001b[0m\u001b[0m\n\u001b[0m",
      "\u001b[1;31mTypeError\u001b[0m: Prueba() got multiple values for argument 'Parametro'"
     ]
    }
   ],
   "source": [
    "def Prueba(Parametro):\n",
    "    pass\n",
    "\n",
    "Prueba(9, Parametro = 999)"
   ]
  },
  {
   "cell_type": "markdown",
   "metadata": {},
   "source": [
    "# Continua en la Pagina 35 falta acabar la 35"
   ]
  }
 ],
 "metadata": {
  "kernelspec": {
   "display_name": "Python 3",
   "language": "python",
   "name": "python3"
  },
  "language_info": {
   "codemirror_mode": {
    "name": "ipython",
    "version": 3
   },
   "file_extension": ".py",
   "mimetype": "text/x-python",
   "name": "python",
   "nbconvert_exporter": "python",
   "pygments_lexer": "ipython3",
   "version": "3.7.6"
  }
 },
 "nbformat": 4,
 "nbformat_minor": 4
}
