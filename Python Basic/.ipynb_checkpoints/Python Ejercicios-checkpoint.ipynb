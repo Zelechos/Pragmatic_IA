{
 "cells": [
  {
   "cell_type": "markdown",
   "metadata": {},
   "source": [
    "### Ejercicio 0"
   ]
  },
  {
   "cell_type": "markdown",
   "metadata": {},
   "source": [
    "El ácido desoxirribonucleico (ADN) es una sustancia química que se encuentra en el núcleo de las células y lleva las \"instrucciones\" para el desarrollo y funcionamiento de los organismos vivos.\n",
    "\n",
    "Si quieres saber más http://en.wikipedia.org/wiki/DNA\n",
    "\n",
    "En las cadenas de ADN, los símbolos \"A\" y \"T\" son complementarios entre sí, como \"C\" y \"G\". Tienes función con un lado del ADN (cadena, excepto Haskell); necesitas obtener el otro lado complementario. La hebra de ADN nunca está vacía o no hay ADN en absoluto (nuevamente, a excepción de Haskell).\n",
    "\n",
    "Más ejercicios similares se encuentran aquí http://rosalind.info/problems/list-view/ (fuente)\n",
    "\n",
    "Ejemplo:\n",
    "La funcion debe llevar el nombre (DNA_strand)\n",
    "\n",
    "```Python\n",
    "  DNA_strand (\"ATTGC\") # return \"TAACG\"\n",
    "  DNA_strand (\"GTAT\")  # return \"CATA\"\n",
    "```"
   ]
  },
  {
   "cell_type": "code",
   "execution_count": 4,
   "metadata": {},
   "outputs": [
    {
     "name": "stdout",
     "output_type": "stream",
     "text": [
      "Prueba 1 :\n",
      "TAACG\n",
      "Prueba 2 :\n",
      "CATA\n"
     ]
    }
   ],
   "source": [
    "def DNA_strand(dna):\n",
    "    word = { \"A\":\"T\",\"T\":\"A\",\"G\":\"C\",\"C\":\"G\"}\n",
    "    return \"\".join([word[X] for X in dna])\n",
    "\n",
    "print('Prueba 1 :')\n",
    "print(DNA_strand(\"ATTGC\"))\n",
    "print('Prueba 2 :')\n",
    "print(DNA_strand(\"GTAT\"))"
   ]
  }
 ],
 "metadata": {
  "kernelspec": {
   "display_name": "Python 3",
   "language": "python",
   "name": "python3"
  },
  "language_info": {
   "codemirror_mode": {
    "name": "ipython",
    "version": 3
   },
   "file_extension": ".py",
   "mimetype": "text/x-python",
   "name": "python",
   "nbconvert_exporter": "python",
   "pygments_lexer": "ipython3",
   "version": "3.7.6"
  }
 },
 "nbformat": 4,
 "nbformat_minor": 4
}
