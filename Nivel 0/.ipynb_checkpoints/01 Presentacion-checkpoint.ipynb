{
 "cells": [
  {
   "cell_type": "markdown",
   "metadata": {},
   "source": [
    "<h1 style=\"font-size: 50px; text-align:center;color:##5E2692; \"> INTELIGENCIA ARTIFICIAL</h1>\n",
    "\n",
    "<h4 style=\"font-size: 15px; text-align:right;color:##5E2692; \">por Tumiri Huanca Alex</h4>"
   ]
  },
  {
   "cell_type": "markdown",
   "metadata": {},
   "source": [
    "<a href=\"https://github.com/Zelechos\"><img src=\"GitHub.png\"></a>"
   ]
  },
  {
   "cell_type": "markdown",
   "metadata": {},
   "source": [
    "## Requisitos\n",
    "### Click en los nombres para ir a los Repositorios\n",
    "<ul>\n",
    "    <li><a href=\"https://github.com/Zelechos\" stakeholder=\"_blank\">Matematicas</a></li>\n",
    "    <li><a href=\"https://github.com/Zelechos/Python_IA\" stakeholder=\"_blank\">Programacion de preferencia (Python)</a></li>\n",
    "    <li><a href=\"https://github.com/Zelechos\" stakeholder=\"_blank\">Bases de Datos</a></li>\n",
    "    <li><a href=\"https://github.com/Zelechos\" stakeholder=\"_blank\">Expresiones Regulares</a></li>\n",
    "    <li><a href=\"https://github.com/Zelechos\" stakeholder=\"_blank\">Lenguajes Formales</a></li>\n",
    "</ul>"
   ]
  }
 ],
 "metadata": {
  "kernelspec": {
   "display_name": "Python 3",
   "language": "python",
   "name": "python3"
  },
  "language_info": {
   "codemirror_mode": {
    "name": "ipython",
    "version": 3
   },
   "file_extension": ".py",
   "mimetype": "text/x-python",
   "name": "python",
   "nbconvert_exporter": "python",
   "pygments_lexer": "ipython3",
   "version": "3.7.6"
  }
 },
 "nbformat": 4,
 "nbformat_minor": 4
}
